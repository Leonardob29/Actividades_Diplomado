{
 "cells": [
  {
   "cell_type": "markdown",
   "metadata": {
    "id": "Mikan0gmhr7a"
   },
   "source": [
    "# **Análisis de sentimientos sobre los comentarios de las películas y videos de Amazon**"
   ]
  },
  {
   "cell_type": "markdown",
   "metadata": {
    "id": "7OoFw8X-hr7d"
   },
   "source": [
    "## ***INTRODUCCIÓN***"
   ]
  },
  {
   "cell_type": "markdown",
   "metadata": {
    "id": "N7v6t71Shr7e"
   },
   "source": [
    "El proyecto tiene como fin realizar el analisis del sentimiento de los usuarios de Amazon especificamente en uno de sus productos llamado Amazon Prime Video, el estudio es realizará haciendo uso de la herramienta para recabar información usada por Amazon llamada IMBD, esta página permite que los usuarios califiquen los aspectos técnicos y narrativos de un filme creando una fuente de información alimentada por miles de personas.\n",
    "\n",
    "De acuerdo a lo anterior se pudo tener acceso a dos bases de datos: una llamada \"amazon instant video\" y la segunda \"movies and tv\", estas dos bases de datos tienen alrededor de 537.000 reviews, basados en la opinion de los usuarios se realiza una segmentación de la información se realiza una segmentación de las opiniones y las palabras clave obtenidas en cada comentario, de tal forma que se pueda posteriormente basado en las palabras utilizadas dar una califiación total al texto de tal forma que se pueda definir si la apreciación del usuario es positiva, neutra o negativa.  \n",
    "\n",
    "Las reviews en general están acompañadas de una calificación por lo que se podría deducir que tal review contiene implícitamente el valor de la calificación, implicando esto cierta complejidad, por eso se requiere el análisis de gran cantidad de palabras para lograr llegar al punto de predecir la posible calificación que dará una persona a un filme, se requiere el análisis de gran cantidad de datos, para crear una consistencia estadística que permita cierto grado precisión, basado en premisas lógicas como base de aprendizaje del programa.\n",
    "\n",
    "La información se obtendrá de la: [Base de Datos](https://jmcauley.ucsd.edu/data/amazon/). la cual contiene un amplio abanico de elección de bases de datos basado en los productos que ofrece AMAZON por lo que podría ser una buena fuente siendo este el mayor distribuidor de bienes del mundo contiene una base de datos consistente con gran cantidad y calidad. Esta base de datos esta delimitada por la fecha, para el caso de las bases a trabajar tienen información capturada entre 1997 al año 2014."
   ]
  },
  {
   "cell_type": "markdown",
   "metadata": {
    "id": "xHq48Hexhr7f"
   },
   "source": [
    "## ***`Amazon`***"
   ]
  },
  {
   "cell_type": "markdown",
   "metadata": {
    "id": "4S6kXlZVhr7f"
   },
   "source": [
    "Es una compañía Estadounidense fundada en 1994, la cual se dedica al comercio electrónico que va desde la venta de artículos en línea hasta la oferta de servicios en la nube. \n",
    "En este proyecto nos concentramos analizar la percepción de uno de sus nichos que es Amazon Prime Video, es un servicio que tiene disponibilidad en más de 200 países y su finalidad es poner a disposición de sus suscriptores películas y series, plataforma creada y gestionada por Amazon, esto la convierte en una competidora de Netflix y HBO.\n",
    "Una de las principales características de Amazon Prime Video es que su contenido está compuesto principalmente por películas y series producidas por Amazon, lo cual hace que tenga una base de datos reducida respecto de su competencia, a raíz de esto la empresa Amazon decidió aliarse con grandes compañías como Marvel, Pixar , Disney entre otras para transmitir todas sus películas."
   ]
  },
  {
   "cell_type": "markdown",
   "metadata": {
    "id": "ThF-jbEqhr7g"
   },
   "source": [
    "## ***OBJETIVOS DE LA INVESTIGACIÓN***"
   ]
  },
  {
   "cell_type": "markdown",
   "metadata": {
    "id": "IhXSv-xchr7g"
   },
   "source": [
    "## ***`GENERAL`***"
   ]
  },
  {
   "cell_type": "markdown",
   "metadata": {
    "id": "qUREvndVhr7g"
   },
   "source": [
    "Elaborar un algoritmo de procesamiento de lenguaje natural, que permita identificar el sentimiento manifestado  a través de los comentarios de los usuarios de Amazon Prime Video."
   ]
  },
  {
   "cell_type": "markdown",
   "metadata": {
    "id": "1lQm2vmohr7g"
   },
   "source": [
    "## ***`ESPECIFICOS`***"
   ]
  },
  {
   "cell_type": "markdown",
   "metadata": {
    "id": "0lqJkjqdhr7h"
   },
   "source": [
    "* Implementar un algoritmo que permita clasificar los sentimientos de los usuarios.\n",
    "\n",
    "* Realizar un análisis de todos los textos, que permita encontrar las palabras más relevantes o frecuentes, que influyen en la definición del sentimiento hacia el servicio utilizado.\n",
    "\n",
    "* Generar clústeres de palabras que permitan definir un constructo en función de los sentimientos."
   ]
  },
  {
   "cell_type": "markdown",
   "metadata": {
    "id": "3d2UzAVWhr7h"
   },
   "source": [
    "## ***`Lenguaje Natural`***"
   ]
  },
  {
   "cell_type": "markdown",
   "metadata": {
    "id": "FSbQ5bW7hr7h"
   },
   "source": [
    "## ***`Definición y ejemplos mas usados para PLN (Procesamiento de Lenguaje Natural)`***"
   ]
  },
  {
   "cell_type": "markdown",
   "metadata": {
    "id": "qrR6jv9Zhr7h"
   },
   "source": [
    "Los seres humanos humanos nos comunicamos a través de Lenguaje Natural (Ingles, Español, francés), lo anterior por medio de texto, voz y signos, actividades que actualmente ya procesa una computadora con programas como SIRI ó ALEXA, sin embargo surgió un gran reto y fue que los ordenadores pudiesen comunicarse con el hombre por medio del lenguaje natural, allí nació la Programación de Lenguaje Natural (PLN).\n",
    "El PLN, lo podemos definir como un campo de la inteligencia artificial que se encarga de investigar una forma efectiva de comunicar las máquinas con las personas a través del análisis grandes bases de datos estructuradas o no estructuradas de forma consistente e imparcial, sin fatigarse.\n",
    "\n",
    "Las computadoras solo entienden bytes y dígitos, los cuales son codificados por medio de programas como Python, se escriben una serie de reglas definiendo patrones computacionales y probabilidades de aparecer en un contexto determinado sin la exclusividad de cumplir con reglas gramaticales.\n",
    "\n",
    "Un ejemplo de un programa normal y un programa de Lenguaje Natural es: un programa como un Reconocimiento de voz y un PLN, el primero no necesita un análisis semántico o pragmático, cosa que si sucedería con sistema conversacional, el cual requiere entender lo que se le dice, procesarlo y entregar una respuesta con suficiente dominio temático. "
   ]
  },
  {
   "cell_type": "markdown",
   "metadata": {
    "id": "3-i70Eq5hr7i"
   },
   "source": [
    "### **LOS COMPONENTES DEL PLN**\n",
    "1. Análisis morfológico: Se basa en análisis de una serie de palabras extrayendo rasgos flexivos, entre otros.\n",
    "2. Análisis sintáctico: Identifica la estructura de las oraciones usando la lógica y la estadística.\n",
    "3. Análisis semántico: Interpreta oraciones eliminando previamente las ambigüedades mofosintácticas.\n",
    "4. Análisis pragmático: Realiza el análisis de lenguaje figurado como metáforas o ironía."
   ]
  },
  {
   "cell_type": "markdown",
   "metadata": {
    "id": "4__S4B0Nhr7i"
   },
   "source": [
    "## ***`Modelos según Metodología`***"
   ]
  },
  {
   "cell_type": "markdown",
   "metadata": {
    "id": "bbRDtSF7hr7j"
   },
   "source": [
    "**Modelo Booleano:**\n",
    "Se basa en Lógica Booleana y teoría de conjuntos.\n",
    "\n",
    "**Modelo Scoring:**\n",
    "Tiene como base la relevancia que se le de a determinados terminos, para realizar esta acción se otorgan score a los diferente terminos, entre los mas usados estan (Weighted Zone Scoring, Frecuencia de Término y Frecuencia Inversa de Documento).\n",
    "\n",
    "**Modelo de espacio vectorial:**\n",
    "Basicamente entiende cada documento como un conjunto de terminos que termina siendo asociado a un vector.\n",
    "\n",
    "**Preprocesado de Datos:** \n",
    "Esté será el modelo a usarse en el proyecto, los documentos son divididos en tokens, a continuación se identifican los terminos importantes y neutrales, posteriormente se aplican tecnicas de lemmatization."
   ]
  },
  {
   "cell_type": "markdown",
   "metadata": {
    "id": "XEWraAtxhr7j"
   },
   "source": [
    "## ***`Aplicaciones:`***"
   ]
  },
  {
   "cell_type": "markdown",
   "metadata": {
    "id": "7jsZsLJ_hr7j"
   },
   "source": [
    "A nivel general se puede utilizar buscando patrones para detectar o resolver delitos, clasificar temas que permitan descubrir tendencias, descubrir sentimientos, entre otros, a continuación veremos algunas de sus aplicaciones.\n",
    "\n",
    "\n",
    "* Sistemas conversaciones. (Interacción entre humanos y máquina por medio de voz “conversación”).\n",
    "\n",
    "* Recuperación y extracción  de información. Sus inicios fueron los buscadores de internet, teniendo en cuenta que con la llegada de esté no era fácil acceder a la cantidad de información publicada.\n",
    "\n",
    "* Etiquetado morfológico, sintáctico y semántico, los cuales se dividen en: \n",
    "1.   Respuestas automáticas a preguntas: Un ejemplo de ello es Watson de IBM que encuentra rápidamente la relación entre preguntas y respuestas utilizando gran cantidad de Bases de Datos y múltiples niveles de conocimiento.\n",
    "2.   Análisis de sentimientos de los textos: es la identificación del estado de ánimo en grandes cantidades de texto, mayormente usado en redes sociales permitiendo identificar y clasificar tipos de usuarios, sus intereses, su relación entre ellos. ***(será el que se aplicará en nuestro proyecto)***\n",
    " \n",
    "* Realización de resúmenes de textos automáticos:\n",
    "\n",
    "* Chatbots: Son sistemas capaces de tener una conversación coherente con una persona acerca de un tema específico.\n",
    "\n",
    "* Clasificación de documentos por categorias."
   ]
  },
  {
   "cell_type": "markdown",
   "metadata": {
    "id": "QHtF_hjWhr7k"
   },
   "source": [
    "## ***`Analisis de Sentimientos`***"
   ]
  },
  {
   "cell_type": "markdown",
   "metadata": {
    "id": "WtZuGhxThr7k"
   },
   "source": [
    "Es una aplicación de la Inteligencia Artificial que tiene como fin analizar textos cortos como calificaciones o comentarios realizados en Facebook, Twiter, etc. Este concepto nacio con el posicionamiento que tuvieron las redes sociales durante el año 2000, en esté momento las empresas vieron el gran potencial que tenian los comentarios y opiniones que publicaban los usuarios, estos textos en un corto tiempo se volvieron demasiados y algo dificiles de analizar, a partir de esta necesidad surgieron algoritmos que permitieron procesar dicha información.\n",
    "\n",
    "El objetivo de esté analisis es evaluar la calificación de un servicio o producto a partir de los comentarios realizados y definiendo el tono del escritor, esté se puede clasificar como Positivo, negativo o Neutro.\n",
    "\n",
    "Para realizar esta tarea se crean listados de palabras positivas y negativas, lo cual permite en el analisis de los textos evaluar si tiene mayor cantidad de palabras positivas o negativas. (Esta es la tecnica a aplicar en el proyecto trabajado)\n",
    "\n",
    "Es importante mencionar que existen metodos automaticos, estos se basan en tecnicas de aprendizaje automatico para ello es necesario tener una gran cantidad de ejemplos los cuales se le entregan a la computadora, de tal forma que pueda realizar un aprendizaje y a partir de allí entender patrones.\n",
    "\n",
    "PASOS:\n",
    "\n",
    "1. Extracción de la Información. (Web Scraping) y posterior limpieza de la  información en caso de que tenga datos como emojis.\n",
    "2. Procesamiento de los datos. Esto se hace con la librería de python TextBlob, la cual permite estimar el valor del sentimiento de los twits con un rango de polaridad de -1 a 1.\n",
    "3. Despliegue. Para realizar esta actividad se hace uso de la libreria librerías matplolib para los gráficos y wordcloud para crear una nube con los textos suministrados."
   ]
  },
  {
   "cell_type": "markdown",
   "metadata": {
    "id": "48mg5YXhhr7k"
   },
   "source": [
    "## ***`ELEMENTOS TEORICOS IMPLEMENTADOS`***"
   ]
  },
  {
   "cell_type": "markdown",
   "metadata": {
    "id": "PbyHHfpJhr7k"
   },
   "source": [
    "Definidos los vectores de palabras como entrada, vamos a construir la arquitectura de red para el análisis de los textos de interés. Un aspecto relevante de los datos de en el Procesamiento del lenguaje natural (PNL) es que tienen un aspecto temporal. Cada palabra de una oración depende en gran medida de lo que vino antes y después. Para tener en cuenta esta dependencia, se implementa una red neuronal recurrente.\n",
    "\n",
    "Es importante como ya se mencionó que en las redes neuronales recurrentes cada palabra en una secuencia de entrada, se asociará con un paso de tiempo específico. En efecto, el número de pasos de tiempo será igual a la longitud máxima de la secuencia.\n",
    "\n",
    "<figure>\n",
    "<center>\n",
    "<img src=\"https://www.oreilly.com/content/wp-content/uploads/sites/2/2019/06/SentimentAnalysis18-877adcb2069f5d510b3bec36c50f3969.png\" width=\"700\" height=\"300\" align=\"center\"/>\n",
    "</center>\n",
    "<figcaption>\n",
    "<p style=\"text-align:center\">Estructura de la secuencia de palabras</p>\n",
    "</figcaption>\n",
    "</figure>\n",
    "\n",
    "Asociado con cada paso de tiempo también hay un nuevo componente llamado el vector de estado oculto $h_t$ . Desde un nivel alto, este vector busca encapsular y resumir toda la información que se vio en los pasos de tiempo anteriores. Así como $x_t$ es un vector que encapsula toda la información de una palabra específica, $h_t$ es un vector que resume la información de los pasos de tiempos anteriores.\n",
    "\n",
    "El estado oculto es una función tanto del vector de palabra actual como del vector de estado oculto en el paso de tiempo anterior. La sigma $\\sigma$ indica que la suma de los dos términos se someterá a una función de activación (normalmente una sigmoide o tangente hiperbólica).\n",
    "\n",
    "$$h_t = \\sigma(W^h h_{t-1} + W^x x_t)$$\n",
    "\n",
    "Los términos de  $W$ en la formulación anterior representan matrices de peso. Si observa de cerca los superíndices, verá que hay una matriz de peso $W^x$ que vamos a multiplicar con nuestra entrada, y hay una matriz de peso recurrente $W^h$ que se multiplica con el vector de estado oculto en el paso de tiempo anterior. $W^x$ es una matriz que permanece igual en todos los pasos de tiempo, y la matriz de peso $W^x$ es diferente para cada entrada.\n",
    "\n",
    "Las matrices de peso se actualizan mediante un proceso de optimización denominado retropropagación en el tiempo."
   ]
  },
  {
   "cell_type": "markdown",
   "metadata": {
    "id": "0BHeYrIJhr7l"
   },
   "source": [
    "### ***Unidades de memoria a corto plazo (LSTM)***"
   ]
  },
  {
   "cell_type": "markdown",
   "metadata": {
    "id": "VJSTjiSWhr7l"
   },
   "source": [
    "Las unidades de memoria a corto plazo son módulos que puede colocar dentro de una red neuronal recurrente que aseguran, que el vector de estado oculto $h$ pueda encapsular información sobre dependencias a largo plazo en el texto. La formulación de $h$ en las RNN tradicionales es relativamente simple. Este enfoque no podrá conectar de manera efectiva la información que está separada por más de un par de pasos de tiempo. Podemos ilustrar esta idea de manejar dependencias a largo plazo a través de un ejemplo en el campo. La función de los modelos de respuesta a preguntas es tomar un pasaje del texto y responder una pregunta sobre su contenido.\n",
    "\n",
    "Mirando las unidades LSTM desde un punto de vista más técnico, las unidades toman el vector de palabra actual $x_t$ y dan salida al vector de estado oculto $h_t$. En estas unidades, la formulación de $h_t$ será un poco más compleja que la de un RNN típico. El cálculo se divide en 4 componentes, una puerta de entrada, una puerta de olvido, una puerta de salida y un nuevo contenedor de memoria, como se ilustra a continuación:\n",
    "\n",
    "<figure>\n",
    "<center>\n",
    "<img src=\"https://www.oreilly.com/content/wp-content/uploads/sites/2/2019/06/SentimentAnalysis10-5355aeffa295ce537c5a5b3a1cd7034b.png\" width=\"500\" height=\"300\" align=\"center\"/>\n",
    "</center>\n",
    "<figcaption>\n",
    "<p style=\"text-align:center\">Estructura de una red LSTM</p>\n",
    "</figcaption>\n",
    "</figure>\n",
    "\n",
    "Cada puerta tomará $x_t$ y $h_{t-1}$ como entradas y realizará algunos cálculos en ellas para obtener estados intermedios. Cada estado intermedio se alimenta a diferentes tuberías y, finalmente, la información se agrega para formar $h_t$. En aras de la simplicidad, no entraremos en las formulaciones específicas para cada puerta, pero vale la pena señalar que cada una de estas puertas se puede considerar como módulos diferentes dentro del LSTM, cada uno con funciones diferentes. La puerta de entrada determina cuánto énfasis poner en cada una de las entradas, la puerta de olvido determina la información que desecharemos y la puerta de salida determina la $h_t$ final basado en los estados intermedios.\n",
    "\n",
    "Para profundizar en este tema se recomienda explorar en [Oreilly para el análisis de sentimientos](https://www.oreilly.com/content/perform-sentiment-analysis-with-lstms-using-tensorflow/)"
   ]
  },
  {
   "cell_type": "markdown",
   "metadata": {
    "id": "24fGCa3Ehr7l"
   },
   "source": [
    "### ***`Implementación del modelo Glove`***"
   ]
  },
  {
   "cell_type": "markdown",
   "metadata": {
    "id": "qox1Rr58hr7m"
   },
   "source": [
    "GloVe es un algoritmo de aprendizaje no supervisado para obtener representaciones vectoriales de palabras. El entrenamiento se realiza en estadísticas globales de co-ocurrencia palabra-palabra agregadas de un corpus, y las representaciones resultantes muestran interesantes subestructuras lineales del espacio vectorial de palabras.\n",
    "\n",
    "El modelo GloVe se entrena en las entradas distintas de cero de una matriz global de co-ocurrencia palabra-palabra, que tabula la frecuencia con la que las palabras coexisten entre sí en un corpus dado. Completar esta matriz requiere una sola pasada a través de todo el corpus para recopilar las estadísticas. Para grandes corpus, este pase puede ser computacionalmente costoso, pero es un costo inicial único. Las iteraciones de entrenamiento posteriores son mucho más rápidas porque el número de entradas de matriz distintas de cero suele ser mucho menor que el número total de palabras en el corpus.\n",
    "\n",
    "Las herramientas proporcionadas en este paquete automatizan la recopilación y preparación de estadísticas de co-ocurrencia para ingresar al modelo. El código de entrenamiento básico está separado de estos pasos de preprocesamiento y se puede ejecutar de forma independiente.\n",
    "\n",
    "<figure>\n",
    "<center>\n",
    "<img src=\"https://miro.medium.com/max/3000/1*UNtsSilztKXjLG99VXxSQw.png\" width=\"700\" height=\"300\" align=\"center\"/>\n",
    "</center>\n",
    "<figcaption>\n",
    "<p style=\"text-align:center\">Estructura del modelo Glove</p>\n",
    "</figcaption>\n",
    "</figure>\n",
    "\n",
    "El objetivo de entrenamiento de GloVe es aprender los vectores de palabras de manera que su producto escalar sea igual al logaritmo de la probabilidad de co-ocurrencia de las palabras. Debido al hecho de que el logaritmo de una razón es igual a la diferencia de logaritmos, este objetivo asocia (el logaritmo de) razones de probabilidades de co-ocurrencia con diferencias vectoriales en el espacio vectorial de palabras. Debido a que estas proporciones pueden codificar alguna forma de significado, esta información también se codifica como diferencias vectoriales.\n",
    "\n",
    "Para extender la información se puede consultar en el siguiente link [Modelo Glove](https://nlp.stanford.edu/projects/glove/)"
   ]
  },
  {
   "cell_type": "markdown",
   "metadata": {
    "id": "NMNYGPNX0921"
   },
   "source": [
    "## **RESULTADOS**"
   ]
  },
  {
   "cell_type": "markdown",
   "metadata": {
    "id": "iSf5XVQh04Um"
   },
   "source": [
    "### **Librerías implementadas en el análisis**"
   ]
  },
  {
   "cell_type": "code",
   "execution_count": 1,
   "metadata": {
    "colab": {
     "base_uri": "https://localhost:8080/"
    },
    "id": "_iljjhtu0jc9",
    "outputId": "e7dae622-e28b-45a6-dbc9-47286d355d74"
   },
   "outputs": [
    {
     "name": "stdout",
     "output_type": "stream",
     "text": [
      "[nltk_data] Downloading package punkt to /root/nltk_data...\n",
      "[nltk_data]   Package punkt is already up-to-date!\n",
      "[nltk_data] Downloading package stopwords to /root/nltk_data...\n",
      "[nltk_data]   Package stopwords is already up-to-date!\n",
      "[nltk_data] Downloading package wordnet to /root/nltk_data...\n",
      "[nltk_data]   Package wordnet is already up-to-date!\n",
      "CPU times: user 3.36 s, sys: 812 ms, total: 4.18 s\n",
      "Wall time: 8.13 s\n"
     ]
    }
   ],
   "source": [
    "%%time\n",
    "import gzip\n",
    "import json\n",
    "import string\n",
    "import os\n",
    "\n",
    "import nltk # imports the natural language toolkit\n",
    "import pandas as pd\n",
    "import numpy as np\n",
    "from numpy import array\n",
    "from numpy import asarray\n",
    "from numpy import zeros\n",
    "import seaborn as sns\n",
    "import matplotlib.pyplot as plt\n",
    "import re\n",
    "import plotly\n",
    "\n",
    "from nltk.corpus import stopwords\n",
    "\n",
    "# tokenizadores\n",
    "from nltk.tokenize import sent_tokenize, word_tokenize \n",
    "from nltk.tokenize import TweetTokenizer\n",
    "\n",
    "# lematizador basado en WordNet de nltk\n",
    "from nltk.stem import WordNetLemmatizer \n",
    "\n",
    "# steemer de nltk. Raiz de las palabras\n",
    "#from nltk.stem import SnowballStemmer\n",
    "from nltk.stem import PorterStemmer \n",
    "\n",
    "import gensim\n",
    "from gensim.parsing.preprocessing import STOPWORDS\n",
    "\n",
    "from numpy import array\n",
    "from keras.preprocessing.text import one_hot\n",
    "from keras.preprocessing.sequence import pad_sequences\n",
    "from keras.models import Sequential\n",
    "from keras.layers.core import Activation, Dropout, Dense\n",
    "from keras.layers import Flatten\n",
    "from keras.layers import GlobalMaxPooling1D\n",
    "from keras.layers.embeddings import Embedding\n",
    "from tensorflow.keras.layers import LSTM, SpatialDropout1D, Bidirectional\n",
    "from tensorflow.keras import callbacks\n",
    "from sklearn.model_selection import train_test_split\n",
    "from sklearn.metrics import confusion_matrix\n",
    "from tensorflow.keras import layers\n",
    "from keras.preprocessing.text import Tokenizer\n",
    "\n",
    "nltk.download('punkt')\n",
    "nltk.download('stopwords')\n",
    "# wordnet\n",
    "nltk.download('wordnet')"
   ]
  },
  {
   "cell_type": "markdown",
   "metadata": {
    "id": "N3ZT-8N-1LiF"
   },
   "source": [
    "## **Proceso de cargue de datos**"
   ]
  },
  {
   "cell_type": "markdown",
   "metadata": {
    "id": "VuKlC4pvJP5r"
   },
   "source": [
    "A continuación se hace el cargue de los comentarios de diversas peliculas y videos con su respectiva calificación"
   ]
  },
  {
   "cell_type": "code",
   "execution_count": null,
   "metadata": {
    "colab": {
     "base_uri": "https://localhost:8080/"
    },
    "id": "O6PUwTPa0wjd",
    "outputId": "94ad6594-3b38-4da1-f222-711c7a9ecfd6"
   },
   "outputs": [
    {
     "name": "stdout",
     "output_type": "stream",
     "text": [
      "CPU times: user 30.2 s, sys: 16 s, total: 46.2 s\n",
      "Wall time: 50.1 s\n"
     ]
    }
   ],
   "source": [
    "%%time\n",
    "instant_video = pd.read_json(\"./reviews_Amazon_Instant_Video_5.json.gz\", lines=True, compression='gzip')\n",
    "movies_tv = next(pd.read_json(\"./reviews_Movies_and_TV_5.json.gz\", lines=True, compression='gzip', chunksize=500000))"
   ]
  },
  {
   "cell_type": "code",
   "execution_count": 4,
   "metadata": {
    "id": "_lF9eRuZchb4"
   },
   "outputs": [],
   "source": [
    "## Pegado de las bases de datos instant_video y movies_tv en una sola\n",
    "amazon_data = movies_tv.append(instant_video)"
   ]
  },
  {
   "cell_type": "markdown",
   "metadata": {
    "id": "OtfBh8Ogcv0M"
   },
   "source": [
    "## **Base de datos de peliculas y videos de amazon**"
   ]
  },
  {
   "cell_type": "code",
   "execution_count": null,
   "metadata": {
    "colab": {
     "base_uri": "https://localhost:8080/"
    },
    "id": "Rg1B5TDI15Ue",
    "outputId": "b57e3d55-e088-45a2-fa97-8e33c9a0f8a3"
   },
   "outputs": [
    {
     "name": "stdout",
     "output_type": "stream",
     "text": [
      "537126\n",
      "       reviewerID        asin  ... unixReviewTime   reviewTime\n",
      "0   ADZPIG9QOCDG5  0005019281  ...     1203984000  02 26, 2008\n",
      "1  A35947ZP82G7JH  0005019281  ...     1388361600  12 30, 2013\n",
      "2  A3UORV8A9D5L2E  0005019281  ...     1388361600  12 30, 2013\n",
      "3  A1VKW06X1O2X7V  0005019281  ...     1202860800  02 13, 2008\n",
      "4  A3R27T4HADWFFJ  0005019281  ...     1387670400  12 22, 2013\n",
      "\n",
      "[5 rows x 9 columns]\n"
     ]
    }
   ],
   "source": [
    "## Tamaño total de registros con los que se va a realizar el análisis de intéres.\n",
    "print(len(amazon_data))\n",
    "print(amazon_data.head(5))"
   ]
  },
  {
   "cell_type": "code",
   "execution_count": null,
   "metadata": {
    "colab": {
     "base_uri": "https://localhost:8080/"
    },
    "id": "7i-pm8oG7UVV",
    "outputId": "5af0b509-c040-4b03-cc7d-1aea4e8a955b"
   },
   "outputs": [
    {
     "data": {
      "text/plain": [
       "(537126, 9)"
      ]
     },
     "execution_count": 6,
     "metadata": {
      "tags": []
     },
     "output_type": "execute_result"
    }
   ],
   "source": [
    "## Dimensión general de la base de datos 537126 registros (comentarios) y 9 variables\n",
    "amazon_data.shape"
   ]
  },
  {
   "cell_type": "code",
   "execution_count": null,
   "metadata": {
    "colab": {
     "base_uri": "https://localhost:8080/",
     "height": 354
    },
    "id": "vBkM8QZZ7YYs",
    "outputId": "353441af-b658-4a38-b558-16458370c3d5"
   },
   "outputs": [
    {
     "data": {
      "text/html": [
       "<div>\n",
       "<style scoped>\n",
       "    .dataframe tbody tr th:only-of-type {\n",
       "        vertical-align: middle;\n",
       "    }\n",
       "\n",
       "    .dataframe tbody tr th {\n",
       "        vertical-align: top;\n",
       "    }\n",
       "\n",
       "    .dataframe thead th {\n",
       "        text-align: right;\n",
       "    }\n",
       "</style>\n",
       "<table border=\"1\" class=\"dataframe\">\n",
       "  <thead>\n",
       "    <tr style=\"text-align: right;\">\n",
       "      <th></th>\n",
       "      <th>reviewerName</th>\n",
       "      <th>helpful</th>\n",
       "      <th>reviewText</th>\n",
       "      <th>overall</th>\n",
       "      <th>summary</th>\n",
       "      <th>unixReviewTime</th>\n",
       "      <th>datetime</th>\n",
       "    </tr>\n",
       "  </thead>\n",
       "  <tbody>\n",
       "    <tr>\n",
       "      <th>0</th>\n",
       "      <td>Alice L. Larson \"alice-loves-books\"</td>\n",
       "      <td>[0, 0]</td>\n",
       "      <td>This is a charming version of the classic Dick...</td>\n",
       "      <td>4</td>\n",
       "      <td>good version of a classic</td>\n",
       "      <td>1203984000</td>\n",
       "      <td>2008-02-26</td>\n",
       "    </tr>\n",
       "    <tr>\n",
       "      <th>1</th>\n",
       "      <td>Amarah Strack</td>\n",
       "      <td>[0, 0]</td>\n",
       "      <td>It was good but not as emotionally moving as t...</td>\n",
       "      <td>3</td>\n",
       "      <td>Good but not as moving</td>\n",
       "      <td>1388361600</td>\n",
       "      <td>2013-12-30</td>\n",
       "    </tr>\n",
       "    <tr>\n",
       "      <th>2</th>\n",
       "      <td>Amazon Customer</td>\n",
       "      <td>[0, 0]</td>\n",
       "      <td>Don't get me wrong, Winkler is a wonderful cha...</td>\n",
       "      <td>3</td>\n",
       "      <td>Winkler's Performance was ok at best!</td>\n",
       "      <td>1388361600</td>\n",
       "      <td>2013-12-30</td>\n",
       "    </tr>\n",
       "    <tr>\n",
       "      <th>3</th>\n",
       "      <td>Amazon Customer \"Softmill\"</td>\n",
       "      <td>[0, 0]</td>\n",
       "      <td>Henry Winkler is very good in this twist on th...</td>\n",
       "      <td>5</td>\n",
       "      <td>It's an enjoyable twist on the classic story</td>\n",
       "      <td>1202860800</td>\n",
       "      <td>2008-02-13</td>\n",
       "    </tr>\n",
       "    <tr>\n",
       "      <th>4</th>\n",
       "      <td>BABE</td>\n",
       "      <td>[0, 0]</td>\n",
       "      <td>This is one of the best Scrooge movies out.  H...</td>\n",
       "      <td>4</td>\n",
       "      <td>Best Scrooge yet</td>\n",
       "      <td>1387670400</td>\n",
       "      <td>2013-12-22</td>\n",
       "    </tr>\n",
       "  </tbody>\n",
       "</table>\n",
       "</div>"
      ],
      "text/plain": [
       "                          reviewerName helpful  ... unixReviewTime   datetime\n",
       "0  Alice L. Larson \"alice-loves-books\"  [0, 0]  ...     1203984000 2008-02-26\n",
       "1                        Amarah Strack  [0, 0]  ...     1388361600 2013-12-30\n",
       "2                      Amazon Customer  [0, 0]  ...     1388361600 2013-12-30\n",
       "3           Amazon Customer \"Softmill\"  [0, 0]  ...     1202860800 2008-02-13\n",
       "4                                 BABE  [0, 0]  ...     1387670400 2013-12-22\n",
       "\n",
       "[5 rows x 7 columns]"
      ]
     },
     "execution_count": 7,
     "metadata": {
      "tags": []
     },
     "output_type": "execute_result"
    }
   ],
   "source": [
    "## Ajuste de la variables temporales en las que se realizó el comentario sobre la película o video\n",
    "\n",
    "amazon_data['datetime'] = pd.to_datetime(amazon_data['reviewTime'], format=\"%m %d, %Y\")\n",
    "amazon_data = amazon_data.drop(columns = ['reviewerID', 'asin', 'reviewTime'])\n",
    "amazon_data.head(5)"
   ]
  },
  {
   "cell_type": "markdown",
   "metadata": {
    "id": "xJgUajzCczGK"
   },
   "source": [
    "## **Descripción de los datos**"
   ]
  },
  {
   "cell_type": "code",
   "execution_count": null,
   "metadata": {
    "cellView": "code",
    "colab": {
     "base_uri": "https://localhost:8080/"
    },
    "id": "B-42BzyE9FkF",
    "outputId": "69bc89ec-6091-4e32-96af-dbdb9619c5e7"
   },
   "outputs": [
    {
     "name": "stdout",
     "output_type": "stream",
     "text": [
      "6.0\n",
      "4.0\n"
     ]
    }
   ],
   "source": [
    "#@Parámetros para la gráfica a continuación\n",
    "\n",
    "plot_size = plt.rcParams[\"figure.figsize\"] \n",
    "print(plot_size[0]) \n",
    "print(plot_size[1])\n",
    "\n",
    "plot_size[0] = 8\n",
    "plot_size[1] = 6\n",
    "plt.rcParams[\"figure.figsize\"] = plot_size"
   ]
  },
  {
   "cell_type": "code",
   "execution_count": null,
   "metadata": {
    "colab": {
     "base_uri": "https://localhost:8080/",
     "height": 374
    },
    "id": "66cLbsIL9Ni1",
    "outputId": "6ee9e608-da7f-4415-dcc5-b34a01682d77"
   },
   "outputs": [
    {
     "data": {
      "text/plain": [
       "<matplotlib.axes._subplots.AxesSubplot at 0x7fc9c41b87d0>"
      ]
     },
     "execution_count": 9,
     "metadata": {
      "tags": []
     },
     "output_type": "execute_result"
    },
    {
     "data": {
      "image/png": "[encoded data removed]",
      "text/plain": [
       "<Figure size 576x432 with 1 Axes>"
      ]
     },
     "metadata": {
      "tags": []
     },
     "output_type": "display_data"
    }
   ],
   "source": [
    "## Participación porcentual de las calificaciones de los comentarios en las películas y los videos\n",
    "\n",
    "amazon_data.overall.value_counts().plot(kind='pie', autopct='%1.0f%%', colors=[\"red\", \"yellow\", \"green\",\"blue\",\"orange\"])"
   ]
  },
  {
   "cell_type": "code",
   "execution_count": null,
   "metadata": {
    "colab": {
     "base_uri": "https://localhost:8080/",
     "height": 808
    },
    "id": "LEApNgNmeU8y",
    "outputId": "de987e9c-34bd-4639-d4b9-e12eb5634f79"
   },
   "outputs": [
    {
     "data": {
      "text/plain": [
       "<matplotlib.axes._subplots.AxesSubplot at 0x7fd6b4075a90>"
      ]
     },
     "execution_count": 10,
     "metadata": {
      "tags": []
     },
     "output_type": "execute_result"
    },
    {
     "data": {
      "image/png": "[encoded data removed]",
      "text/plain": [
       "<Figure size 576x432 with 1 Axes>"
      ]
     },
     "metadata": {
      "needs_background": "light",
      "tags": []
     },
     "output_type": "display_data"
    },
    {
     "data": {
      "image/png": "[encoded data removed]",
      "text/plain": [
       "<Figure size 576x432 with 1 Axes>"
      ]
     },
     "metadata": {
      "needs_background": "light",
      "tags": []
     },
     "output_type": "display_data"
    }
   ],
   "source": [
    "## Comportamiento de las calificaciones promedio emitidas por las personas para las peliculas y videos\n",
    "amazon_data.groupby(amazon_data.datetime.dt.year)['overall'].mean().to_frame().plot(kind=\"bar\")\n",
    "\n",
    "## Comportamiento promedio del total de calificaciones emitidas\n",
    "amazon_data['length'] = amazon_data['reviewText'].apply(len)\n",
    "amazon_data.groupby(amazon_data.datetime.dt.year)['length'].mean().to_frame().plot(kind=\"bar\")"
   ]
  },
  {
   "cell_type": "markdown",
   "metadata": {
    "id": "A75iH83dfF1Z"
   },
   "source": [
    "Busqueda de las frecuencias de las palabras de forma general en todos los comentarios"
   ]
  },
  {
   "cell_type": "code",
   "execution_count": null,
   "metadata": {
    "id": "EKgcbrZFeg8h"
   },
   "outputs": [],
   "source": [
    "from sklearn.feature_extraction.text import CountVectorizer\n",
    "from datetime import datetime\n",
    "\n",
    "## Definición del conjunto de datos al que se requiere contar las palabras\n",
    "amazon_data = amazon_data.head(len(amazon_data))\n",
    "\n",
    "def get_top_n_words(corpus, n=1, k=1):\n",
    "    t1 = datetime.now()\n",
    "    vec = CountVectorizer(ngram_range=(k, k), stop_words=\"english\")\n",
    "    bolsa_palabras = vec.fit_transform(corpus)\n",
    "    sum_palabras = bolsa_palabras.sum(axis=0) \n",
    "    freq_palabras = [(word, sum_palabras[0, idx]) for word, idx in vec.vocabulary_.items()]\n",
    "    freq_palabras = sorted(freq_palabras, key=lambda x: x[1], reverse=True)\n",
    "    return freq_palabras[:n]"
   ]
  },
  {
   "cell_type": "code",
   "execution_count": null,
   "metadata": {
    "colab": {
     "base_uri": "https://localhost:8080/",
     "height": 810
    },
    "id": "C5Cwrq3qe8zB",
    "outputId": "914037d6-cb27-4a0e-e404-4f2104daf982"
   },
   "outputs": [
    {
     "name": "stdout",
     "output_type": "stream",
     "text": [
      "movie 668579\n",
      "film 584448\n",
      "like 259424\n",
      "great 237119\n",
      "good 236797\n",
      "just 220199\n",
      "quot 204832\n",
      "time 203972\n",
      "story 186832\n",
      "dvd 151290\n",
      "really 146130\n",
      "love 145152\n",
      "best 139589\n",
      "movies 129321\n",
      "watch 115320\n",
      "films 112109\n",
      "way 109195\n",
      "don 105552\n",
      "people 105214\n",
      "life 100565\n",
      "CPU times: user 1min 6s, sys: 688 ms, total: 1min 6s\n",
      "Wall time: 1min 7s\n"
     ]
    },
    {
     "data": {
      "image/png": "[encoded data removed]",
      "text/plain": [
       "<Figure size 576x432 with 1 Axes>"
      ]
     },
     "metadata": {
      "needs_background": "light",
      "tags": []
     },
     "output_type": "display_data"
    }
   ],
   "source": [
    "%%time\n",
    "# Conteo de palabras para todos los reviews\n",
    "common_words = get_top_n_words(amazon_data[\"reviewText\"], 20, 1)\n",
    "for word, freq in common_words:\n",
    "    print(word, freq)\n",
    "    \n",
    "tabla = pd.DataFrame(common_words, columns=[\"words\", \"count\"])\n",
    "tabla.groupby(\"words\").sum()[\"count\"].sort_values(ascending=False).plot(\n",
    "    kind=\"bar\", title=\"Top 20 de las palabras más frecuentes\"\n",
    ")"
   ]
  },
  {
   "cell_type": "markdown",
   "metadata": {
    "id": "7-hErN_c9fWs"
   },
   "source": [
    "## **Preparación y procesamiento de la información para modelamiento y clasificación de sentimientos**"
   ]
  },
  {
   "cell_type": "markdown",
   "metadata": {
    "id": "0RC6rlUpMcXz"
   },
   "source": [
    "A continuación, se reprocesa la variable de calificaciones "
   ]
  },
  {
   "cell_type": "code",
   "execution_count": 5,
   "metadata": {
    "colab": {
     "base_uri": "https://localhost:8080/"
    },
    "id": "VuxwxKCLdZO0",
    "outputId": "03220a68-ff5f-4b4c-f854-6b5f9ba7938b"
   },
   "outputs": [
    {
     "data": {
      "text/plain": [
       "reviewerID          object\n",
       "asin                object\n",
       "reviewerName        object\n",
       "helpful             object\n",
       "reviewText          object\n",
       "overall              int64\n",
       "summary             object\n",
       "unixReviewTime       int64\n",
       "reviewTime          object\n",
       "target_cat        category\n",
       "dtype: object"
      ]
     },
     "execution_count": 5,
     "metadata": {
      "tags": []
     },
     "output_type": "execute_result"
    }
   ],
   "source": [
    "## Se crea una nueva variable con los mismos datos de overall (Calificaciones)\n",
    "\n",
    "amazon_data['target_cat'] = pd.Categorical(amazon_data['overall'])\n",
    "amazon_data.dtypes"
   ]
  },
  {
   "cell_type": "code",
   "execution_count": null,
   "metadata": {
    "colab": {
     "base_uri": "https://localhost:8080/"
    },
    "id": "TLFmEFf-Agbu",
    "outputId": "562e0fb4-fa8a-4518-e618-6ca11ab18df1"
   },
   "outputs": [
    {
     "name": "stdout",
     "output_type": "stream",
     "text": [
      "5    312586\n",
      "4    118506\n",
      "3     55067\n",
      "2     25610\n",
      "1     25357\n",
      "Name: target_cat, dtype: int64\n"
     ]
    }
   ],
   "source": [
    "## Total de calificaciones determinadas\n",
    "print(amazon_data['target_cat'].value_counts())"
   ]
  },
  {
   "cell_type": "markdown",
   "metadata": {
    "id": "O6wjCRQzM4lr"
   },
   "source": [
    "## **Proceso de balanceo de las categorías de estudio**"
   ]
  },
  {
   "cell_type": "code",
   "execution_count": 6,
   "metadata": {
    "colab": {
     "base_uri": "https://localhost:8080/"
    },
    "id": "gnnoSZqavgjG",
    "outputId": "b6989fe9-26f4-4987-bd54-f82c9d68e99b"
   },
   "outputs": [
    {
     "name": "stdout",
     "output_type": "stream",
     "text": [
      "Base de datos para los reviews calificados igual a 1 : (25357, 10)\n",
      "Base de datos para los reviews calificados igual a 2 : (25357, 10)\n",
      "Base de datos para los reviews calificados igual a 3 : (25357, 10)\n",
      "Base de datos para los reviews calificados igual a 4 : (25357, 10)\n",
      "Base de datos para los reviews calificados igual a 5 : (25357, 10)\n"
     ]
    }
   ],
   "source": [
    "## Proceso de balance por la categoría más pequeña del total de datos\n",
    "\n",
    "amazon_data_1 = amazon_data[amazon_data['overall']== 1]\n",
    "amazon_data_2 = amazon_data[amazon_data['overall']== 2 ].sample(len(amazon_data_1))\n",
    "amazon_data_3 = amazon_data[amazon_data['overall']==3].sample(len(amazon_data_1))\n",
    "amazon_data_4 = amazon_data[amazon_data['overall']==4].sample(len(amazon_data_1))\n",
    "amazon_data_5 = amazon_data[amazon_data['overall']==5].sample(len(amazon_data_1))\n",
    "\n",
    "## Confirmación del tamaño de cada set de datos según la cantidad de casos de la categoría más pequeña\n",
    "\n",
    "print(\"Base de datos para los reviews calificados igual a 1 :\", str(amazon_data_1.shape))\n",
    "print(\"Base de datos para los reviews calificados igual a 2 :\", str(amazon_data_2.shape))\n",
    "print(\"Base de datos para los reviews calificados igual a 3 :\", str(amazon_data_3.shape))\n",
    "print(\"Base de datos para los reviews calificados igual a 4 :\", str(amazon_data_4.shape))\n",
    "print(\"Base de datos para los reviews calificados igual a 5 :\", str(amazon_data_5.shape))"
   ]
  },
  {
   "cell_type": "code",
   "execution_count": 7,
   "metadata": {
    "colab": {
     "base_uri": "https://localhost:8080/"
    },
    "id": "81EK76WpzuW5",
    "outputId": "f8a52c5d-368e-4e3e-8565-fa63352c44e7"
   },
   "outputs": [
    {
     "name": "stdout",
     "output_type": "stream",
     "text": [
      "Tamaño de la base final para el análisis:  (126785, 11)\n"
     ]
    }
   ],
   "source": [
    "## Pegado de las bases de datos que conformarán el set final de análisis\n",
    "\n",
    "amazon_data_12 = amazon_data_1.append(amazon_data_2)\n",
    "amazon_data_123 =amazon_data_12.append(amazon_data_3)\n",
    "amazon_data_1234 = amazon_data_123.append(amazon_data_4)\n",
    "amazon_data_bal = amazon_data_1234.append(amazon_data_5)\n",
    "\n",
    "amazon_data_bal[\"index\"] = range(0,len(amazon_data_bal))\n",
    "\n",
    "print(\"Tamaño de la base final para el análisis: \",str(amazon_data_bal.shape))"
   ]
  },
  {
   "cell_type": "markdown",
   "metadata": {
    "id": "g40KoI5iNI-i"
   },
   "source": [
    "## **Ajuste de las calificaciones en sentimientos positivos y negativos**"
   ]
  },
  {
   "cell_type": "code",
   "execution_count": 8,
   "metadata": {
    "id": "unq-3YHj8LTg"
   },
   "outputs": [],
   "source": [
    "## Definición del sentimiento, en categorías negativa (0) y positiva (1)\n",
    "\n",
    "amazon_data_bal['target'] = np.where(amazon_data_bal.overall < 3, '0', \n",
    "                       np.where(amazon_data_bal.overall > 3, '1', '3'))\n",
    "\n",
    "## Eliminación de la categoría 3, consideración de calificación neutral de los comentarios\n",
    "\n",
    "amazon_data_bal = amazon_data_bal[(amazon_data_bal[\"target\"])!= \"3\"]"
   ]
  },
  {
   "cell_type": "code",
   "execution_count": 9,
   "metadata": {
    "colab": {
     "base_uri": "https://localhost:8080/",
     "height": 522
    },
    "id": "dk4bAyZC2Ny5",
    "outputId": "cd276165-ec51-4643-b2c3-b11de7719d0c"
   },
   "outputs": [
    {
     "name": "stdout",
     "output_type": "stream",
     "text": [
      "Total de casos positivos y negativos a evaluar:\n",
      " 1    50714\n",
      "0    50714\n",
      "Name: target, dtype: int64\n"
     ]
    },
    {
     "data": {
      "text/html": [
       "<div>\n",
       "<style scoped>\n",
       "    .dataframe tbody tr th:only-of-type {\n",
       "        vertical-align: middle;\n",
       "    }\n",
       "\n",
       "    .dataframe tbody tr th {\n",
       "        vertical-align: top;\n",
       "    }\n",
       "\n",
       "    .dataframe thead th {\n",
       "        text-align: right;\n",
       "    }\n",
       "</style>\n",
       "<table border=\"1\" class=\"dataframe\">\n",
       "  <thead>\n",
       "    <tr style=\"text-align: right;\">\n",
       "      <th></th>\n",
       "      <th>reviewerID</th>\n",
       "      <th>asin</th>\n",
       "      <th>reviewerName</th>\n",
       "      <th>helpful</th>\n",
       "      <th>reviewText</th>\n",
       "      <th>overall</th>\n",
       "      <th>summary</th>\n",
       "      <th>unixReviewTime</th>\n",
       "      <th>reviewTime</th>\n",
       "      <th>target_cat</th>\n",
       "      <th>target</th>\n",
       "    </tr>\n",
       "    <tr>\n",
       "      <th>index</th>\n",
       "      <th></th>\n",
       "      <th></th>\n",
       "      <th></th>\n",
       "      <th></th>\n",
       "      <th></th>\n",
       "      <th></th>\n",
       "      <th></th>\n",
       "      <th></th>\n",
       "      <th></th>\n",
       "      <th></th>\n",
       "      <th></th>\n",
       "    </tr>\n",
       "  </thead>\n",
       "  <tbody>\n",
       "    <tr>\n",
       "      <th>0</th>\n",
       "      <td>A2RI2ACXXYPQJB</td>\n",
       "      <td>0005119367</td>\n",
       "      <td>sharp eye klf \"klf\"</td>\n",
       "      <td>[13, 23]</td>\n",
       "      <td>The acting was good, the story was correct, bu...</td>\n",
       "      <td>1</td>\n",
       "      <td>Nakedness not necessary!</td>\n",
       "      <td>1298851200</td>\n",
       "      <td>02 28, 2011</td>\n",
       "      <td>1</td>\n",
       "      <td>0</td>\n",
       "    </tr>\n",
       "    <tr>\n",
       "      <th>1</th>\n",
       "      <td>A3BFJE27AMFSB2</td>\n",
       "      <td>0307142477</td>\n",
       "      <td>L Salisbury</td>\n",
       "      <td>[3, 5]</td>\n",
       "      <td>This is so lame! The songs are terrible! The v...</td>\n",
       "      <td>1</td>\n",
       "      <td>Worst Christmas special ever!</td>\n",
       "      <td>976233600</td>\n",
       "      <td>12 8, 2000</td>\n",
       "      <td>1</td>\n",
       "      <td>0</td>\n",
       "    </tr>\n",
       "    <tr>\n",
       "      <th>2</th>\n",
       "      <td>A10QA1BKQLVUR</td>\n",
       "      <td>0307142477</td>\n",
       "      <td>Mrs Pink</td>\n",
       "      <td>[3, 5]</td>\n",
       "      <td>This is with out a doubt is one of the worst C...</td>\n",
       "      <td>1</td>\n",
       "      <td>Frosty returns</td>\n",
       "      <td>975888000</td>\n",
       "      <td>12 4, 2000</td>\n",
       "      <td>1</td>\n",
       "      <td>0</td>\n",
       "    </tr>\n",
       "    <tr>\n",
       "      <th>3</th>\n",
       "      <td>A3OWKT7JZV8NT9</td>\n",
       "      <td>0307142477</td>\n",
       "      <td>Philip D. Parshall</td>\n",
       "      <td>[2, 3]</td>\n",
       "      <td>Narration is OK but the story is weak and the ...</td>\n",
       "      <td>1</td>\n",
       "      <td>1960's Classic Comes To This?</td>\n",
       "      <td>1196553600</td>\n",
       "      <td>12 2, 2007</td>\n",
       "      <td>1</td>\n",
       "      <td>0</td>\n",
       "    </tr>\n",
       "    <tr>\n",
       "      <th>4</th>\n",
       "      <td>A2NLIB986TEESZ</td>\n",
       "      <td>0307142485</td>\n",
       "      <td>L. M Young</td>\n",
       "      <td>[35, 40]</td>\n",
       "      <td>If you love the Rankin-Bass version of this cl...</td>\n",
       "      <td>1</td>\n",
       "      <td>Not The Aaron I Remember</td>\n",
       "      <td>1097366400</td>\n",
       "      <td>10 10, 2004</td>\n",
       "      <td>1</td>\n",
       "      <td>0</td>\n",
       "    </tr>\n",
       "  </tbody>\n",
       "</table>\n",
       "</div>"
      ],
      "text/plain": [
       "           reviewerID        asin  ... target_cat target\n",
       "index                              ...                  \n",
       "0      A2RI2ACXXYPQJB  0005119367  ...          1      0\n",
       "1      A3BFJE27AMFSB2  0307142477  ...          1      0\n",
       "2       A10QA1BKQLVUR  0307142477  ...          1      0\n",
       "3      A3OWKT7JZV8NT9  0307142477  ...          1      0\n",
       "4      A2NLIB986TEESZ  0307142485  ...          1      0\n",
       "\n",
       "[5 rows x 11 columns]"
      ]
     },
     "execution_count": 9,
     "metadata": {
      "tags": []
     },
     "output_type": "execute_result"
    }
   ],
   "source": [
    "print(\"Total de casos positivos y negativos a evaluar:\\n\", str(amazon_data_bal['target'].value_counts()))\n",
    "amazon_data_bal.set_index(\"index\", inplace=True)\n",
    "amazon_data_bal.head()"
   ]
  },
  {
   "cell_type": "code",
   "execution_count": null,
   "metadata": {
    "colab": {
     "base_uri": "https://localhost:8080/"
    },
    "id": "50XpCjW1BHZD",
    "outputId": "2cd7b104-0648-4de9-dca8-dcef4f279288"
   },
   "outputs": [
    {
     "name": "stdout",
     "output_type": "stream",
     "text": [
      "(array([0, 0, 0, ..., 1, 1, 1]), Index(['0', '1'], dtype='object'))\n"
     ]
    }
   ],
   "source": [
    "## Categorización de la variable target compuesta por 0 y 1\n",
    "\n",
    "amazon_data_label = amazon_data_bal.target.factorize()\n",
    "print(amazon_data_label)"
   ]
  },
  {
   "cell_type": "markdown",
   "metadata": {
    "id": "gLMZw8UHBOqr"
   },
   "source": [
    "## **Depuración de los textos**"
   ]
  },
  {
   "cell_type": "code",
   "execution_count": null,
   "metadata": {
    "colab": {
     "base_uri": "https://localhost:8080/",
     "height": 69
    },
    "id": "lXHkT_V2BSEj",
    "outputId": "c8b6faa7-0c52-4934-d965-415c7b8e2f4a"
   },
   "outputs": [
    {
     "data": {
      "application/vnd.google.colaboratory.intrinsic+json": {
       "type": "string"
      },
      "text/plain": [
       "\"This is so lame! The songs are terrible! The villan is a ripoff of Mr. Burns from The Simpsons while the kids look like they're on loan from a Charlie Brown show. But the biggest lowpoint is the Politically Correct ranting! Too bad CBS insists on running this back-to-back with the 1969 classic.\""
      ]
     },
     "execution_count": 19,
     "metadata": {
      "tags": []
     },
     "output_type": "execute_result"
    }
   ],
   "source": [
    "## Ejemplo de como viene el texto que se requiere analizar\n",
    "\n",
    "amazon_data_bal['reviewText'][1]"
   ]
  },
  {
   "cell_type": "markdown",
   "metadata": {
    "id": "ejLw4dGvjH5V"
   },
   "source": [
    "## **Función de depuración de los textos**"
   ]
  },
  {
   "cell_type": "code",
   "execution_count": null,
   "metadata": {
    "id": "uhdZV7AsBYKz"
   },
   "outputs": [],
   "source": [
    "TAG_RE = re.compile(r'<[^>]+>')\n",
    "\n",
    "def remove_tags(text):\n",
    "    return TAG_RE.sub('', text)"
   ]
  },
  {
   "cell_type": "code",
   "execution_count": null,
   "metadata": {
    "id": "hD9gbEDiBVFT"
   },
   "outputs": [],
   "source": [
    "def preprocess_text(sen):\n",
    "    # Remover html tags\n",
    "    sentence = remove_tags(sen)\n",
    "\n",
    "    # Remover digitos\n",
    "    sentence = re.sub('\\d+', ' ', sentence)\n",
    "\n",
    "    # Remover Paréntesis\n",
    "    sentence = re.sub('[()]', ' ', sentence)\n",
    "\n",
    "    # Remover puntuaciones y números\n",
    "    sentence = re.sub('[^a-zA-Z]', ' ', sentence)\n",
    "\n",
    "    sentence = res = re.sub(r'[^\\w\\s]', ' ', sentence)\n",
    "\n",
    "    # Remover carácteres únicos\n",
    "    sentence = re.sub(r\"\\s+[a-zA-Z]\\s+\", ' ', sentence)\n",
    "\n",
    "    # Remover múltiples espacios\n",
    "    sentence = re.sub(r'\\s+', ' ', sentence)\n",
    "\n",
    "    # This removes words of up to 3 characters \n",
    "    #sentence = re.sub(r'\\b\\w{1,3}\\b', '',sentence)\n",
    "\n",
    "    return sentence"
   ]
  },
  {
   "cell_type": "markdown",
   "metadata": {
    "id": "pZWEqyNDjOhC"
   },
   "source": [
    "A continuación se aplica la función de depuración para los textos en general de la base de datos de interés, es necesario precisar que se esta trabajando sobre el conjunto de datos balanceado de amazon"
   ]
  },
  {
   "cell_type": "code",
   "execution_count": null,
   "metadata": {
    "colab": {
     "base_uri": "https://localhost:8080/"
    },
    "id": "zkWX2FqGBhsi",
    "outputId": "2c9e65a1-e93e-4cc9-eb3a-2ad2c2d2b917"
   },
   "outputs": [
    {
     "name": "stdout",
     "output_type": "stream",
     "text": [
      "CPU times: user 17.4 s, sys: 11.4 ms, total: 17.4 s\n",
      "Wall time: 17.5 s\n"
     ]
    }
   ],
   "source": [
    "%%time\n",
    "X = [] ## Nueva lista en donde se almacenará la información reprocesada por la función de depuración\n",
    "sentences = list(amazon_data_bal['reviewText'])\n",
    "for sen in sentences:\n",
    "    X.append(preprocess_text(sen))"
   ]
  },
  {
   "cell_type": "code",
   "execution_count": null,
   "metadata": {
    "colab": {
     "base_uri": "https://localhost:8080/",
     "height": 52
    },
    "id": "RvfPiib6Bm9z",
    "outputId": "cd9926d0-c2b9-405b-bae7-94d54e3475e1"
   },
   "outputs": [
    {
     "data": {
      "application/vnd.google.colaboratory.intrinsic+json": {
       "type": "string"
      },
      "text/plain": [
       "'This is so lame The songs are terrible The villan is ripoff of Mr Burns from The Simpsons while the kids look like they re on loan from Charlie Brown show But the biggest lowpoint is the Politically Correct ranting Too bad CBS insists on running this back to back with the classic '"
      ]
     },
     "execution_count": 23,
     "metadata": {
      "tags": []
     },
     "output_type": "execute_result"
    }
   ],
   "source": [
    "## Visualización de la depuración de los textos a través de la función de limpieza\n",
    "X[1]"
   ]
  },
  {
   "cell_type": "markdown",
   "metadata": {
    "id": "9OUtKtHZDEMT"
   },
   "source": [
    "## **Preparación de los datos para entrenar el modelo**"
   ]
  },
  {
   "cell_type": "code",
   "execution_count": null,
   "metadata": {
    "id": "da76tWu3Cn0k"
   },
   "outputs": [],
   "source": [
    "## Partición de los datos en entrenamiento y validación\n",
    "\n",
    "X_train, X_test, y_train, y_test = train_test_split(X, amazon_data_label[0], test_size=0.30, random_state=2906)"
   ]
  },
  {
   "cell_type": "code",
   "execution_count": null,
   "metadata": {
    "id": "eXX6wnUxDOXt"
   },
   "outputs": [],
   "source": [
    "## Ajustes de los tamaños de las particiones de los datos para el análisis en un multiplo de 128\n",
    "\n",
    "pr = 128 \n",
    "a = (len(X_train)/pr) \n",
    "ntrain = round(pr*(a-1)) \n",
    "\n",
    "b = (len(X_test)/pr) \n",
    "ntest = round(pr*(b-1)) "
   ]
  },
  {
   "cell_type": "code",
   "execution_count": null,
   "metadata": {
    "id": "FTa0gkVIEYV0"
   },
   "outputs": [],
   "source": [
    "## Tamaño final de los datos de entrenamiento y validación\n",
    "\n",
    "X_train = X_train[0:ntrain] \n",
    "X_test = X_test[0:ntest] \n",
    "y_train = y_train[0:ntrain] \n",
    "y_test = y_test[0:ntest]"
   ]
  },
  {
   "cell_type": "markdown",
   "metadata": {
    "id": "tAyBCa-edyIP"
   },
   "source": [
    "La siguiente función de tokenizar toma una lista (líneas) como entrada, donde cada lista es una secuencia de texto (por ejemplo, una línea de texto). Cada secuencia de texto se divide en una lista de tokens. Un token es la unidad básica del texto. Al final, se devuelve una lista de listas de tokens, donde cada token es una cadena."
   ]
  },
  {
   "cell_type": "code",
   "execution_count": null,
   "metadata": {
    "colab": {
     "base_uri": "https://localhost:8080/"
    },
    "id": "WIrjhUdmEnos",
    "outputId": "23178ccc-1d76-45d6-8701-d2e1db62fea4"
   },
   "outputs": [
    {
     "name": "stdout",
     "output_type": "stream",
     "text": [
      "CPU times: user 23 s, sys: 26 ms, total: 23 s\n",
      "Wall time: 23.1 s\n"
     ]
    }
   ],
   "source": [
    "## Proceso de toquenizado de las palabras\n",
    "\n",
    "%%time\n",
    "tokenizer = Tokenizer(num_words=40000)\n",
    "tokenizer.fit_on_texts(X_train)\n",
    "#tokenizer.fit_on_texts(X_test)\n",
    "X_train = tokenizer.texts_to_sequences(X_train)\n",
    "X_test = tokenizer.texts_to_sequences(X_test)"
   ]
  },
  {
   "cell_type": "code",
   "execution_count": null,
   "metadata": {
    "colab": {
     "base_uri": "https://localhost:8080/"
    },
    "id": "OUFOmT2yMXK7",
    "outputId": "e5c734a6-f416-4084-c5e3-0730e0e4010b"
   },
   "outputs": [
    {
     "name": "stdout",
     "output_type": "stream",
     "text": [
      "[9204, 2191, 1106, 15373, 5, 181, 58, 3, 396, 93, 3192, 8667, 125, 334, 2, 6326, 126, 8, 16, 5, 7, 54, 94, 6130, 7, 85, 740, 23, 3, 1, 652, 194, 40, 6, 5, 1, 130, 983, 2191, 3578, 253, 502, 1, 16, 31, 1, 3090, 389, 3, 470, 7147, 17015, 3578, 2191, 321, 55, 1366, 714, 7, 93, 14, 8, 547, 2191, 698, 36, 45, 4, 314, 41, 1052, 887, 10, 1005, 1477, 2, 45, 4, 14060, 151, 194, 13, 177, 306, 2, 491, 2195, 2191, 389, 3, 2425, 273, 3578, 5, 983, 7, 1106, 15373, 2, 250, 648, 16011, 7, 1670, 14, 46, 3, 22, 79, 526, 5588, 3622, 2, 1, 7505, 7506, 6, 142, 25, 2608, 9, 1054, 46, 79, 521, 526, 27, 2191, 8, 16, 5, 47, 39, 346, 4073, 654, 9, 164, 2956, 447, 6, 4658, 3, 4190, 1417, 157, 1651, 2, 7560, 1402, 8375, 49, 25, 253, 806, 1, 16, 7, 1, 817, 3, 364, 210, 120, 13, 65, 13, 5745, 9205, 502, 1, 16, 8, 5, 983, 7, 1, 368, 3, 1106, 15373, 2, 151, 194, 13, 1565, 9, 2332, 30, 8066, 334, 7406, 2484, 2, 2484, 42, 8, 16, 113, 1470, 5, 1217, 47, 7, 1116, 168, 29, 1, 771, 3, 3192, 17, 1, 334, 1778, 13, 221, 13, 110, 5344, 5, 1856, 1, 1050, 3, 411, 5344, 7, 1276, 3, 2807, 10689, 2, 6326, 20, 866, 7, 1, 16, 8, 16, 5, 10, 26, 17801, 2, 4624, 16, 325, 49, 420, 2, 269, 3103, 1, 664, 4855, 480, 1, 4334, 771, 38, 76, 1, 4191, 3, 70, 586, 7, 82, 154, 2, 441, 91, 1106, 15373, 23, 55, 441, 630, 47, 3, 30, 1747, 235, 4, 8, 16, 7, 1, 94, 3, 47, 8506, 3203, 476, 9, 2191, 5, 770, 10, 13, 65, 83, 1106, 15373, 3801, 8, 955, 1, 16, 164, 64, 2988, 338, 31, 4659, 6266, 1394, 61, 20, 221, 47, 209, 4, 100, 10, 1, 1102, 1235, 159, 7296, 4, 193, 8, 16, 39, 3789, 2191, 1265, 517, 2, 14, 71, 8001, 832, 8235, 2, 2191, 321, 1082, 159, 294, 30, 679, 979, 53, 10690, 8, 16, 10, 4406, 666, 4624, 1, 16, 2, 133, 410, 11, 57, 15, 6, 36, 164, 24, 1, 4074, 564, 6, 108, 7, 1, 556, 5345, 3, 1, 2]\n"
     ]
    }
   ],
   "source": [
    "print(X_train[1])"
   ]
  },
  {
   "cell_type": "code",
   "execution_count": null,
   "metadata": {
    "id": "Uy54Xf5mErkz"
   },
   "outputs": [],
   "source": [
    "# definición del vocabulario final para la red neuronal\n",
    "\n",
    "vocab_size = len(tokenizer.word_index) + 1\n",
    "\n",
    "maxlen = 300\n",
    "\n",
    "X_train = pad_sequences(X_train, padding='post', maxlen=maxlen)\n",
    "X_test = pad_sequences(X_test, padding='post', maxlen=maxlen)"
   ]
  },
  {
   "cell_type": "code",
   "execution_count": null,
   "metadata": {
    "colab": {
     "base_uri": "https://localhost:8080/"
    },
    "id": "e0k7X7EeM2sv",
    "outputId": "485c3517-3c05-4291-adc2-e2f2e57a8803"
   },
   "outputs": [
    {
     "name": "stdout",
     "output_type": "stream",
     "text": [
      "Tamaño del vocabulario: 120605\n",
      "[    8    16    11  1140   353     7  4468    13    48     1  7243 13424\n",
      "     3  1197    48    15     9     5   794    52    90 21515     4   389\n",
      "    10    16   440     1   138   643   261   440    11    48  1373  1197\n",
      "     2    22  1015  2565    48   891     1   440     8    16     5   155\n",
      "   217     7    48   647    48  1595    34     1   791  2364  1197    16\n",
      "    48  1197   450    48     2    38     1   162   801    80 27017     2\n",
      "   172  1537  1680  1197  1231   548     5   266   155   127    31     1\n",
      "   333   284   238   105  2230   132  2536   331   450 27018 10061 19670\n",
      "    33  4469   712     3  4925     2     5  1808     7  7243 13424  3103\n",
      "     1   440   466   411   817     3    10  2281  5744  5397   542     4\n",
      "  1954   969  6098   618  4529     2    22   513  2790  8065 20847    33\n",
      "  2837    41     1  1373     5   307     4    26     3  1864    14  6658\n",
      "  7101     3     1  3886    31    35   194 15372   311     4  1217   131\n",
      "  1306    17    30   139    94     3 23833  1015   266   155     1   276\n",
      "    38   116     4    77    14   351  3014  1015  9203    39     1  1123\n",
      "   199    17  1197    31     1   889  2364   103     8     5   914   214\n",
      "     1   175    81  1028  6701   949    13  1954  5198 36590    33   262\n",
      "  1197  1184  1702     2  1504    23     3     1  1851   230   504    18\n",
      "    69   161     7   105  2364    16     3   286   548     5   155   370\n",
      "    52   116     4    77    13     1   440   110     7    22   444  1197\n",
      "    16    10  2364   126  4529   266   155  1504   607  1307    13   969\n",
      "  6098    48 13424     3  1197    48   155  1997     1   681  2523    37\n",
      "    18   166     4   100  2364  1197    12  1486    23     3     1   103\n",
      "    97     7     1  3981    19     1   540    28   274    41     7     1\n",
      "  4639     0     0     0     0     0     0     0     0     0     0     0]\n"
     ]
    }
   ],
   "source": [
    "print(\"Tamaño del vocabulario: \"+ str(len(tokenizer.word_index)))\n",
    "print(X_train[0])"
   ]
  },
  {
   "cell_type": "markdown",
   "metadata": {
    "id": "3proE6nfFd3s"
   },
   "source": [
    "### **Definición de uso de la TPU**"
   ]
  },
  {
   "cell_type": "code",
   "execution_count": null,
   "metadata": {
    "colab": {
     "base_uri": "https://localhost:8080/"
    },
    "id": "6SC_skjgFciz",
    "outputId": "6eccecdc-2f44-4abb-f5d2-ae381553b47b"
   },
   "outputs": [
    {
     "name": "stdout",
     "output_type": "stream",
     "text": [
      "`%tensorflow_version` only switches the major version: 1.x or 2.x.\n",
      "You set: `2.x   # Para garantizar que la versión 2.x sea importada`. This will be interpreted as: `2.x`.\n",
      "\n",
      "\n",
      "TensorFlow is already loaded. Please restart the runtime to change versions.\n",
      "Versión de TensorFlow: 2.4.1\n",
      "TPU encontrada  ['10.70.160.210:8470']\n",
      "INFO:tensorflow:Initializing the TPU system: grpc://10.70.160.210:8470\n"
     ]
    },
    {
     "name": "stderr",
     "output_type": "stream",
     "text": [
      "INFO:tensorflow:Initializing the TPU system: grpc://10.70.160.210:8470\n"
     ]
    },
    {
     "name": "stdout",
     "output_type": "stream",
     "text": [
      "INFO:tensorflow:Clearing out eager caches\n"
     ]
    },
    {
     "name": "stderr",
     "output_type": "stream",
     "text": [
      "INFO:tensorflow:Clearing out eager caches\n"
     ]
    },
    {
     "name": "stdout",
     "output_type": "stream",
     "text": [
      "INFO:tensorflow:Finished initializing TPU system.\n"
     ]
    },
    {
     "name": "stderr",
     "output_type": "stream",
     "text": [
      "INFO:tensorflow:Finished initializing TPU system.\n",
      "WARNING:absl:`tf.distribute.experimental.TPUStrategy` is deprecated, please use  the non experimental symbol `tf.distribute.TPUStrategy` instead.\n"
     ]
    },
    {
     "name": "stdout",
     "output_type": "stream",
     "text": [
      "INFO:tensorflow:Found TPU system:\n"
     ]
    },
    {
     "name": "stderr",
     "output_type": "stream",
     "text": [
      "INFO:tensorflow:Found TPU system:\n"
     ]
    },
    {
     "name": "stdout",
     "output_type": "stream",
     "text": [
      "INFO:tensorflow:*** Num TPU Cores: 8\n"
     ]
    },
    {
     "name": "stderr",
     "output_type": "stream",
     "text": [
      "INFO:tensorflow:*** Num TPU Cores: 8\n"
     ]
    },
    {
     "name": "stdout",
     "output_type": "stream",
     "text": [
      "INFO:tensorflow:*** Num TPU Workers: 1\n"
     ]
    },
    {
     "name": "stderr",
     "output_type": "stream",
     "text": [
      "INFO:tensorflow:*** Num TPU Workers: 1\n"
     ]
    },
    {
     "name": "stdout",
     "output_type": "stream",
     "text": [
      "INFO:tensorflow:*** Num TPU Cores Per Worker: 8\n"
     ]
    },
    {
     "name": "stderr",
     "output_type": "stream",
     "text": [
      "INFO:tensorflow:*** Num TPU Cores Per Worker: 8\n"
     ]
    },
    {
     "name": "stdout",
     "output_type": "stream",
     "text": [
      "INFO:tensorflow:*** Available Device: _DeviceAttributes(/job:localhost/replica:0/task:0/device:CPU:0, CPU, 0, 0)\n"
     ]
    },
    {
     "name": "stderr",
     "output_type": "stream",
     "text": [
      "INFO:tensorflow:*** Available Device: _DeviceAttributes(/job:localhost/replica:0/task:0/device:CPU:0, CPU, 0, 0)\n"
     ]
    },
    {
     "name": "stdout",
     "output_type": "stream",
     "text": [
      "INFO:tensorflow:*** Available Device: _DeviceAttributes(/job:worker/replica:0/task:0/device:CPU:0, CPU, 0, 0)\n"
     ]
    },
    {
     "name": "stderr",
     "output_type": "stream",
     "text": [
      "INFO:tensorflow:*** Available Device: _DeviceAttributes(/job:worker/replica:0/task:0/device:CPU:0, CPU, 0, 0)\n"
     ]
    },
    {
     "name": "stdout",
     "output_type": "stream",
     "text": [
      "INFO:tensorflow:*** Available Device: _DeviceAttributes(/job:worker/replica:0/task:0/device:TPU:0, TPU, 0, 0)\n"
     ]
    },
    {
     "name": "stderr",
     "output_type": "stream",
     "text": [
      "INFO:tensorflow:*** Available Device: _DeviceAttributes(/job:worker/replica:0/task:0/device:TPU:0, TPU, 0, 0)\n"
     ]
    },
    {
     "name": "stdout",
     "output_type": "stream",
     "text": [
      "INFO:tensorflow:*** Available Device: _DeviceAttributes(/job:worker/replica:0/task:0/device:TPU:1, TPU, 0, 0)\n"
     ]
    },
    {
     "name": "stderr",
     "output_type": "stream",
     "text": [
      "INFO:tensorflow:*** Available Device: _DeviceAttributes(/job:worker/replica:0/task:0/device:TPU:1, TPU, 0, 0)\n"
     ]
    },
    {
     "name": "stdout",
     "output_type": "stream",
     "text": [
      "INFO:tensorflow:*** Available Device: _DeviceAttributes(/job:worker/replica:0/task:0/device:TPU:2, TPU, 0, 0)\n"
     ]
    },
    {
     "name": "stderr",
     "output_type": "stream",
     "text": [
      "INFO:tensorflow:*** Available Device: _DeviceAttributes(/job:worker/replica:0/task:0/device:TPU:2, TPU, 0, 0)\n"
     ]
    },
    {
     "name": "stdout",
     "output_type": "stream",
     "text": [
      "INFO:tensorflow:*** Available Device: _DeviceAttributes(/job:worker/replica:0/task:0/device:TPU:3, TPU, 0, 0)\n"
     ]
    },
    {
     "name": "stderr",
     "output_type": "stream",
     "text": [
      "INFO:tensorflow:*** Available Device: _DeviceAttributes(/job:worker/replica:0/task:0/device:TPU:3, TPU, 0, 0)\n"
     ]
    },
    {
     "name": "stdout",
     "output_type": "stream",
     "text": [
      "INFO:tensorflow:*** Available Device: _DeviceAttributes(/job:worker/replica:0/task:0/device:TPU:4, TPU, 0, 0)\n"
     ]
    },
    {
     "name": "stderr",
     "output_type": "stream",
     "text": [
      "INFO:tensorflow:*** Available Device: _DeviceAttributes(/job:worker/replica:0/task:0/device:TPU:4, TPU, 0, 0)\n"
     ]
    },
    {
     "name": "stdout",
     "output_type": "stream",
     "text": [
      "INFO:tensorflow:*** Available Device: _DeviceAttributes(/job:worker/replica:0/task:0/device:TPU:5, TPU, 0, 0)\n"
     ]
    },
    {
     "name": "stderr",
     "output_type": "stream",
     "text": [
      "INFO:tensorflow:*** Available Device: _DeviceAttributes(/job:worker/replica:0/task:0/device:TPU:5, TPU, 0, 0)\n"
     ]
    },
    {
     "name": "stdout",
     "output_type": "stream",
     "text": [
      "INFO:tensorflow:*** Available Device: _DeviceAttributes(/job:worker/replica:0/task:0/device:TPU:6, TPU, 0, 0)\n"
     ]
    },
    {
     "name": "stderr",
     "output_type": "stream",
     "text": [
      "INFO:tensorflow:*** Available Device: _DeviceAttributes(/job:worker/replica:0/task:0/device:TPU:6, TPU, 0, 0)\n"
     ]
    },
    {
     "name": "stdout",
     "output_type": "stream",
     "text": [
      "INFO:tensorflow:*** Available Device: _DeviceAttributes(/job:worker/replica:0/task:0/device:TPU:7, TPU, 0, 0)\n"
     ]
    },
    {
     "name": "stderr",
     "output_type": "stream",
     "text": [
      "INFO:tensorflow:*** Available Device: _DeviceAttributes(/job:worker/replica:0/task:0/device:TPU:7, TPU, 0, 0)\n"
     ]
    },
    {
     "name": "stdout",
     "output_type": "stream",
     "text": [
      "INFO:tensorflow:*** Available Device: _DeviceAttributes(/job:worker/replica:0/task:0/device:TPU_SYSTEM:0, TPU_SYSTEM, 0, 0)\n"
     ]
    },
    {
     "name": "stderr",
     "output_type": "stream",
     "text": [
      "INFO:tensorflow:*** Available Device: _DeviceAttributes(/job:worker/replica:0/task:0/device:TPU_SYSTEM:0, TPU_SYSTEM, 0, 0)\n"
     ]
    },
    {
     "name": "stdout",
     "output_type": "stream",
     "text": [
      "INFO:tensorflow:*** Available Device: _DeviceAttributes(/job:worker/replica:0/task:0/device:XLA_CPU:0, XLA_CPU, 0, 0)\n"
     ]
    },
    {
     "name": "stderr",
     "output_type": "stream",
     "text": [
      "INFO:tensorflow:*** Available Device: _DeviceAttributes(/job:worker/replica:0/task:0/device:XLA_CPU:0, XLA_CPU, 0, 0)\n"
     ]
    }
   ],
   "source": [
    "%tensorflow_version 2.x   # Para garantizar que la versión 2.x sea importada\n",
    "import tensorflow as tf\n",
    "print('Versión de TensorFlow: ' + tf.__version__)\n",
    "\n",
    "tf.random.set_seed(200)\n",
    "\n",
    "try:\n",
    "  tpu = tf.distribute.cluster_resolver.TPUClusterResolver(tpu='grpc://' + os.environ['COLAB_TPU_ADDR'])  # Detectar TPU\n",
    "  print('TPU encontrada ', tpu.cluster_spec().as_dict()['worker'])\n",
    "except ValueError:\n",
    "  raise BaseException('ERROR: TPU no encontrada!')\n",
    "\n",
    "tf.config.experimental_connect_to_cluster(tpu)\n",
    "tf.tpu.experimental.initialize_tpu_system(tpu)\n",
    "tpu_strategy = tf.distribute.experimental.TPUStrategy(tpu)"
   ]
  },
  {
   "cell_type": "markdown",
   "metadata": {
    "id": "aN8M6i0qFDdj"
   },
   "source": [
    "# **Arquitectura preliminar de la red neuronal para la clasificación de sentimientos**"
   ]
  },
  {
   "cell_type": "code",
   "execution_count": null,
   "metadata": {
    "id": "ZMt6PHwPH2p7"
   },
   "outputs": [],
   "source": [
    "## Ajuste de los datos a float32 como los requiere tensorflow para el uso de la TPU\n",
    "\n",
    "X_train = X_train.astype(np.float32)\n",
    "y_train = y_train.astype(np.float32)\n",
    "X_test = X_test.astype(np.float32)\n",
    "y_test = y_test.astype(np.float32)"
   ]
  },
  {
   "cell_type": "markdown",
   "metadata": {
    "id": "cmxG1YJmhGaa"
   },
   "source": [
    "## **Modelo implementando Glove**"
   ]
  },
  {
   "cell_type": "markdown",
   "metadata": {
    "id": "09ekT6HHhr71"
   },
   "source": [
    "A continuación encontrara la manera de descargar todas las versiones de Glove (50, 100, 200 y 300) vectores de palabras previamente entrenados, que para el proposito de esta investigación hará uso del modelo Glove 300d que codifica 400.000 tokens como vectores únicos, con todos los tokens fuera del vocabulario codificados como vector cero. "
   ]
  },
  {
   "cell_type": "code",
   "execution_count": null,
   "metadata": {
    "colab": {
     "base_uri": "https://localhost:8080/"
    },
    "id": "3Daa9oJzQgN3",
    "outputId": "e90587e0-c0bc-403d-c789-8dfc7aa6d177"
   },
   "outputs": [
    {
     "name": "stdout",
     "output_type": "stream",
     "text": [
      "--2021-05-09 04:04:21--  http://nlp.stanford.edu/data/glove.6B.zip\n",
      "Resolving nlp.stanford.edu (nlp.stanford.edu)... 171.64.67.140\n",
      "Connecting to nlp.stanford.edu (nlp.stanford.edu)|171.64.67.140|:80... connected.\n",
      "HTTP request sent, awaiting response... 302 Found\n",
      "Location: https://nlp.stanford.edu/data/glove.6B.zip [following]\n",
      "--2021-05-09 04:04:21--  https://nlp.stanford.edu/data/glove.6B.zip\n",
      "Connecting to nlp.stanford.edu (nlp.stanford.edu)|171.64.67.140|:443... connected.\n",
      "HTTP request sent, awaiting response... 301 Moved Permanently\n",
      "Location: http://downloads.cs.stanford.edu/nlp/data/glove.6B.zip [following]\n",
      "--2021-05-09 04:04:21--  http://downloads.cs.stanford.edu/nlp/data/glove.6B.zip\n",
      "Resolving downloads.cs.stanford.edu (downloads.cs.stanford.edu)... 171.64.64.22\n",
      "Connecting to downloads.cs.stanford.edu (downloads.cs.stanford.edu)|171.64.64.22|:80... connected.\n",
      "HTTP request sent, awaiting response... 200 OK\n",
      "Length: 862182613 (822M) [application/zip]\n",
      "Saving to: ‘glove.6B.zip’\n",
      "\n",
      "glove.6B.zip        100%[===================>] 822.24M  5.12MB/s    in 2m 43s  \n",
      "\n",
      "2021-05-09 04:07:04 (5.06 MB/s) - ‘glove.6B.zip’ saved [862182613/862182613]\n",
      "\n",
      "Archive:  glove.6B.zip\n",
      "  inflating: glove.6B.50d.txt        \n",
      "  inflating: glove.6B.100d.txt       \n",
      "  inflating: glove.6B.200d.txt       \n",
      "  inflating: glove.6B.300d.txt       \n"
     ]
    }
   ],
   "source": [
    "## Proceso de descarga de todos los diccionarios de glove\n",
    "!wget http://nlp.stanford.edu/data/glove.6B.zip  \n",
    "!unzip glove.6B.zip "
   ]
  },
  {
   "cell_type": "code",
   "execution_count": null,
   "metadata": {
    "colab": {
     "base_uri": "https://localhost:8080/"
    },
    "id": "VL6mnm7MRlAu",
    "outputId": "79d10b1f-809a-4cab-85af-7e44a1a48d51"
   },
   "outputs": [
    {
     "name": "stdout",
     "output_type": "stream",
     "text": [
      "Dictionary Size:  400000\n"
     ]
    }
   ],
   "source": [
    "## carga del diccionario de Glove de 300d\n",
    "embeddings_dictionary = dict()\n",
    "with open('glove.6B.300d.txt', \"r\") as file:     \n",
    "    for line in file:         \n",
    "       tokens = line.split()      \n",
    "       word = tokens[0]         \n",
    "       vector_dimensions = np.array(tokens[1:], dtype=np.float32) \n",
    "       if vector_dimensions.shape[0] == 300:    \n",
    "           embeddings_dictionary[word] = vector_dimensions \n",
    "       else:      \n",
    "           print(\"There was an issue with \" + word) \n",
    "# let's check the vocabulary size \n",
    "print(\"Dictionary Size: \", len(embeddings_dictionary)) "
   ]
  },
  {
   "cell_type": "code",
   "execution_count": null,
   "metadata": {
    "id": "YeBl1RJHXdc2"
   },
   "outputs": [],
   "source": [
    "## generación de la matriz de pesos de las palabras de Glove que entrerán a la red neuronal para apoyar la co-ocurrencia de las palabras de interés para los sentimientos\n",
    "embedding_matrix = zeros((vocab_size, 300))\n",
    "for word, index in tokenizer.word_index.items():\n",
    "    embedding_vector = embeddings_dictionary.get(word)\n",
    "    if embedding_vector is not None:\n",
    "        embedding_matrix[index] = embedding_vector"
   ]
  },
  {
   "cell_type": "markdown",
   "metadata": {
    "id": "HQM2yzwAOZst"
   },
   "source": [
    "## **Arquitectura de la red neuronal recurrente implementando Glove**"
   ]
  },
  {
   "cell_type": "markdown",
   "metadata": {
    "id": "mhsZLS9Vhr72"
   },
   "source": [
    "A continuación se presenta la red neuronal final bajo la estructura de una red neuronal recurrente (LSTM) y con ajuste de la matriz de pesos de los tokens de Glove como se muestra a continuación:"
   ]
  },
  {
   "cell_type": "code",
   "execution_count": null,
   "metadata": {
    "colab": {
     "base_uri": "https://localhost:8080/"
    },
    "id": "GytiMzD5hb0y",
    "outputId": "2b1ce36e-ca86-40b4-f476-e559a50980b2"
   },
   "outputs": [
    {
     "name": "stdout",
     "output_type": "stream",
     "text": [
      "Model: \"sequential_1\"\n",
      "_________________________________________________________________\n",
      "Layer (type)                 Output Shape              Param #   \n",
      "=================================================================\n",
      "embedding_1 (Embedding)      (None, 300, 300)          36181800  \n",
      "_________________________________________________________________\n",
      "spatial_dropout1d_1 (Spatial (None, 300, 300)          0         \n",
      "_________________________________________________________________\n",
      "lstm_3 (LSTM)                (None, 300, 128)          219648    \n",
      "_________________________________________________________________\n",
      "lstm_4 (LSTM)                (None, 300, 64)           49408     \n",
      "_________________________________________________________________\n",
      "dropout_2 (Dropout)          (None, 300, 64)           0         \n",
      "_________________________________________________________________\n",
      "lstm_5 (LSTM)                (None, 64)                33024     \n",
      "_________________________________________________________________\n",
      "dropout_3 (Dropout)          (None, 64)                0         \n",
      "_________________________________________________________________\n",
      "dense_2 (Dense)              (None, 32)                2080      \n",
      "_________________________________________________________________\n",
      "dense_3 (Dense)              (None, 1)                 33        \n",
      "=================================================================\n",
      "Total params: 36,485,993\n",
      "Trainable params: 304,193\n",
      "Non-trainable params: 36,181,800\n",
      "_________________________________________________________________\n",
      "None\n"
     ]
    }
   ],
   "source": [
    "with tpu_strategy.scope():\n",
    "  embedding_vector_length = 300\n",
    "\n",
    "  model_glove=Sequential()\n",
    "\n",
    "  embedding_layer=Embedding(vocab_size,embedding_vector_length,\n",
    "                            weights=[embedding_matrix],\n",
    "                            input_length=300,trainable=False)\n",
    "\n",
    "  model_glove.add(embedding_layer)\n",
    "  model_glove.add(SpatialDropout1D(0.5))\n",
    "  model_glove.add(LSTM(128, dropout=0.4, recurrent_dropout=0.4,return_sequences=True))\n",
    "  model_glove.add(tf.keras.layers.LSTM(64,return_sequences=True))\n",
    "  model_glove.add(Dropout(0.5))\n",
    "  model_glove.add(tf.keras.layers.LSTM(64))\n",
    "  model_glove.add(Dropout(0.5))\n",
    "  model_glove.add(tf.keras.layers.Dense(32, activation='relu'))\n",
    "\n",
    "  model_glove.add(Dense(1, activation='sigmoid'))\n",
    "\n",
    "  model_glove.compile(loss='binary_crossentropy',optimizer='adam', metrics=['accuracy'])  \n",
    "\n",
    "  print(model_glove.summary())"
   ]
  },
  {
   "cell_type": "code",
   "execution_count": null,
   "metadata": {
    "id": "BFfnBDR4h4Gf"
   },
   "outputs": [],
   "source": [
    "def entrenamiento_tpu():\n",
    "  history_glove = model_glove.fit(X_train,y_train,\n",
    "                                  validation_split=0.2, \n",
    "                                  batch_size=128, epochs=60, verbose=1)\n",
    "  \n",
    "  return history_glove"
   ]
  },
  {
   "cell_type": "code",
   "execution_count": null,
   "metadata": {
    "colab": {
     "base_uri": "https://localhost:8080/"
    },
    "id": "50r39HpiiDRD",
    "outputId": "1a5a9084-a6cb-4601-a75f-07363a9bcd10"
   },
   "outputs": [
    {
     "name": "stdout",
     "output_type": "stream",
     "text": [
      "Epoch 1/60\n",
      "443/443 [==============================] - 38s 65ms/step - loss: 0.6916 - accuracy: 0.5076 - val_loss: 0.6938 - val_accuracy: 0.5019\n",
      "Epoch 2/60\n",
      "443/443 [==============================] - 24s 54ms/step - loss: 0.6938 - accuracy: 0.5034 - val_loss: 0.6774 - val_accuracy: 0.5666\n",
      "Epoch 3/60\n",
      "443/443 [==============================] - 24s 53ms/step - loss: 0.6908 - accuracy: 0.5207 - val_loss: 0.6828 - val_accuracy: 0.5247\n",
      "Epoch 4/60\n",
      "443/443 [==============================] - 24s 53ms/step - loss: 0.6861 - accuracy: 0.5237 - val_loss: 0.6749 - val_accuracy: 0.5396\n",
      "Epoch 5/60\n",
      "443/443 [==============================] - 24s 54ms/step - loss: 0.6395 - accuracy: 0.6529 - val_loss: 0.4909 - val_accuracy: 0.7776\n",
      "Epoch 6/60\n",
      "443/443 [==============================] - 24s 53ms/step - loss: 0.5322 - accuracy: 0.7434 - val_loss: 0.3741 - val_accuracy: 0.8346\n",
      "Epoch 7/60\n",
      "443/443 [==============================] - 23s 53ms/step - loss: 0.4567 - accuracy: 0.7873 - val_loss: 0.3609 - val_accuracy: 0.8417\n",
      "Epoch 8/60\n",
      "443/443 [==============================] - 24s 54ms/step - loss: 0.4141 - accuracy: 0.8161 - val_loss: 0.3348 - val_accuracy: 0.8568\n",
      "Epoch 9/60\n",
      "443/443 [==============================] - 24s 54ms/step - loss: 0.3967 - accuracy: 0.8238 - val_loss: 0.3252 - val_accuracy: 0.8619\n",
      "Epoch 10/60\n",
      "443/443 [==============================] - 24s 53ms/step - loss: 0.3745 - accuracy: 0.8356 - val_loss: 0.3144 - val_accuracy: 0.8679\n",
      "Epoch 11/60\n",
      "443/443 [==============================] - 25s 58ms/step - loss: 0.3606 - accuracy: 0.8416 - val_loss: 0.3063 - val_accuracy: 0.8720\n",
      "Epoch 12/60\n",
      "443/443 [==============================] - 24s 54ms/step - loss: 0.3423 - accuracy: 0.8537 - val_loss: 0.2964 - val_accuracy: 0.8747\n",
      "Epoch 13/60\n",
      "443/443 [==============================] - 24s 54ms/step - loss: 0.3421 - accuracy: 0.8521 - val_loss: 0.2939 - val_accuracy: 0.8771\n",
      "Epoch 14/60\n",
      "443/443 [==============================] - 24s 54ms/step - loss: 0.3296 - accuracy: 0.8580 - val_loss: 0.2858 - val_accuracy: 0.8778\n",
      "Epoch 15/60\n",
      "443/443 [==============================] - 24s 53ms/step - loss: 0.3233 - accuracy: 0.8586 - val_loss: 0.2774 - val_accuracy: 0.8871\n",
      "Epoch 16/60\n",
      "443/443 [==============================] - 24s 54ms/step - loss: 0.3160 - accuracy: 0.8656 - val_loss: 0.2683 - val_accuracy: 0.8907\n",
      "Epoch 17/60\n",
      "443/443 [==============================] - 24s 54ms/step - loss: 0.3140 - accuracy: 0.8681 - val_loss: 0.2691 - val_accuracy: 0.8914\n",
      "Epoch 18/60\n",
      "443/443 [==============================] - 24s 54ms/step - loss: 0.3044 - accuracy: 0.8700 - val_loss: 0.2631 - val_accuracy: 0.8951\n",
      "Epoch 19/60\n",
      "443/443 [==============================] - 23s 53ms/step - loss: 0.3048 - accuracy: 0.8699 - val_loss: 0.2625 - val_accuracy: 0.8944\n",
      "Epoch 20/60\n",
      "443/443 [==============================] - 24s 54ms/step - loss: 0.2905 - accuracy: 0.8754 - val_loss: 0.2577 - val_accuracy: 0.8954\n",
      "Epoch 21/60\n",
      "443/443 [==============================] - 25s 57ms/step - loss: 0.2858 - accuracy: 0.8796 - val_loss: 0.2545 - val_accuracy: 0.8967\n",
      "Epoch 22/60\n",
      "443/443 [==============================] - 24s 54ms/step - loss: 0.2859 - accuracy: 0.8803 - val_loss: 0.2677 - val_accuracy: 0.8923\n",
      "Epoch 23/60\n",
      "443/443 [==============================] - 24s 54ms/step - loss: 0.2814 - accuracy: 0.8833 - val_loss: 0.2525 - val_accuracy: 0.8976\n",
      "Epoch 24/60\n",
      "443/443 [==============================] - 24s 54ms/step - loss: 0.2741 - accuracy: 0.8851 - val_loss: 0.2515 - val_accuracy: 0.9001\n",
      "Epoch 25/60\n",
      "443/443 [==============================] - 24s 54ms/step - loss: 0.2723 - accuracy: 0.8864 - val_loss: 0.2509 - val_accuracy: 0.8997\n",
      "Epoch 26/60\n",
      "443/443 [==============================] - 24s 54ms/step - loss: 0.2735 - accuracy: 0.8861 - val_loss: 0.2480 - val_accuracy: 0.9011\n",
      "Epoch 27/60\n",
      "443/443 [==============================] - 24s 54ms/step - loss: 0.2675 - accuracy: 0.8881 - val_loss: 0.2480 - val_accuracy: 0.8992\n",
      "Epoch 28/60\n",
      "443/443 [==============================] - 23s 53ms/step - loss: 0.2611 - accuracy: 0.8887 - val_loss: 0.2546 - val_accuracy: 0.8972\n",
      "Epoch 29/60\n",
      "443/443 [==============================] - 24s 54ms/step - loss: 0.2630 - accuracy: 0.8910 - val_loss: 0.2469 - val_accuracy: 0.9010\n",
      "Epoch 30/60\n",
      "443/443 [==============================] - 24s 53ms/step - loss: 0.2545 - accuracy: 0.8951 - val_loss: 0.2476 - val_accuracy: 0.9017\n",
      "Epoch 31/60\n",
      "443/443 [==============================] - 24s 54ms/step - loss: 0.2531 - accuracy: 0.8953 - val_loss: 0.2425 - val_accuracy: 0.9019\n",
      "Epoch 32/60\n",
      "443/443 [==============================] - 24s 54ms/step - loss: 0.2572 - accuracy: 0.8938 - val_loss: 0.2454 - val_accuracy: 0.9000\n",
      "Epoch 33/60\n",
      "443/443 [==============================] - 24s 54ms/step - loss: 0.2513 - accuracy: 0.8958 - val_loss: 0.2500 - val_accuracy: 0.8999\n",
      "Epoch 34/60\n",
      "443/443 [==============================] - 24s 54ms/step - loss: 0.2479 - accuracy: 0.8964 - val_loss: 0.2437 - val_accuracy: 0.9011\n",
      "Epoch 35/60\n",
      "443/443 [==============================] - 24s 53ms/step - loss: 0.2460 - accuracy: 0.8968 - val_loss: 0.2470 - val_accuracy: 0.9004\n",
      "Epoch 36/60\n",
      "443/443 [==============================] - 23s 53ms/step - loss: 0.2442 - accuracy: 0.8988 - val_loss: 0.2433 - val_accuracy: 0.9023\n",
      "Epoch 37/60\n",
      "443/443 [==============================] - 24s 54ms/step - loss: 0.2421 - accuracy: 0.9014 - val_loss: 0.2427 - val_accuracy: 0.9042\n",
      "Epoch 38/60\n",
      "443/443 [==============================] - 24s 54ms/step - loss: 0.2425 - accuracy: 0.8991 - val_loss: 0.2409 - val_accuracy: 0.9037\n",
      "Epoch 39/60\n",
      "443/443 [==============================] - 24s 53ms/step - loss: 0.2329 - accuracy: 0.9031 - val_loss: 0.2407 - val_accuracy: 0.9045\n",
      "Epoch 40/60\n",
      "443/443 [==============================] - 24s 54ms/step - loss: 0.2360 - accuracy: 0.9024 - val_loss: 0.2398 - val_accuracy: 0.9035\n",
      "Epoch 41/60\n",
      "443/443 [==============================] - 24s 54ms/step - loss: 0.2322 - accuracy: 0.9045 - val_loss: 0.2390 - val_accuracy: 0.9052\n",
      "Epoch 42/60\n",
      "443/443 [==============================] - 24s 53ms/step - loss: 0.2279 - accuracy: 0.9056 - val_loss: 0.2384 - val_accuracy: 0.9041\n",
      "Epoch 43/60\n",
      "443/443 [==============================] - 24s 54ms/step - loss: 0.2282 - accuracy: 0.9066 - val_loss: 0.2418 - val_accuracy: 0.9025\n",
      "Epoch 44/60\n",
      "443/443 [==============================] - 24s 53ms/step - loss: 0.2224 - accuracy: 0.9090 - val_loss: 0.2371 - val_accuracy: 0.9050\n",
      "Epoch 45/60\n",
      "443/443 [==============================] - 24s 54ms/step - loss: 0.2261 - accuracy: 0.9086 - val_loss: 0.2410 - val_accuracy: 0.9042\n",
      "Epoch 46/60\n",
      "443/443 [==============================] - 24s 54ms/step - loss: 0.2257 - accuracy: 0.9065 - val_loss: 0.2369 - val_accuracy: 0.9035\n",
      "Epoch 47/60\n",
      "443/443 [==============================] - 24s 54ms/step - loss: 0.2220 - accuracy: 0.9083 - val_loss: 0.2408 - val_accuracy: 0.9044\n",
      "Epoch 48/60\n",
      "443/443 [==============================] - 24s 53ms/step - loss: 0.2228 - accuracy: 0.9098 - val_loss: 0.2362 - val_accuracy: 0.9068\n",
      "Epoch 49/60\n",
      "443/443 [==============================] - 24s 54ms/step - loss: 0.2147 - accuracy: 0.9126 - val_loss: 0.2354 - val_accuracy: 0.9062\n",
      "Epoch 50/60\n",
      "443/443 [==============================] - 24s 55ms/step - loss: 0.2190 - accuracy: 0.9094 - val_loss: 0.2396 - val_accuracy: 0.9049\n",
      "Epoch 51/60\n",
      "443/443 [==============================] - 24s 54ms/step - loss: 0.2120 - accuracy: 0.9130 - val_loss: 0.2397 - val_accuracy: 0.9050\n",
      "Epoch 52/60\n",
      "443/443 [==============================] - 24s 54ms/step - loss: 0.2153 - accuracy: 0.9127 - val_loss: 0.2355 - val_accuracy: 0.9066\n",
      "Epoch 53/60\n",
      "443/443 [==============================] - 24s 54ms/step - loss: 0.2160 - accuracy: 0.9120 - val_loss: 0.2365 - val_accuracy: 0.9074\n",
      "Epoch 54/60\n",
      "443/443 [==============================] - 24s 54ms/step - loss: 0.2136 - accuracy: 0.9126 - val_loss: 0.2419 - val_accuracy: 0.9041\n",
      "Epoch 55/60\n",
      "443/443 [==============================] - 24s 54ms/step - loss: 0.2124 - accuracy: 0.9119 - val_loss: 0.2392 - val_accuracy: 0.9031\n",
      "Epoch 56/60\n",
      "443/443 [==============================] - 24s 54ms/step - loss: 0.2075 - accuracy: 0.9145 - val_loss: 0.2367 - val_accuracy: 0.9072\n",
      "Epoch 57/60\n",
      "443/443 [==============================] - 24s 53ms/step - loss: 0.2063 - accuracy: 0.9141 - val_loss: 0.2344 - val_accuracy: 0.9089\n",
      "Epoch 58/60\n",
      "443/443 [==============================] - 24s 54ms/step - loss: 0.2077 - accuracy: 0.9121 - val_loss: 0.2357 - val_accuracy: 0.9077\n",
      "Epoch 59/60\n",
      "443/443 [==============================] - 24s 53ms/step - loss: 0.2005 - accuracy: 0.9188 - val_loss: 0.2374 - val_accuracy: 0.9040\n",
      "Epoch 60/60\n",
      "443/443 [==============================] - 24s 54ms/step - loss: 0.2056 - accuracy: 0.9157 - val_loss: 0.2364 - val_accuracy: 0.9061\n"
     ]
    }
   ],
   "source": [
    "history_glove = entrenamiento_tpu()"
   ]
  },
  {
   "cell_type": "markdown",
   "metadata": {
    "id": "C5q6XikmnvCg"
   },
   "source": [
    "### **Verificación de las métricas del modelo establecido**"
   ]
  },
  {
   "cell_type": "code",
   "execution_count": null,
   "metadata": {
    "colab": {
     "base_uri": "https://localhost:8080/",
     "height": 791
    },
    "id": "1v-hwoCxll5g",
    "outputId": "899d014d-499c-4500-aa77-48f24d3ce6dd"
   },
   "outputs": [
    {
     "data": {
      "image/png": "[encoded data removed]",
      "text/plain": [
       "<Figure size 576x432 with 1 Axes>"
      ]
     },
     "metadata": {
      "needs_background": "light",
      "tags": []
     },
     "output_type": "display_data"
    },
    {
     "data": {
      "image/png": "[encoded data removed]",
      "text/plain": [
       "<Figure size 576x432 with 1 Axes>"
      ]
     },
     "metadata": {
      "needs_background": "light",
      "tags": []
     },
     "output_type": "display_data"
    }
   ],
   "source": [
    "plt.plot(history_glove.history['accuracy'])\n",
    "plt.plot(history_glove.history['val_accuracy'])\n",
    "\n",
    "plt.title('model accuracy')\n",
    "plt.ylabel('accuracy')\n",
    "plt.xlabel('epoch')\n",
    "plt.legend(['train','test'], loc = 'upper left')\n",
    "plt.savefig('accuracy.jpg', bbox_inches='tight', dpi=150)\n",
    "plt.show()\n",
    "\n",
    "plt.plot(history_glove.history['loss'])\n",
    "plt.plot(history_glove.history['val_loss'])\n",
    "\n",
    "plt.title('model loss')\n",
    "plt.ylabel('loss')\n",
    "plt.xlabel('epoch')\n",
    "plt.legend(['train','test'], loc = 'upper left')\n",
    "plt.savefig('loss.jpg', bbox_inches='tight', dpi=150)\n",
    "plt.show()"
   ]
  },
  {
   "cell_type": "markdown",
   "metadata": {
    "id": "Tv9fI8hyoLzm"
   },
   "source": [
    "### **Prueba del modelo en datos que desconoce**\n",
    "\n",
    "A continuación, se realiza el respectivo testeo del modelo con datos que son completamente desconocidos por el modelo y que por su puesto no participaron al momento del entrenamiento"
   ]
  },
  {
   "cell_type": "code",
   "execution_count": null,
   "metadata": {
    "colab": {
     "base_uri": "https://localhost:8080/"
    },
    "id": "lSS6ruRvmBeL",
    "outputId": "b0b2041a-936f-4618-fa56-d08f7a85e62b"
   },
   "outputs": [
    {
     "name": "stdout",
     "output_type": "stream",
     "text": [
      "947/947 [==============================] - 25s 25ms/step - loss: 0.2389 - accuracy: 0.9041\n",
      "Test Loss: 0.2389037013053894\n",
      "Test Accuracy: 0.9041286110877991\n"
     ]
    }
   ],
   "source": [
    "score = model_glove.evaluate(X_test, y_test, verbose=1)\n",
    "\n",
    "print(\"Test Loss:\", score[0])\n",
    "print(\"Test Accuracy:\", score[1])"
   ]
  },
  {
   "cell_type": "code",
   "execution_count": null,
   "metadata": {
    "colab": {
     "base_uri": "https://localhost:8080/"
    },
    "id": "IgCgXMmZEL0i",
    "outputId": "be5a91ca-2745-4b23-863d-33664364e7ae"
   },
   "outputs": [
    {
     "data": {
      "text/plain": [
       "array([[0.9550391 ],\n",
       "       [0.00539756],\n",
       "       [0.96245396],\n",
       "       ...,\n",
       "       [0.9559499 ],\n",
       "       [0.84220403],\n",
       "       [0.9852489 ]], dtype=float32)"
      ]
     },
     "execution_count": 56,
     "metadata": {
      "tags": []
     },
     "output_type": "execute_result"
    }
   ],
   "source": [
    "## Predicciones del modelo\n",
    "model_glove.predict(X_test)"
   ]
  },
  {
   "cell_type": "markdown",
   "metadata": {
    "id": "S0t8HxMUF7Sk"
   },
   "source": [
    "## **Predicción y clasificación del sentimiento**"
   ]
  },
  {
   "cell_type": "markdown",
   "metadata": {
    "id": "PfOfzMDohr75"
   },
   "source": [
    "### ***Ejemplo para un comentario negativo sobre algún video o película***"
   ]
  },
  {
   "cell_type": "code",
   "execution_count": null,
   "metadata": {
    "colab": {
     "base_uri": "https://localhost:8080/"
    },
    "id": "C5mkS-YzEvpn",
    "outputId": "2e322c40-fee4-4700-c512-00261ed9457c"
   },
   "outputs": [
    {
     "data": {
      "text/plain": [
       "array([[   0,    0,    0,    0,    0,    0,    0,    0,    0,    0,    0,\n",
       "           0,    0,    0,    0,    0,    0,    0,    0,    0,    0,    0,\n",
       "           0,    0,    0,    0,    0,    0,    0,    0,    0,    0,    0,\n",
       "           0,    0,    0,    0,    0,    0,    0,    0,    0,    0,    0,\n",
       "           0,    0,    0,    0,    0,    0,    0,    0,    0,    0,    0,\n",
       "           0,    0,    0,    0,    0,    0,    0,    0,    0,    0,    0,\n",
       "           0,    0,    0,    0,    0,    0,    0,    0,    0,    0,    0,\n",
       "           0,    0,    0,    0,    0,    0,    0,    0,    0,    0,    0,\n",
       "           0,    0,    0,    0,    0,    0,    0,    0,    0,    0,    0,\n",
       "           0,    0,    0,    0,    0,    0,    0,    0,    0,    0,    0,\n",
       "           0,    0,    0,    0,    0,    0,    0,    0,    0,    0,    0,\n",
       "           0,    0,    0,    0,    0,    0,    0,    0,    0,    0,    0,\n",
       "           0,    0,    0,    0,    0,    0,    0,    0,    0,    0,    0,\n",
       "           0,    0,    0,    0,    0,    0,    0,    0,    0,    0,    0,\n",
       "           0,    0,    0,    0,    0,    0,    0,    0,    0,    0,    0,\n",
       "           0,    0,    0,    0,    0,    0,    0,    0,    0,    0,    0,\n",
       "           0,    0,    0,    0,    0,    0,    0,    0,    0,    0,    0,\n",
       "           0,    0,    0,    0,    0,    0,    0,    0,    0,    0,    0,\n",
       "           0,    0,    0,    0,    0,    0,    0,    0,    0,    0,    0,\n",
       "           0,    0,    0,    0,    0,    0,    0,    0,    0,    0,    0,\n",
       "           0,    0,    0,    0,    0,    0,    0,    0,    0,    0,    0,\n",
       "           0,    0,    0,    0,    0,    0,    0,    0,    0,    0,    0,\n",
       "           0,    0,    0,    0,    0,    0,    0,    0,    0,    0,    0,\n",
       "           0,    0,    0,    0,    0,    0,    0,    0,    0,    0,    0,\n",
       "           0,    0,    0,    0,    0,    0,    0,    0,    0,    0,    0,\n",
       "           0,    0,    0,    0,    0,    0,    0,    0,    0,    0,    0,\n",
       "           0,    0,    0,    0,    0,    0,    0,    0,    0,    0,    0,\n",
       "           0,    0,    0,    0,    0,    0,    0,    0,    0,    0,    0,\n",
       "           0,    0,    0,    0,    0,    0,    0,    0,    0,    0,    0,\n",
       "           0,    0,    0,    0,    0,    0,    0,    0,    0,    0,    0,\n",
       "           0,    0,    0,    0,    0,    0,    0,    0,    0,    0,    0,\n",
       "           0,    0,    0,    0,    0,    0,    0,    0,    0,    0,    0,\n",
       "           0,    0,    0,    0,    0,    0,    0,    0,    0,    0,    0,\n",
       "           0,    0,    0,    0,    0,    0,    0,    0,    0,    0,    0,\n",
       "           0,    0,    0,    0,    0,    0,    0,    0,    0,    0,    0,\n",
       "           0,    0,    0,    0,    0,    0,    0,    0,    0,    0,    0,\n",
       "           0,    0,    0,    0,    0,    0,    0,    0,    0,    0,    0,\n",
       "           0,    0,    0,    0,    0,    0,    0,    0,    0,    0,    0,\n",
       "           0,    0,    0,    0,    0,    0,    0,    0,    0,    0,    0,\n",
       "           0,    0,    0,    0,    0,    0,    0,    0,    0,    0,    0,\n",
       "           0,    0,    0,    0,    0,    0,    0,    0,    0,    0,    0,\n",
       "           0,    0,    0,    0,    0,    0,    0,    0,    0,    0,    0,\n",
       "           0,    0,    0,    0,    0,    0,    0,    0,    0,    0,    0,\n",
       "           0,    0,    0,    0,   95, 1108,    1,   16,    4,   25,  324,\n",
       "           2,    7,  385, 6499,   64,   90,   95,   77,   19,  327,    6,\n",
       "          77,   19,  430,  114,   53]], dtype=int32)"
      ]
     },
     "execution_count": 57,
     "metadata": {
      "tags": []
     },
     "output_type": "execute_result"
    }
   ],
   "source": [
    "## Ejemplo de predicción y clasificación de un sentimiento negativo\n",
    "test_word = []\n",
    "\n",
    "# Ejemplo para un sentimiento negativo\n",
    "test_word.append(\"I consider the film to be boring and in several sections really bad, I do not recommend it, do not waste your time\")\n",
    "\n",
    "tw = tokenizer.texts_to_sequences(test_word)\n",
    "tw = pad_sequences(tw,maxlen=500)\n",
    "tw"
   ]
  },
  {
   "cell_type": "code",
   "execution_count": null,
   "metadata": {
    "colab": {
     "base_uri": "https://localhost:8080/"
    },
    "id": "9VzXormuE9Ne",
    "outputId": "f448d729-abd9-46df-83ff-245e9d888765"
   },
   "outputs": [
    {
     "name": "stdout",
     "output_type": "stream",
     "text": [
      "WARNING:tensorflow:Model was constructed with shape (None, 300) for input KerasTensor(type_spec=TensorSpec(shape=(None, 300), dtype=tf.float32, name='embedding_1_input'), name='embedding_1_input', description=\"created by layer 'embedding_1_input'\"), but it was called on an input with incompatible shape (None, 500).\n"
     ]
    },
    {
     "name": "stderr",
     "output_type": "stream",
     "text": [
      "WARNING:tensorflow:Model was constructed with shape (None, 300) for input KerasTensor(type_spec=TensorSpec(shape=(None, 300), dtype=tf.float32, name='embedding_1_input'), name='embedding_1_input', description=\"created by layer 'embedding_1_input'\"), but it was called on an input with incompatible shape (None, 500).\n"
     ]
    },
    {
     "data": {
      "text/plain": [
       "array([[0.03584477]], dtype=float32)"
      ]
     },
     "execution_count": 58,
     "metadata": {
      "tags": []
     },
     "output_type": "execute_result"
    }
   ],
   "source": [
    "prediction = model_glove.predict(tw)\n",
    "prediction"
   ]
  },
  {
   "cell_type": "markdown",
   "metadata": {
    "id": "6z6C0uEdhr75"
   },
   "source": [
    "Como se presenta a continuación, y bajo la determinación en la categorización inicial, en donde se definio que la categoría cero (0) haría referencia a sentimientos negativos y uno (1) a sentimientos positivos, se tiene que si la predicción es menor a 0.5 el modelo lo que nos indica es que interpreta que el comentario es negativo y en caso contrario positivo, por lo que la anterior predicción (0.03584477) indica que el comentarios es negativo, siendo esto correcto como se presenta a continuación:"
   ]
  },
  {
   "cell_type": "code",
   "execution_count": null,
   "metadata": {
    "colab": {
     "base_uri": "https://localhost:8080/"
    },
    "id": "_C7nvxNpGdAE",
    "outputId": "450d0d67-b20e-4294-aedf-55f0f79efd55"
   },
   "outputs": [
    {
     "name": "stdout",
     "output_type": "stream",
     "text": [
      "Sentimiento Negativo\n"
     ]
    }
   ],
   "source": [
    "if prediction <0.5:\n",
    "  print(\"Sentimiento Negativo\") \n",
    "else:\n",
    "  print(\"Sentimiento Positivo\")"
   ]
  },
  {
   "cell_type": "markdown",
   "metadata": {
    "id": "DO70oMJRhr76"
   },
   "source": [
    "### ***Ejemplo de un comentario positivo para un video o película***"
   ]
  },
  {
   "cell_type": "code",
   "execution_count": null,
   "metadata": {
    "colab": {
     "base_uri": "https://localhost:8080/"
    },
    "id": "AZTgkQeKGO6p",
    "outputId": "e42e8135-f9a9-422d-f6f1-e395675ee782"
   },
   "outputs": [
    {
     "data": {
      "text/plain": [
       "array([[  0,   0,   0,   0,   0,   0,   0,   0,   0,   0,   0,   0,   0,\n",
       "          0,   0,   0,   0,   0,   0,   0,   0,   0,   0,   0,   0,   0,\n",
       "          0,   0,   0,   0,   0,   0,   0,   0,   0,   0,   0,   0,   0,\n",
       "          0,   0,   0,   0,   0,   0,   0,   0,   0,   0,   0,   0,   0,\n",
       "          0,   0,   0,   0,   0,   0,   0,   0,   0,   0,   0,   0,   0,\n",
       "          0,   0,   0,   0,   0,   0,   0,   0,   0,   0,   0,   0,   0,\n",
       "          0,   0,   0,   0,   0,   0,   0,   0,   0,   0,   0,   0,   0,\n",
       "          0,   0,   0,   0,   0,   0,   0,   0,   0,   0,   0,   0,   0,\n",
       "          0,   0,   0,   0,   0,   0,   0,   0,   0,   0,   0,   0,   0,\n",
       "          0,   0,   0,   0,   0,   0,   0,   0,   0,   0,   0,   0,   0,\n",
       "          0,   0,   0,   0,   0,   0,   0,   0,   0,   0,   0,   0,   0,\n",
       "          0,   0,   0,   0,   0,   0,   0,   0,   0,   0,   0,   0,   0,\n",
       "          0,   0,   0,   0,   0,   0,   0,   0,   0,   0,   0,   0,   0,\n",
       "          0,   0,   0,   0,   0,   0,   0,   0,   0,   0,   0,   0,   0,\n",
       "          0,   0,   0,   0,   0,   0,   0,   0,   0,   0,   0,   0,   0,\n",
       "          0,   0,   0,   0,   0,   0,   0,   0,   0,   0,   0,   0,   0,\n",
       "          0,   0,   0,   0,   0,   0,   0,   0,   0,   0,   0,   0,   0,\n",
       "          0,   0,   0,   0,   0,   0,   0,   0,   0,   0,   0,   0,   0,\n",
       "          0,   0,   0,   0,   0,   0,   0,   0,   0,   0,   0,   0,   0,\n",
       "          0,   0,   0,   0,   0,   0,   0,   0,   0,   0,   0,   0,   0,\n",
       "          0,   0,   0,   0,   0,   0,   0,   0,   0,   0,   0,   0,   0,\n",
       "          0,   0,   0,   0,   0,   0,   0,   0,   0,   0,   0,   0,   0,\n",
       "          0,   0,   0,   0,   0,   0,   0,   0,   0,   0,   0,   0,   0,\n",
       "          0,   0,   0,   0,   0,   0,   0,   0,   0,   0,   0,   0,   0,\n",
       "          0,   0,   0,   0,   0,   0,   0,   0,   0,   0,   0,   0,   0,\n",
       "          0,   0,   0,   0,   0,   0,   0,   0,   0,   0,   0,   0,   0,\n",
       "          0,   0,   0,   0,   0,   0,   0,   0,   0,   0,   0,   0,   0,\n",
       "          0,   0,   0,   0,   0,   0,   0,   0,   0,   0,   0,   0,   0,\n",
       "          0,   0,   0,   0,   0,   0,   0,   0,   0,   0,   0,   0,   0,\n",
       "          0,   0,   0,   0,   0,   0,   0,   0,   0,   0,   0,   0,   0,\n",
       "          0,   0,   0,   0,   0,   0,   0,   0,   0,   0,   0,   0,   0,\n",
       "          0,   0,   0,   0,   0,   0,   0,   0,   0,   0,   0,   0,   0,\n",
       "          0,   0,   0,   0,   0,   0,   0,   0,   0,   0,   0,   0,   0,\n",
       "          0,   0,   0,   0,   0,   0,   0,   0,   0,   0,   0,   0,   0,\n",
       "          0,   0,   0,   0,   0,   0,   0,   0,   0,   0,   0,   0,   0,\n",
       "          0,   0,   0,   0,   0,   0,   0,   0,   0,   0,   0,   0,   0,\n",
       "          0,   0,   0,   0,   0,   0,   0,   0,   0,   0,   0,   0,   0,\n",
       "          0,   0,   0,   0,   0,   0,   0,  42, 128,  43,  12, 470, 882,\n",
       "         95, 253,   6, 398,   2, 227]], dtype=int32)"
      ]
     },
     "execution_count": 60,
     "metadata": {
      "tags": []
     },
     "output_type": "execute_result"
    }
   ],
   "source": [
    "## Ejemplo de predicción y clasificación de un sentimiento positivo\n",
    "test_word = []\n",
    "\n",
    "# Ejemplo para un sentimiento positivo\n",
    "test_word.append(\"What a good movie, highly recommended, I found it entertaining and fun\")\n",
    "\n",
    "tw = tokenizer.texts_to_sequences(test_word)\n",
    "tw = pad_sequences(tw,maxlen=500)\n",
    "tw"
   ]
  },
  {
   "cell_type": "code",
   "execution_count": null,
   "metadata": {
    "colab": {
     "base_uri": "https://localhost:8080/"
    },
    "id": "PR40jQ7lGZ16",
    "outputId": "756a132e-c9ea-48fc-a06d-cba2746efc6c"
   },
   "outputs": [
    {
     "data": {
      "text/plain": [
       "array([[0.99683964]], dtype=float32)"
      ]
     },
     "execution_count": 61,
     "metadata": {
      "tags": []
     },
     "output_type": "execute_result"
    }
   ],
   "source": [
    "prediction = model_glove.predict(tw)\n",
    "prediction"
   ]
  },
  {
   "cell_type": "markdown",
   "metadata": {
    "id": "cGEEOkJahr78"
   },
   "source": [
    "Como ya se mencionó anteriormente, lo que vamos a ver a continuación es que el modelo detectó de forma correcta el sentimiento del comentario anterior siendo el sentimiento expresado positivo como se presenta a continuación:"
   ]
  },
  {
   "cell_type": "code",
   "execution_count": null,
   "metadata": {
    "colab": {
     "base_uri": "https://localhost:8080/"
    },
    "id": "YbUSCLBME0PX",
    "outputId": "0b537fad-e5b0-4aa1-d691-028afa758879"
   },
   "outputs": [
    {
     "name": "stdout",
     "output_type": "stream",
     "text": [
      "Sentimiento Positivo\n"
     ]
    }
   ],
   "source": [
    "if prediction <0.5:\n",
    "  print(\"Sentimiento Negativo\") \n",
    "else:\n",
    "  print(\"Sentimiento Positivo\")"
   ]
  },
  {
   "cell_type": "markdown",
   "metadata": {
    "id": "QhDdZAvLGwTE"
   },
   "source": [
    "### **Matriz de confusión**"
   ]
  },
  {
   "cell_type": "code",
   "execution_count": null,
   "metadata": {
    "colab": {
     "base_uri": "https://localhost:8080/"
    },
    "id": "9Wb0D5wYR1Oo",
    "outputId": "0c64ac88-e459-4645-8ff8-622dd0f4c3f6"
   },
   "outputs": [
    {
     "name": "stdout",
     "output_type": "stream",
     "text": [
      "Confusion Matrix:\n",
      "\n",
      "[[13535  1575]\n",
      " [ 1330 13861]] \n",
      "\n",
      "              precision    recall  f1-score   support\n",
      "\n",
      "         0.0       0.91      0.90      0.90     15110\n",
      "         1.0       0.90      0.91      0.91     15191\n",
      "\n",
      "    accuracy                           0.90     30301\n",
      "   macro avg       0.90      0.90      0.90     30301\n",
      "weighted avg       0.90      0.90      0.90     30301\n",
      "\n"
     ]
    }
   ],
   "source": [
    "from sklearn.metrics import classification_report, confusion_matrix\n",
    "from sklearn.metrics import plot_confusion_matrix\n",
    "\n",
    "predict = model_glove.predict(X_test)\n",
    "y_pred = [1 * (x[0]>=0.5) for x in predict]\n",
    "\n",
    "print('Confusion Matrix:\\n')\n",
    "print(confusion_matrix(y_test, y_pred),'\\n')\n",
    "\n",
    "print(classification_report(y_test, y_pred))"
   ]
  },
  {
   "cell_type": "markdown",
   "metadata": {
    "id": "vCzaYjwZhr79"
   },
   "source": [
    "Sobre la **exactitud o accuracy** de nuestro modelo, tenemos que de forma general esta exactitud en la clase del sentimiento evaluado es del $90\\%$, lo que indica que de cada 100 comentarios, acierta en 90 de estos sobre el sentimiento emitido por el usuario, mientras que en los otros 10 comentarios no logra con exactitud predecir el sentimiento sobre el comentario evaluado, por otra parte tenemos que la **Precisión** de nuestro modelo es mayor en los comentarios en donde los sentimientos de los comentarios son negativos $91\\%$, mientras que la precisión en los comentarios con sentimientos positivos es del $90\\%$, lo que de forma general es algo muy bueno, entendiendo que en muchos comentarios la completa definición del sentimiento a través de las palabras puede llegar a ser no muy clara, ya que en un comentario pueden existir a la vez palabras positivas y negativas imposibilitando la definición clara de un sentimiento. Por otra parte, encontramos muy positivo los resultados emitidos por el **recall** o sensibilidad del modelo, ya que la proporción de casos positivos (en donde el modelo acierta con el sentimiento predicho) es alta respecto al total de casos positivos (del sentimiento correcto)."
   ]
  },
  {
   "cell_type": "markdown",
   "metadata": {
    "id": "VTMmrhkAOopa"
   },
   "source": [
    "## **Verificación de las palabras que definen la clase de sentimiento entregado en los comentarios de los videos y las peliculas de amazon**"
   ]
  },
  {
   "cell_type": "markdown",
   "metadata": {
    "id": "O1yEnQLDhr7-"
   },
   "source": [
    "A continuación, se instalará la librería vaderSentiment la cual nos mostrará otra forma de encontrar el sentimiento emitido en los comentarios de los videos y de las películas de nuestro análisis."
   ]
  },
  {
   "cell_type": "code",
   "execution_count": null,
   "metadata": {
    "colab": {
     "base_uri": "https://localhost:8080/"
    },
    "id": "iWYVpOyB7Mbe",
    "outputId": "52f404a2-12e4-4b8e-b270-6bd21b173b44"
   },
   "outputs": [
    {
     "name": "stdout",
     "output_type": "stream",
     "text": [
      "Collecting vaderSentiment\n",
      "\u001b[?25l  Downloading https://files.pythonhosted.org/packages/76/fc/310e16254683c1ed35eeb97386986d6c00bc29df17ce280aed64d55537e9/vaderSentiment-3.3.2-py2.py3-none-any.whl (125kB)\n",
      "\r",
      "\u001b[K     |██▋                             | 10kB 14.7MB/s eta 0:00:01\r",
      "\u001b[K     |█████▏                          | 20kB 14.1MB/s eta 0:00:01\r",
      "\u001b[K     |███████▉                        | 30kB 9.6MB/s eta 0:00:01\r",
      "\u001b[K     |██████████▍                     | 40kB 7.9MB/s eta 0:00:01\r",
      "\u001b[K     |█████████████                   | 51kB 5.5MB/s eta 0:00:01\r",
      "\u001b[K     |███████████████▋                | 61kB 6.0MB/s eta 0:00:01\r",
      "\u001b[K     |██████████████████▏             | 71kB 5.7MB/s eta 0:00:01\r",
      "\u001b[K     |████████████████████▉           | 81kB 6.2MB/s eta 0:00:01\r",
      "\u001b[K     |███████████████████████▍        | 92kB 6.4MB/s eta 0:00:01\r",
      "\u001b[K     |██████████████████████████      | 102kB 6.6MB/s eta 0:00:01\r",
      "\u001b[K     |████████████████████████████▋   | 112kB 6.6MB/s eta 0:00:01\r",
      "\u001b[K     |███████████████████████████████▏| 122kB 6.6MB/s eta 0:00:01\r",
      "\u001b[K     |████████████████████████████████| 133kB 6.6MB/s \n",
      "\u001b[?25hRequirement already satisfied: requests in /usr/local/lib/python3.7/dist-packages (from vaderSentiment) (2.23.0)\n",
      "Requirement already satisfied: idna<3,>=2.5 in /usr/local/lib/python3.7/dist-packages (from requests->vaderSentiment) (2.10)\n",
      "Requirement already satisfied: chardet<4,>=3.0.2 in /usr/local/lib/python3.7/dist-packages (from requests->vaderSentiment) (3.0.4)\n",
      "Requirement already satisfied: urllib3!=1.25.0,!=1.25.1,<1.26,>=1.21.1 in /usr/local/lib/python3.7/dist-packages (from requests->vaderSentiment) (1.24.3)\n",
      "Requirement already satisfied: certifi>=2017.4.17 in /usr/local/lib/python3.7/dist-packages (from requests->vaderSentiment) (2020.12.5)\n",
      "Installing collected packages: vaderSentiment\n",
      "Successfully installed vaderSentiment-3.3.2\n"
     ]
    }
   ],
   "source": [
    "# Instalación de la librería vadersentiment\n",
    "!pip install vaderSentiment"
   ]
  },
  {
   "cell_type": "markdown",
   "metadata": {
    "id": "3zMzN9tihr7-"
   },
   "source": [
    "### ***Librería vaderSentiment***"
   ]
  },
  {
   "cell_type": "markdown",
   "metadata": {
    "id": "Qy4kLpBkhr7_"
   },
   "source": [
    "VADER (Valence Aware Dictionary and sEntiment Reasoner) es una herramienta de análisis de sentimientos basada en reglas y léxico que está específicamente en sintonía con los sentimientos expresados en las redes sociales.\n",
    "\n",
    "El léxico de sentimientos de VADER es sensible tanto a la polaridad como a la intensidad de los sentimientos expresados en contextos de redes sociales, y también es generalmente aplicable al análisis de sentimientos en otros dominios.\n",
    "\n",
    "Una de las particularidades de esta librería es que no solo evalua la polaridad del sentimiento (negativo/positivo), si no además su intensidad en una escala de –4 a +4. Por ejemplo, la palabra \"bien\" tiene una valencia positiva de 0,9, \"buena\" es 1,9 y \"excelente\" es 3,1, mientras que \"horrible\" es –2,5, el emoticón con el ceño fruncido :( es –2,2 y \"apesta\" y su derivado del argot \"sux\" son ambos –1.5.\n",
    "\n",
    "**Sobre la puntuación**\n",
    "\n",
    "La puntuación compuesta se calcula sumando las puntuaciones de valor de cada palabra en el léxico, se ajusta de acuerdo con las reglas y luego se normaliza para estar entre -1 (más extremo negativo) y +1 (más extremo positivo). Esta es la métrica más útil si desea una única medida unidimensional de sentimiento para una oración determinada. Llamarlo una 'puntuación compuesta ponderada normalizada' es exacto, como se presenta a continuación:\n",
    "\n",
    "1. positive sentiment: compound score >= 0.05\n",
    "2. neutral sentiment: (compound score > -0.05) and (compound score < 0.05)\n",
    "3. negative sentiment: compound score <= -0.05\n",
    "\n",
    "Los puntajes pos, neu y neg son razones para las proporciones de texto que caen en cada categoría (por lo que todos deben sumar 1 ... o cerca de él). Estas son las métricas más útiles si desea analizar el contexto y la presentación de cómo el sentimiento se transmite o se integra en la retórica para una oración determinada. Por ejemplo, diferentes estilos de escritura pueden incrustar sentimientos fuertemente positivos o negativos dentro de proporciones variables de texto neutral; es decir, algunos estilos de escritura pueden reflejar una inclinación por la retórica con más fuerza, mientras que otros estilos pueden usar una gran cantidad de texto neutral sin dejar de transmitir un sentimiento general (compuesto) similar. Como otro ejemplo: los investigadores que analizan la presentación de información en noticias periodísticas o editoriales pueden desear establecer si las proporciones de texto (asociadas con un tema o entidad nombrada, por ejemplo) están equilibradas con cantidades similares de texto enmarcado como positiva y negativamente en comparación con si están \"sesgadas\". hacia una polaridad u otra para el tema o la entidad.\n",
    "\n",
    "Para mayor información sobre esta librería pueden consultar [vaderSentiment](https://github.com/cjhutto/vaderSentiment)"
   ]
  },
  {
   "cell_type": "markdown",
   "metadata": {
    "id": "2xTE77ra4vwl"
   },
   "source": [
    "### **Proceso de busqueda de palabras y frases que definen los sentimientos positivos y negativos**"
   ]
  },
  {
   "cell_type": "code",
   "execution_count": null,
   "metadata": {
    "colab": {
     "base_uri": "https://localhost:8080/"
    },
    "id": "PPHHnJ7E1nFP",
    "outputId": "279e6a3b-f0ee-4895-cb53-d851dcd42ae1"
   },
   "outputs": [
    {
     "name": "stderr",
     "output_type": "stream",
     "text": [
      "/usr/local/lib/python3.7/dist-packages/nltk/twitter/__init__.py:20: UserWarning:\n",
      "\n",
      "The twython library has not been installed. Some functionality from the twitter package will not be available.\n",
      "\n"
     ]
    }
   ],
   "source": [
    "#from textblob import textblob \n",
    "\n",
    "from nltk.tokenize import word_tokenize, RegexpTokenizer\n",
    "from nltk.sentiment.vader import SentimentIntensityAnalyzer\n",
    "from vaderSentiment.vaderSentiment import SentimentIntensityAnalyzer"
   ]
  },
  {
   "cell_type": "markdown",
   "metadata": {
    "id": "c3PaBbLPIxf3"
   },
   "source": [
    "### **Palabras que definen los sentimientos positivos de los comentarios de las peliculas y videos de amazon**"
   ]
  },
  {
   "cell_type": "code",
   "execution_count": null,
   "metadata": {
    "colab": {
     "base_uri": "https://localhost:8080/",
     "height": 810
    },
    "id": "MKQmI8AqIuKM",
    "outputId": "87854311-c334-46ad-a19b-1b7b0c6bd47d"
   },
   "outputs": [
    {
     "name": "stdout",
     "output_type": "stream",
     "text": [
      "movie 61669\n",
      "film 56729\n",
      "like 24323\n",
      "good 24182\n",
      "great 23732\n",
      "time 19696\n",
      "just 19599\n",
      "quot 19544\n",
      "story 18494\n",
      "dvd 14522\n",
      "love 14029\n",
      "really 13744\n",
      "best 13597\n",
      "movies 11970\n",
      "films 10906\n",
      "watch 10698\n",
      "way 10688\n",
      "life 10309\n",
      "people 9954\n",
      "don 9440\n",
      "CPU times: user 7.51 s, sys: 59.6 ms, total: 7.57 s\n",
      "Wall time: 7.58 s\n"
     ]
    },
    {
     "data": {
      "image/png": "[encoded data removed]",
      "text/plain": [
       "<Figure size 576x432 with 1 Axes>"
      ]
     },
     "metadata": {
      "needs_background": "light",
      "tags": []
     },
     "output_type": "display_data"
    }
   ],
   "source": [
    "%%time\n",
    "# Positive reviews\n",
    "good_indices = amazon_data_bal[\"overall\"] > 3.1\n",
    "good_reviews = amazon_data_bal[good_indices]\n",
    "bad_indices = amazon_data_bal[\"overall\"] < 2.1\n",
    "bad_reviews = amazon_data_bal[bad_indices]\n",
    "\n",
    "common_words = get_top_n_words(good_reviews[\"reviewText\"], 20)\n",
    "for word, freq in common_words:\n",
    "    print(word, freq)\n",
    "\n",
    "df = pd.DataFrame(common_words, columns=[\"words\", 'count'])\n",
    "df.groupby('words').sum()['count'].sort_values(ascending=False).plot(\n",
    "    kind='bar', title='Top 20 de las palabras más frecuentes para los comentarios positivos'\n",
    ")"
   ]
  },
  {
   "cell_type": "markdown",
   "metadata": {
    "id": "4uWvXWNOhr8A"
   },
   "source": [
    "Las palabras con mayor frecuencia en los sentimientos positivos fueron movie, film, like, good entre otras, sin embargo, es claro que las primeras palabras como movie o film, no son las que estan definiendo el sentimiento de forma general en estos comentarios, como si muy posiblemente lo esten haciendo palabras como like, good o great que no carencen de ser vacías y dan fuertemente un contexto a lo comentado en la película o video."
   ]
  },
  {
   "cell_type": "markdown",
   "metadata": {
    "id": "uJx2Cu8LI9c0"
   },
   "source": [
    "### **Palabras que definen los sentimientos negativos de los comentarios de las peliculas y videos en amazon**"
   ]
  },
  {
   "cell_type": "code",
   "execution_count": null,
   "metadata": {
    "colab": {
     "base_uri": "https://localhost:8080/",
     "height": 810
    },
    "id": "Ev22LNeeI9Gr",
    "outputId": "e337f5fa-45ce-4371-f3fd-defdab78d79d"
   },
   "outputs": [
    {
     "name": "stdout",
     "output_type": "stream",
     "text": [
      "movie 76312\n",
      "film 56308\n",
      "like 33460\n",
      "just 31713\n",
      "good 22664\n",
      "quot 22331\n",
      "time 18701\n",
      "really 17296\n",
      "bad 17176\n",
      "story 16009\n",
      "don 15864\n",
      "dvd 14331\n",
      "people 12741\n",
      "movies 12481\n",
      "better 12252\n",
      "make 12206\n",
      "way 11641\n",
      "did 11619\n",
      "great 11379\n",
      "watch 10802\n",
      "CPU times: user 7.64 s, sys: 31.4 ms, total: 7.67 s\n",
      "Wall time: 7.67 s\n"
     ]
    },
    {
     "data": {
      "image/png": "[encoded data removed]",
      "text/plain": [
       "<Figure size 576x432 with 1 Axes>"
      ]
     },
     "metadata": {
      "needs_background": "light",
      "tags": []
     },
     "output_type": "display_data"
    }
   ],
   "source": [
    "%%time\n",
    "\n",
    "# Negative reviews\n",
    "common_words = get_top_n_words(bad_reviews['reviewText'], 20)\n",
    "for word, freq in common_words:\n",
    "    print(word, freq)\n",
    "df = pd.DataFrame(common_words, columns=['words', 'count'])\n",
    "df.groupby('words').sum()['count'].sort_values(ascending=False).plot(\n",
    "    kind='bar', title='Top 20 de las palabras más frecuentes para los comentarios negativos'\n",
    ")"
   ]
  },
  {
   "cell_type": "markdown",
   "metadata": {
    "id": "CyR6_89shr8B"
   },
   "source": [
    "Las palabras con mayor frecuencia en los sentimientos negativos fueron movie, film, like, just,good entre otras, sin embargo, es claro que las primeras palabras como movie o film, no son las que estan definiendo el sentimiento de forma general en estos comentarios, de forma inesperada se ve palabras como good mucho más frecuente que bad, sin embargo, muchas veces estas palabras estan acompañadas de negaciones como \"No fue buena\", \"para nada buena\" que puedan estar realmente generando la definición del sentimiento, por lo que es algo que se debe realmente profundizar y conocer cuales son las palabras que realmente definen y hacen que un comentario sea positivo o negativo."
   ]
  },
  {
   "cell_type": "markdown",
   "metadata": {
    "id": "xMb9PhTxJHcT"
   },
   "source": [
    "## **Extracción de las palabras claves que definen el sentimiento del comentario de las peliculas**"
   ]
  },
  {
   "cell_type": "code",
   "execution_count": null,
   "metadata": {
    "colab": {
     "base_uri": "https://localhost:8080/"
    },
    "id": "hlsX5f456z6I",
    "outputId": "1af609d7-931a-4909-c577-1bc87368fac4"
   },
   "outputs": [
    {
     "name": "stdout",
     "output_type": "stream",
     "text": [
      "The acting was good the story was correct but naked backsides was not necessary Also the Potiphers wife did not need to be so very seductive of naked Joseph Not Christian movie felt that even though it was probably portrayed truthfully Christans do not need to see so explicit scene This should be rated PG at least \n",
      "{'neg': 0.0, 'neu': 0.905, 'pos': 0.095, 'compound': 0.7003}\n"
     ]
    }
   ],
   "source": [
    "from vaderSentiment.vaderSentiment import SentimentIntensityAnalyzer\n",
    "\n",
    "analyzer=SentimentIntensityAnalyzer()\n",
    "sent=analyzer.polarity_scores(X[0])\n",
    "print(X[0])\n",
    "print(sent)"
   ]
  },
  {
   "cell_type": "markdown",
   "metadata": {
    "id": "rupeu5T3hr8C"
   },
   "source": [
    "Una ventaja que nos da la implementación de vaderSentiment es que nos permite conocer en terminos de proporción o probabilidad (según se considere) la fuerza con la que el comentario analizado pueda ser positivo, negativo o neutral con una calificación compuesta que indica realmente la orientación del texto a un sentimiento, así por ejemplo con el caso anterior, se tiene que aunque gran parte del texto tiene una composición neutral (0.905) el compound es de (0.7003) inclinando esta puntuación a que el comentario es positivo."
   ]
  },
  {
   "cell_type": "markdown",
   "metadata": {
    "id": "e2Z0NuSYhr8C"
   },
   "source": [
    "### **Función para extraer las palabras que definen el sentimiento de los comentarios de las películas y videos**"
   ]
  },
  {
   "cell_type": "markdown",
   "metadata": {
    "id": "CU6elbyWhr8C"
   },
   "source": [
    "Entendiendo que en el comentario existen muchas palabras que definen la orientación del sentimiento, la siguiente función nos permitira conocer cuales son las palabras que le dan la fuerza o inclinación al comentario sobre la polaridad del mismo definiendolo como positivo o negativo, además este ejercicio cobra mucho valor en conocer realmente la polaridad de cada palabra y la probabilidad general de que dentro de todo este contexto exista una distribución respecto a si el comentario se inclina a ser positivo, negativo o neutral."
   ]
  },
  {
   "cell_type": "code",
   "execution_count": null,
   "metadata": {
    "id": "6RZu-sT395Rl"
   },
   "outputs": [],
   "source": [
    "from textblob import TextBlob\n",
    "\n",
    "def word_polarity(test_subset):\n",
    "    pos_word_list=[]\n",
    "    neu_word_list=[]\n",
    "    neg_word_list=[]\n",
    "\n",
    "    for word in test_subset:               \n",
    "        testimonial = TextBlob(word)\n",
    "        if testimonial.sentiment.polarity >= 0.5:\n",
    "            pos_word_list.append(word)\n",
    "        elif testimonial.sentiment.polarity <= -0.5:\n",
    "            neg_word_list.append(word)\n",
    "        else:\n",
    "            neu_word_list.append(word)\n",
    "\n",
    "    print('Positive :',pos_word_list)        \n",
    "    print('Neutral :',neu_word_list)    \n",
    "    print('Negative :',neg_word_list)   "
   ]
  },
  {
   "cell_type": "markdown",
   "metadata": {
    "id": "k_br7ba4Jyaz"
   },
   "source": [
    "### **Palabras que definen un sentimiento positivo**"
   ]
  },
  {
   "cell_type": "code",
   "execution_count": null,
   "metadata": {
    "colab": {
     "base_uri": "https://localhost:8080/"
    },
    "id": "w6inpErbJ38c",
    "outputId": "d7cfde69-904c-4a0d-cca7-ecc4551ed222"
   },
   "outputs": [
    {
     "name": "stdout",
     "output_type": "stream",
     "text": [
      "La clasificación de esta pelicula fue:  1\n",
      "['The musical numbers were great The sets were totally authentic you really believe you are looking at early th century St Louis Marjorie Main and Judy Garland stole the show Tootie was annoying Except for her character the film was delight']\n",
      "Positive : ['great', 'authentic']\n",
      "Neutral : ['The', 'musical', 'numbers', 'were', 'The', 'sets', 'were', 'totally', 'you', 'really', 'believe', 'you', 'are', 'looking', 'at', 'early', 'th', 'century', 'St', 'Louis', 'Marjorie', 'Main', 'and', 'Judy', 'Garland', 'stole', 'the', 'show', 'Tootie', 'was', 'Except', 'for', 'her', 'character', 'the', 'film', 'was', 'delight']\n",
      "Negative : ['annoying']\n",
      "{'neg': 0.055, 'neu': 0.78, 'pos': 0.164, 'compound': 0.743}\n"
     ]
    }
   ],
   "source": [
    "from nltk.tokenize import sent_tokenize, word_tokenize\n",
    "i=100000\n",
    "print(\"La clasificación de esta pelicula fue: \",str(amazon_data_bal[\"target\"][i]))\n",
    "print(sent_tokenize(X[i]))\n",
    "word_polarity(word_tokenize(X[i]))\n",
    "sent=analyzer.polarity_scores(X[i])\n",
    "print(sent)"
   ]
  },
  {
   "cell_type": "markdown",
   "metadata": {
    "id": "M9RyUOdqhr8D"
   },
   "source": [
    "Por lo que el anterior resultado nos permite obtener en una película o video en donde su clasificación fue (1) sentimiento positivo, conozcamos las palabras que definen que sea positivo (great,authentic) y la fuerza que estas tienen, así que para el aspecto positivo se tiene \"pos:0.164\" respecto a un aspecto negativo \"neg:0.055\" y uno neutral de \"neu:0.78\", aunque la categoría neutral tiene una puntuación mayor, la calificación compuesta \"compound:0.743\" es superior a (0.5) lo que hace que se defina una polaridad hacia el sentimiento positivo."
   ]
  },
  {
   "cell_type": "markdown",
   "metadata": {
    "id": "nXMDMXEQJ6G_"
   },
   "source": [
    "### **Palabras que definen un sentimiento negativo**"
   ]
  },
  {
   "cell_type": "code",
   "execution_count": null,
   "metadata": {
    "colab": {
     "base_uri": "https://localhost:8080/"
    },
    "id": "7BLkIIW-CvCK",
    "outputId": "8bdfe6f5-b808-4c72-b990-ad5cd65043ed"
   },
   "outputs": [
    {
     "name": "stdout",
     "output_type": "stream",
     "text": [
      "La calificación de esta pelicula fue:  0\n",
      "['This is so lame The songs are terrible The villan is ripoff of Mr Burns from The Simpsons while the kids look like they re on loan from Charlie Brown show But the biggest lowpoint is the Politically Correct ranting Too bad CBS insists on running this back to back with the classic']\n",
      "Positive : []\n",
      "Neutral : ['This', 'is', 'so', 'The', 'songs', 'are', 'The', 'villan', 'is', 'ripoff', 'of', 'Mr', 'Burns', 'from', 'The', 'Simpsons', 'while', 'the', 'kids', 'look', 'like', 'they', 're', 'on', 'loan', 'from', 'Charlie', 'Brown', 'show', 'But', 'the', 'biggest', 'lowpoint', 'is', 'the', 'Politically', 'Correct', 'ranting', 'Too', 'CBS', 'insists', 'on', 'running', 'this', 'back', 'to', 'back', 'with', 'the', 'classic']\n",
      "Negative : ['lame', 'terrible', 'bad']\n",
      "{'neg': 0.152, 'neu': 0.819, 'pos': 0.029, 'compound': -0.8104}\n"
     ]
    }
   ],
   "source": [
    "from nltk.tokenize import sent_tokenize, word_tokenize\n",
    "i=1\n",
    "print(\"La clasificación de esta pelicula fue: \",str(amazon_data_bal[\"target\"][i]))\n",
    "print(sent_tokenize(X[i]))\n",
    "word_polarity(word_tokenize(X[i]))\n",
    "sent=analyzer.polarity_scores(X[i])\n",
    "print(sent)"
   ]
  },
  {
   "cell_type": "markdown",
   "metadata": {
    "id": "wRB4xc06hr8E"
   },
   "source": [
    "De forma análoga a lo revisado para el caso del comentario positivo, tenemos que en el texto analizado las palabras por ejemplo negativas que resaltan son (lame, terrible, bad) que son las que hacen que se defina que este comentario es negativo, con una fuerza general de \"neg:0.152\" muy superior a la fuerza en \"pos:0.029\" y con una calificación compuesta de \"compound:-0.814\" lo que indica que si esta es menor a (-0.5) la polaridad definida es negativa, generando una adecuada clasificación del comentario evaluado."
   ]
  },
  {
   "cell_type": "markdown",
   "metadata": {
    "id": "fGqfnr8rhr8E"
   },
   "source": [
    "## Cluster de palabras"
   ]
  },
  {
   "cell_type": "code",
   "execution_count": 10,
   "metadata": {
    "id": "hf3d2EHDhr8E"
   },
   "outputs": [],
   "source": [
    "corpus = amazon_data['reviewText']\n",
    "corpus_df = pd.DataFrame({'Document': corpus\n",
    "                          })\n",
    "corpus_df = corpus_df[['Document']]"
   ]
  },
  {
   "cell_type": "code",
   "execution_count": 13,
   "metadata": {
    "colab": {
     "base_uri": "https://localhost:8080/"
    },
    "id": "eOSi_ZYvjSRE",
    "outputId": "3e2e993d-6de8-455e-e5d3-a1e137a95ba2"
   },
   "outputs": [
    {
     "data": {
      "text/plain": [
       "(10000, 1)"
      ]
     },
     "execution_count": 13,
     "metadata": {
      "tags": []
     },
     "output_type": "execute_result"
    }
   ],
   "source": [
    "df1 = corpus_df.iloc[:10000]\n",
    "df1.shape"
   ]
  },
  {
   "cell_type": "code",
   "execution_count": 14,
   "metadata": {
    "id": "z79zKWwPhr8E"
   },
   "outputs": [],
   "source": [
    "wpt = nltk.WordPunctTokenizer()\n",
    "stop_words = nltk.corpus.stopwords.words('english')\n",
    "\n",
    "def normalize_document(doc):\n",
    "    # remove special characters: \n",
    "    doc = re.sub(r'[^a-zA-Z\\s]', '', doc, re.I|re.A)\n",
    "    # transform to lower case\n",
    "    doc = doc.lower()\n",
    "    # remove \\whitespaces\n",
    "    doc = doc.strip()\n",
    "    # tokenize document\n",
    "    tokens = wpt.tokenize(doc)\n",
    "    # filter stopwords out of document\n",
    "    filtered_tokens = [token for token in tokens if token not in stop_words]\n",
    "    # re-create document from filtered tokens\n",
    "    doc = ' '.join(filtered_tokens)\n",
    "    return doc\n",
    "\n",
    "# crea una función vectorizada para que actué sobre múltiples textos\n",
    "normalize_corpus = np.vectorize(normalize_document)"
   ]
  },
  {
   "cell_type": "code",
   "execution_count": 15,
   "metadata": {
    "colab": {
     "base_uri": "https://localhost:8080/"
    },
    "id": "hRNCixM5hr8F",
    "outputId": "ccf329e6-d5f8-4f04-9960-6d1b95204c34"
   },
   "outputs": [
    {
     "name": "stdout",
     "output_type": "stream",
     "text": [
      "['!', '\"', '#', '$', '%', '&', \"'\", '(', ')', '*', '+', ',', '-', '.', '/', ':', ';', '<', '=', '>', '?', '@', '[', '\\\\', ']', '^', '_', '`', '{', '|', '}', '~', '0', '1', '2', '3', '4', '5', '6', '7', '8', '9']\n"
     ]
    }
   ],
   "source": [
    "norm_corpus_toy = normalize_corpus(df1)\n",
    "from string import punctuation\n",
    "remove_terms = list(punctuation + '0123456789')\n",
    "print(remove_terms)"
   ]
  },
  {
   "cell_type": "code",
   "execution_count": 16,
   "metadata": {
    "colab": {
     "base_uri": "https://localhost:8080/"
    },
    "id": "82Bo7dAdhr8F",
    "outputId": "62b14f79-fb9c-40e8-a910-b7c77ba08c91"
   },
   "outputs": [
    {
     "name": "stdout",
     "output_type": "stream",
     "text": [
      "Total lines: 10000\n",
      "\n",
      "Sample line: ['charming version classic dickens tale henry winkler makes good showing scrooge character even though know happen version enough change make better average love christmas carol version love']\n",
      "\n",
      "Processed line: charming version classic dickens tale henry winkler makes good showing scrooge character even though know happen version enough change make better average love christmas carol version love\n"
     ]
    }
   ],
   "source": [
    "norm_text = [[word.lower() for word in sent if word not in remove_terms] for sent in norm_corpus_toy]\n",
    "norm_text = [' '.join(tok_sent) for tok_sent in norm_text]\n",
    "norm_text = filter(None, normalize_corpus(norm_text))\n",
    "norm_text = [tok_sent for tok_sent in norm_text if len(tok_sent.split()) > 2]\n",
    "\n",
    "print('Total lines:', len(df1))\n",
    "print('\\nSample line:',norm_corpus_toy[0])\n",
    "print('\\nProcessed line:',norm_text[0])"
   ]
  },
  {
   "cell_type": "code",
   "execution_count": 17,
   "metadata": {
    "id": "zvp_CKedhr8F"
   },
   "outputs": [],
   "source": [
    "from gensim.models import word2vec\n",
    "\n",
    "wpt = nltk.WordPunctTokenizer()\n",
    "tokenized_corpus_text = [wpt.tokenize(document) for document in norm_text]\n",
    "\n",
    "feature_size = 100    \n",
    "window_context = 30   \n",
    "min_word_count = 1   \n",
    "sample = 1e-3   \n",
    "w2v_model = word2vec.Word2Vec(tokenized_corpus_text, size=feature_size, \n",
    "                          window=window_context, min_count=min_word_count,\n",
    "                          sample=sample,iter=150)"
   ]
  },
  {
   "cell_type": "code",
   "execution_count": 18,
   "metadata": {
    "colab": {
     "base_uri": "https://localhost:8080/"
    },
    "id": "JoTlniGhhr8F",
    "outputId": "0b7d0c45-7e6b-44f8-e771-c2b6114ed44e"
   },
   "outputs": [
    {
     "data": {
      "text/plain": [
       "{'best': ['greatest', 'favorite', 'finest', 'irresistibly', 'artsy'],\n",
       " 'dvd': ['dvds', 'video', 'bluray', 'nonebdlive', 'disc'],\n",
       " 'film': ['films', 'epic', 'movie', 'oflike', 'shock'],\n",
       " 'good': ['great', 'cool', 'filmgore', 'nice', 'excellent'],\n",
       " 'great': ['good', 'excellent', 'wonderful', 'superb', 'awesome'],\n",
       " 'life': ['lives', 'families', 'shapeglenn', 'nonviolence', 'polkadots'],\n",
       " 'like': ['lke', 'know', 'enjoy', 'bad', 'familybut'],\n",
       " 'love': ['marrying', 'happy', 'loves', 'herthis', 'magnificant'],\n",
       " 'movie': ['movies', 'film', 'juicing', 'really', 'throughly'],\n",
       " 'people': ['person', 'thurst', 'someone', 'religion', 'repent'],\n",
       " 'quot': ['wellthe', 'tush', 'quotapollo', 'quotbigquot', 'effortless'],\n",
       " 'really': ['movie', 'rebound', 'juicing', 'happenedthe', 'especially'],\n",
       " 'story': ['chattaway', 'plot', 'tale', 'stories', 'poignantitis'],\n",
       " 'time': ['day', 'slugging', 'scifidont', 'zinger', 'timethis'],\n",
       " 'watch': ['see', 'watching', 'merchandise', 'swear', 'viewingwell'],\n",
       " 'way': ['goal', 'egoits', 'spewyoud', 'sometimesmany', 'eradicating']}"
      ]
     },
     "execution_count": 18,
     "metadata": {
      "tags": []
     },
     "output_type": "execute_result"
    }
   ],
   "source": [
    "similar_words = {search_term: [item[0] for item in w2v_model.wv.most_similar([search_term], topn=5)]\n",
    "                  for search_term in ['movie','film','like','great','good','quot','time','story','dvd',\n",
    "                                      'really','love','best','watch','way','people','life']}\n",
    "similar_words"
   ]
  },
  {
   "cell_type": "code",
   "execution_count": 19,
   "metadata": {
    "colab": {
     "base_uri": "https://localhost:8080/",
     "height": 509
    },
    "id": "FxBXIncEhr8F",
    "outputId": "dfe607b0-483a-416b-b8a9-91cb697dcd5f"
   },
   "outputs": [
    {
     "data": {
      "image/png": "[encoded data removed]",
      "text/plain": [
       "<Figure size 1008x576 with 1 Axes>"
      ]
     },
     "metadata": {
      "needs_background": "light",
      "tags": []
     },
     "output_type": "display_data"
    }
   ],
   "source": [
    "from sklearn.manifold import TSNE\n",
    "\n",
    "words = sum([[k] + v for k, v in similar_words.items()], []) # a list of the words in similar_words\n",
    "wvs = w2v_model.wv[words] # Coordinates of the words\n",
    "\n",
    "tsne = TSNE(n_components=2, random_state=100, n_iter=10000, perplexity=2)\n",
    "np.set_printoptions(suppress=True)\n",
    "T = tsne.fit_transform(wvs)\n",
    "labels = words\n",
    "\n",
    "plt.figure(figsize=(14, 8))\n",
    "plt.scatter(T[:, 0], T[:, 1], c='blue', edgecolors='r')\n",
    "plt.title('Representación de las palabras relacionadas en un mapa factorial',fontsize=25)\n",
    "for label, x, y in zip(labels, T[:, 0], T[:, 1]):\n",
    "    plt.annotate(label, xy=(x+1, y+1), xytext=(0, 0), textcoords='offset points')"
   ]
  },
  {
   "cell_type": "markdown",
   "metadata": {
    "id": "hvwVLfJKhr8G"
   },
   "source": [
    "## **Referencias Bibliograficas**"
   ]
  },
  {
   "cell_type": "markdown",
   "metadata": {
    "id": "PdYHZajahr8G"
   },
   "source": [
    "**Historia Amazon.** https://historia-biografia.com/historia-de-amazon/\n",
    "\n",
    "\n",
    "**Documento comparativo entre diferentes servicios de streaming.** https://idus.us.es/bitstream/handle/11441/87550/Estudio_de_las_plataformas_de_streaming.pdf?sequence=1&isAllowed=y\n",
    "\n",
    "**Dive into Deep learning.**\n",
    "https://d2l.ai/index.html"
   ]
  }
 ],
 "metadata": {
  "accelerator": "TPU",
  "colab": {
   "name": "Proyecto_PLN_Análisis_de_Sentimientos_Amazon.ipynb",
   "provenance": []
  },
  "kernelspec": {
   "display_name": "Python 3",
   "language": "python",
   "name": "python3"
  },
  "language_info": {
   "codemirror_mode": {
    "name": "ipython",
    "version": 3
   },
   "file_extension": ".py",
   "mimetype": "text/x-python",
   "name": "python",
   "nbconvert_exporter": "python",
   "pygments_lexer": "ipython3",
   "version": "3.7.4"
  }
 },
 "nbformat": 4,
 "nbformat_minor": 1
}
