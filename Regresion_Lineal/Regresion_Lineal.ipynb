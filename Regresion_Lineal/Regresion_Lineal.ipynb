{
 "cells": [
  {
   "cell_type": "markdown",
   "metadata": {},
   "source": [
    "# Actividad sobre regresión lineal"
   ]
  },
  {
   "cell_type": "markdown",
   "metadata": {},
   "source": [
    "### Autor: Edwin Leonardo Buitrago Ch."
   ]
  },
  {
   "cell_type": "markdown",
   "metadata": {},
   "source": [
    "## Contenido\n",
    "\n",
    "* Introducción\n",
    "* Historia\n",
    "* Planteamiento del algoritmo\n",
    "* Ejemplos practicos\n",
    "* Conclusiones"
   ]
  },
  {
   "cell_type": "markdown",
   "metadata": {},
   "source": [
    "## Introducción"
   ]
  },
  {
   "cell_type": "markdown",
   "metadata": {},
   "source": [
    "En el siguiente cuaderno de jupyter encontraremos información general sobre la aplicación del modelo matemático de regresión lineal para los casos simples y múltiples, se presentará una breve contextualización de su historia y de como surge este modelo que permite usado para aproximar la relación de dependencia entre una variable dependiente $Y$, para $m$ variables independientes $X_{i}$, que se verá mejor contextualizado con un ejemplo que busca estimar el valor de una vivienda para una ciudad en estados unidos según una serie de datos recopilados sobre las viviendas, y por último, daremos unas conclusiones frente a la implementación y los resultados sobre la aplicación de este modelo."
   ]
  },
  {
   "cell_type": "markdown",
   "metadata": {},
   "source": [
    "## Historia del modelo de regresión lineal"
   ]
  },
  {
   "cell_type": "markdown",
   "metadata": {},
   "source": [
    "Como se puede observar en [Wikipedia](https://es.wikipedia.org/wiki/Regresi%C3%B3n_lineal), la historia sobre el modelo de regresión lineal fue expuesto sobre el método de los mínimos cuadrados publicado por [Legendre](https://es.wikipedia.org/wiki/Adrien-Marie_Legendre) en 1805, sin embargo, [Gauss](https://es.wikipedia.org/wiki/Carl_Friedrich_Gauss) publicó un trabajo en donde desarrollaba de manera más profunda el método de los mínimos cuadrados.\n",
    "\n",
    "El método de mínimos cuadrados ordinaries minimiza la suma de los residuales al cuadrado para todas las observaciones, buscando encontrar la función continua que mejor se aproxime a los datos, lo anterior se conoce como la línea que mejor se ajusta a los datos. En su forma más simple, intenta minimizar la suma de cuadrados de las diferencias en las ordenadas (llamadas residuos) entre los puntos generados por la función elegida y los correspondientes valores en los datos. Específicamente, se llama mínimos cuadrados promedio (LMS) cuando el número de datos medidos es 1 y se usa el método de descenso por gradiente para minimizar el residuo cuadrado. Se puede demostrar que LMS minimiza el residuo cuadrado esperado, con el mínimo de operaciones (por iteración), pero requiere un gran número de iteraciones para converger. \n",
    "\n",
    "Habitualmente, se hace uso de modelo de regresión lineal cuando una variable dependiente $Y$ es una variable de resultado que queremos explicar usando otras variables $X_{i}$. Las variables independientes son las variables que usamos para “explicar” la variación en la variable dependiente."
   ]
  },
  {
   "cell_type": "markdown",
   "metadata": {},
   "source": [
    "### Ejemplo de regresión lineal ![Ejemplo de una regresión lineal](https://upload.wikimedia.org/wikipedia/commons/thumb/3/3a/Linear_regression.svg/1280px-Linear_regression.svg.png)"
   ]
  },
  {
   "cell_type": "markdown",
   "metadata": {},
   "source": [
    "## Planteamiento del algoritmo"
   ]
  },
  {
   "cell_type": "markdown",
   "metadata": {},
   "source": [
    " la representación de la relación entre dos (o más) variables a través de un modelo formal supone contar con una expresión lógico-matemática que, aparte de resumir cómo es esa relación, va a permitir realizar predicciones de los valores que tomará una de las dos variables, la que se asuma como variable de respuesta, a partir de los valores de la que se\n",
    "asuma como variable explicativa.\n",
    "\n",
    "El modelo lineal relaciona la variable dependiente $Y$ con $m$ variables regresoras $X_{j}$ con $j=1,2,\\dots m$  o cualquier transformación de éstas que generen un hiperplano de parámetros $\\beta _{i}$ desconocidos:\n",
    "\n",
    "### $$h_\\beta(x) = \\beta_0 + \\beta_1x_1 + \\beta_2x_2 + ... + \\beta_nx_n + \\varepsilon_{i}$$\n",
    "\n",
    "- $Y$ es la variable dependiente\n",
    "- $\\beta_0$ es el intercepto\n",
    "- $\\beta_1$ es el coeficiente para $x_1$ (la primera variable regresora)\n",
    "- $\\beta_n$ es el coeficiente para $x_n$ (las e-nesimas variables regresoras)\n",
    "- $\\varepsilon_{i}$ es el error del modelo\n",
    "\n",
    "El método de mínimos cuadrados, encuentra los estimadores de los parámetros $\\beta_{0}$ y $\\beta_{1}$ tal que la suma de cuadrados de los residuales (diferencias entre el valor observado de $Y$ y el valor estimado $\\widehat{Y}_{i}$) sea mínima. Para la aplicación del método de mínimos cuadrados se debe:\n",
    "\n",
    "1. Definir la suma de cuadrados del error\n",
    "\n",
    "$$SC_{Error} = S(\\beta_0,\\beta_1) = \\sum_{i}^n \\varepsilon^2 = \\sum_{i}^n (Y_{i}-\\beta_0-\\beta_{1}X_{i})$$"
   ]
  },
  {
   "cell_type": "markdown",
   "metadata": {},
   "source": [
    "### Mínimos cuadrados ![Minimos cuadrados](https://www.researchgate.net/profile/Olman_Gomez-Espinoza2/publication/311548169/figure/fig1/AS:614257926352896@1523461910284/Figura-3-Representacion-de-los-minimos-cuadrados.png)"
   ]
  },
  {
   "cell_type": "markdown",
   "metadata": {},
   "source": [
    "2. Obtener la derivada de la suma de cuadrados del error con respecto a cada parámetro del modelo; es decir $\\frac{\\partial S}{\\partial \\beta_0}$ y $\\frac{\\partial S}{\\partial \\beta_1}$\n",
    "\n",
    "3. Igualar las derivadas a cero y simplificar (se debe sustituir $\\beta_{0}$ y $\\beta_{1}$ por sus respectivos estimadores $b_{0}$ y $b_{1}$)\n",
    "\n",
    "#### $$-2 \\sum_{i}^n (Y_{i}-b_{0}-b_{1}X_{i} = 0$$\n",
    "#### $$-2 \\sum_{i}^n X_i(Y_{i}-b_{0}-b_{1}X_{i} = 0$$\n",
    "\n",
    "4. Solucionar el sistema de ecuaciones o ecuaciones normales lo que arroja una solución de $b_{0}$ y $b_{1}$\n",
    "\n",
    "#### $$b_0 = \\bar Y  - b_1\\bar X $$\n",
    "#### $$\\bar Y = b_0 + b_{1}X$$\n"
   ]
  },
  {
   "cell_type": "markdown",
   "metadata": {},
   "source": [
    "Sin embargo, para los siguientes ejemplos practicos, implementaremos la solución matricial bajo la siguiente formula para minimizar el error cuadratico medio (MCO) para la estimación de los parámetros $\\beta$ como se presenta a continuación:\n",
    "\n",
    "#### $$\\beta = (X^T X)^{-1} X^T Y$$"
   ]
  },
  {
   "cell_type": "markdown",
   "metadata": {},
   "source": [
    "## Ejemplo practico \n",
    "\n",
    "### Regresión Lineal Simple"
   ]
  },
  {
   "cell_type": "code",
   "execution_count": 28,
   "metadata": {},
   "outputs": [],
   "source": [
    "### Librerías de trabajo\n",
    "\n",
    "import pandas as pd\n",
    "import numpy as np\n",
    "\n",
    "%matplotlib inline\n",
    "import matplotlib.pyplot as plt"
   ]
  },
  {
   "cell_type": "code",
   "execution_count": 4,
   "metadata": {},
   "outputs": [
    {
     "data": {
      "text/html": [
       "<div>\n",
       "<style scoped>\n",
       "    .dataframe tbody tr th:only-of-type {\n",
       "        vertical-align: middle;\n",
       "    }\n",
       "\n",
       "    .dataframe tbody tr th {\n",
       "        vertical-align: top;\n",
       "    }\n",
       "\n",
       "    .dataframe thead th {\n",
       "        text-align: right;\n",
       "    }\n",
       "</style>\n",
       "<table border=\"1\" class=\"dataframe\">\n",
       "  <thead>\n",
       "    <tr style=\"text-align: right;\">\n",
       "      <th></th>\n",
       "      <th>area</th>\n",
       "      <th>bedroom</th>\n",
       "      <th>price</th>\n",
       "    </tr>\n",
       "  </thead>\n",
       "  <tbody>\n",
       "    <tr>\n",
       "      <td>0</td>\n",
       "      <td>2104</td>\n",
       "      <td>3</td>\n",
       "      <td>399900</td>\n",
       "    </tr>\n",
       "    <tr>\n",
       "      <td>1</td>\n",
       "      <td>1600</td>\n",
       "      <td>3</td>\n",
       "      <td>329900</td>\n",
       "    </tr>\n",
       "    <tr>\n",
       "      <td>2</td>\n",
       "      <td>2400</td>\n",
       "      <td>3</td>\n",
       "      <td>369000</td>\n",
       "    </tr>\n",
       "    <tr>\n",
       "      <td>3</td>\n",
       "      <td>1416</td>\n",
       "      <td>2</td>\n",
       "      <td>232000</td>\n",
       "    </tr>\n",
       "    <tr>\n",
       "      <td>4</td>\n",
       "      <td>3000</td>\n",
       "      <td>4</td>\n",
       "      <td>539900</td>\n",
       "    </tr>\n",
       "  </tbody>\n",
       "</table>\n",
       "</div>"
      ],
      "text/plain": [
       "   area  bedroom   price\n",
       "0  2104        3  399900\n",
       "1  1600        3  329900\n",
       "2  2400        3  369000\n",
       "3  1416        2  232000\n",
       "4  3000        4  539900"
      ]
     },
     "execution_count": 4,
     "metadata": {},
     "output_type": "execute_result"
    }
   ],
   "source": [
    "## Lectura de datos con pandas\n",
    "\n",
    "data = pd.read_csv('houses_portland.csv')\n",
    "data.head()"
   ]
  },
  {
   "cell_type": "code",
   "execution_count": 5,
   "metadata": {},
   "outputs": [
    {
     "data": {
      "text/plain": [
       "Text(0, 0.5, 'Price')"
      ]
     },
     "execution_count": 5,
     "metadata": {},
     "output_type": "execute_result"
    },
    {
     "data": {
      "image/png": "[encoded data removed]",
      "text/plain": [
       "<Figure size 432x288 with 1 Axes>"
      ]
     },
     "metadata": {
      "needs_background": "light"
     },
     "output_type": "display_data"
    }
   ],
   "source": [
    "### Variables con las que se trabajara el modelo de regresión lineal simple\n",
    "\n",
    "y = data[' price'].values\n",
    "X = data['area'].values\n",
    "plt.scatter(X, y, alpha = 0.8)\n",
    "plt.xlabel('Area')\n",
    "plt.ylabel('Price')"
   ]
  },
  {
   "cell_type": "markdown",
   "metadata": {},
   "source": [
    "#### Normalización del conjunto de datos "
   ]
  },
  {
   "cell_type": "markdown",
   "metadata": {},
   "source": [
    "Se implementara la siguiente normalización de los datos entendiendo que la variable Price y Area tienen magnitudes muy diferentes, por lo que aplicaremos la siguiente formula a las variables con la que se realizará el modelo.\n",
    "\n",
    "## $$ x = \\frac{x -\\overline x}{\\sigma_x} $$ "
   ]
  },
  {
   "cell_type": "code",
   "execution_count": 6,
   "metadata": {},
   "outputs": [
    {
     "data": {
      "image/png": "[encoded data removed]",
      "text/plain": [
       "<Figure size 432x288 with 1 Axes>"
      ]
     },
     "metadata": {
      "needs_background": "light"
     },
     "output_type": "display_data"
    }
   ],
   "source": [
    "y_mean, y_std = y.mean(), y.std()\n",
    "X_mean, X_std = X.mean(), X.std()\n",
    "\n",
    "y_norm = np.array((y - y_mean)/ y_std)\n",
    "X_norm = np.array((X - X_mean)/ X_std)\n",
    "\n",
    "plt.scatter(X_norm, y_norm, alpha = 0.8)\n",
    "plt.xlabel('Area')\n",
    "plt.ylabel('Price')\n",
    "\n",
    "## Añadiremos la columna de unos para la estimación de beta_0\n",
    "\n",
    "X_norm = np.array([np.ones(np.shape(data)[0]),X_norm]).T\n",
    "\n",
    "B = np.linalg.inv(X_norm.T @ X_norm) @ X_norm.T @ y_norm\n",
    "\n",
    "## Dibujar la linea recta con los parámetros de Beta estimados\n",
    "\n",
    "plt.plot([-1,3],[B[0]+B[1]*(-1), B[0] + B[1]*3], c=\"red\")\n",
    "plt.show()"
   ]
  },
  {
   "cell_type": "code",
   "execution_count": 7,
   "metadata": {},
   "outputs": [
    {
     "name": "stdout",
     "output_type": "stream",
     "text": [
      "[-7.97972799e-17  8.54987593e-01]\n"
     ]
    }
   ],
   "source": [
    "## Estimación de los parámetros de beta\n",
    "\n",
    "print(B)"
   ]
  },
  {
   "cell_type": "markdown",
   "metadata": {},
   "source": [
    "## Aplicación de la función de costo"
   ]
  },
  {
   "cell_type": "code",
   "execution_count": 36,
   "metadata": {},
   "outputs": [
    {
     "data": {
      "text/plain": [
       "Text(0, 0.5, 'Price')"
      ]
     },
     "execution_count": 36,
     "metadata": {},
     "output_type": "execute_result"
    },
    {
     "data": {
      "image/png": "[encoded data removed]",
      "text/plain": [
       "<Figure size 432x288 with 1 Axes>"
      ]
     },
     "metadata": {
      "needs_background": "light"
     },
     "output_type": "display_data"
    }
   ],
   "source": [
    "## Construcción de las variables\n",
    "\n",
    "(y_mean, y_std) = (y.mean(), y.std())\n",
    "(x_mean, x_std) = (X.mean(), X.std())\n",
    "\n",
    "z_y = (y - y_mean)/ y_std\n",
    "z_x = (X - x_mean)/ x_std\n",
    "\n",
    "plt.scatter(z_x, z_y)\n",
    "plt.xlabel('Area')\n",
    "plt.ylabel('Price')"
   ]
  },
  {
   "cell_type": "code",
   "execution_count": 37,
   "metadata": {},
   "outputs": [],
   "source": [
    "# Crear matriz expandida de X\n",
    "n_samples = z_x.shape[0]\n",
    "X_ = np.array([np.ones(n_samples), z_x]).T"
   ]
  },
  {
   "cell_type": "code",
   "execution_count": 38,
   "metadata": {},
   "outputs": [
    {
     "data": {
      "image/png": "[encoded data removed]",
      "text/plain": [
       "<Figure size 432x288 with 1 Axes>"
      ]
     },
     "metadata": {
      "needs_background": "light"
     },
     "output_type": "display_data"
    }
   ],
   "source": [
    "beta_0 = np.array([-1,1])\n",
    "def myLR(beta, x):\n",
    "    return np.dot(beta, x.T)\n",
    "\n",
    "# scatter plot\n",
    "plt.scatter(z_x, z_y)\n",
    "\n",
    "# Plot the linear regression\n",
    "plt.plot(X_[:, 1], myLR(beta_0, X_), 'b', lw=5)\n",
    "plt.xlabel('Altura')\n",
    "plt.ylabel('Volúmen')\n",
    "plt.show()"
   ]
  },
  {
   "cell_type": "code",
   "execution_count": 39,
   "metadata": {},
   "outputs": [
    {
     "data": {
      "text/plain": [
       "0.6450124071218748"
      ]
     },
     "execution_count": 39,
     "metadata": {},
     "output_type": "execute_result"
    }
   ],
   "source": [
    "# Cost function\n",
    "def costFun(beta, x, y):\n",
    "    n = len(y)\n",
    "    return (1 / (2*n)*(myLR(beta,x) - y) ** 2).sum()\n",
    "\n",
    "costFun(beta_0, X_, z_y)"
   ]
  },
  {
   "cell_type": "markdown",
   "metadata": {},
   "source": [
    "## Encotrando los parámetros"
   ]
  },
  {
   "cell_type": "code",
   "execution_count": 47,
   "metadata": {},
   "outputs": [
    {
     "data": {
      "text/plain": [
       "-3.197442310920451e-13"
      ]
     },
     "execution_count": 47,
     "metadata": {},
     "output_type": "execute_result"
    },
    {
     "data": {
      "image/png": "[encoded data removed]",
      "text/plain": [
       "<Figure size 432x288 with 1 Axes>"
      ]
     },
     "metadata": {
      "needs_background": "light"
     },
     "output_type": "display_data"
    }
   ],
   "source": [
    "beta0 = np.arange(-15, 20, 0.03)\n",
    "beta1 = 2\n",
    "\n",
    "cost1=[]\n",
    "for b_0 in beta0:\n",
    "    cost1.append(costFun(np.array([b_0, beta1]), X_, z_y) )\n",
    "\n",
    "plt.plot(beta0, cost1)\n",
    "plt.xlabel('beta0')\n",
    "plt.ylabel('J(beta)')\n",
    "\n",
    "beta0[np.argmin(cost1)]"
   ]
  },
  {
   "cell_type": "code",
   "execution_count": 48,
   "metadata": {},
   "outputs": [
    {
     "data": {
      "text/plain": [
       "0.13461042198237994"
      ]
     },
     "execution_count": 48,
     "metadata": {},
     "output_type": "execute_result"
    },
    {
     "data": {
      "image/png": "[encoded data removed]",
      "text/plain": [
       "<Figure size 432x288 with 1 Axes>"
      ]
     },
     "metadata": {
      "needs_background": "light"
     },
     "output_type": "display_data"
    }
   ],
   "source": [
    "beta0 = 0\n",
    "beta1 = np.arange(-15, 20, 0.03)\n",
    "\n",
    "cost2=[]\n",
    "for beta_1 in beta1:\n",
    "    cost2.append(costFun(np.array([beta0, beta_1]), X_, z_y) )\n",
    "\n",
    "plt.plot(beta1, cost2)\n",
    "plt.xlabel('beta_1')\n",
    "plt.ylabel('J(beta)')\n",
    "\n",
    "cost2[np.argmin(cost2)]"
   ]
  },
  {
   "cell_type": "code",
   "execution_count": 49,
   "metadata": {},
   "outputs": [
    {
     "data": {
      "text/plain": [
       "array([-340414.15957447, -105764.13349282])"
      ]
     },
     "execution_count": 49,
     "metadata": {},
     "output_type": "execute_result"
    }
   ],
   "source": [
    "# gradient calculation\n",
    "beta_ini = np.array([-1.5, 0.])\n",
    "\n",
    "def gradient(beta, x, y):\n",
    "    # Not vectorized\n",
    "    gradient_0  = 1 / x.shape[0] * ((lr_h(beta, x) - y).sum())\n",
    "    gradient_1  = 1 / x.shape[0] * ((lr_h(beta, x) - y)* x[:, 1]).sum()\n",
    "\n",
    "    return np.array([gradient_0, gradient_1])\n",
    "\n",
    "gradient(beta_ini, X_, y)"
   ]
  },
  {
   "cell_type": "code",
   "execution_count": 50,
   "metadata": {},
   "outputs": [],
   "source": [
    "def gradient_descent(x, y, beta_ini, alpha, iters): \n",
    "    betas = np.zeros((iters, beta_ini.shape[0] + 1))\n",
    "\n",
    "    beta = beta_ini\n",
    "    for iter_ in range(iters):\n",
    "\n",
    "        betas[iter_, :-1] = beta\n",
    "        betas[iter_, -1] = lr_cost_func(beta, x, y)\n",
    "        beta -= alpha * gradient(beta, x, y)\n",
    "        \n",
    "    return betas"
   ]
  },
  {
   "cell_type": "code",
   "execution_count": 51,
   "metadata": {},
   "outputs": [],
   "source": [
    "iters = 100\n",
    "alpha = 0.05\n",
    "beta_ini = np.array([-4., -4.])\n",
    "\n",
    "betas =  gradient_descent(X_, y, beta_ini, alpha, iters)"
   ]
  },
  {
   "cell_type": "code",
   "execution_count": 52,
   "metadata": {},
   "outputs": [
    {
     "data": {
      "text/plain": [
       "Text(0, 0.5, 'J(beta)')"
      ]
     },
     "execution_count": 52,
     "metadata": {},
     "output_type": "execute_result"
    },
    {
     "data": {
      "image/png": "[encoded data removed]",
      "text/plain": [
       "<Figure size 432x288 with 1 Axes>"
      ]
     },
     "metadata": {
      "needs_background": "light"
     },
     "output_type": "display_data"
    }
   ],
   "source": [
    "plt.plot(range(iters), betas[:, -1])\n",
    "plt.xlabel('iteration')\n",
    "plt.ylabel('J(beta)')"
   ]
  },
  {
   "cell_type": "code",
   "execution_count": 56,
   "metadata": {},
   "outputs": [
    {
     "name": "stderr",
     "output_type": "stream",
     "text": [
      "C:\\Users\\Leonardo Buitrago\\Anaconda3\\lib\\site-packages\\ipykernel_launcher.py:8: FutureWarning: \n",
      ".ix is deprecated. Please use\n",
      ".loc for label based indexing or\n",
      ".iloc for positional indexing\n",
      "\n",
      "See the documentation here:\n",
      "http://pandas.pydata.org/pandas-docs/stable/user_guide/indexing.html#ix-indexer-is-deprecated\n",
      "  \n"
     ]
    }
   ],
   "source": [
    "beta0 = np.arange(-5, 7, 0.2)\n",
    "beta1 = np.arange(-5, 7, 0.2)\n",
    "\n",
    "cost_func = pd.DataFrame(index=beta0, columns=beta1)\n",
    "\n",
    "for beta_0 in beta0:\n",
    "    for beta_1 in beta1:\n",
    "        cost_func.ix[beta_0, beta_1] = lr_cost_func(np.array([beta_0, beta_1]), X_, y)"
   ]
  },
  {
   "cell_type": "code",
   "execution_count": 57,
   "metadata": {},
   "outputs": [],
   "source": [
    "betas = np.array([[0, 0],\n",
    "                 [-1, -1],\n",
    "                 [-5, 5],\n",
    "                 [3, -2]])"
   ]
  },
  {
   "cell_type": "code",
   "execution_count": 55,
   "metadata": {},
   "outputs": [
    {
     "ename": "IndexError",
     "evalue": "index 10 is out of bounds for axis 0 with size 4",
     "output_type": "error",
     "traceback": [
      "\u001b[1;31m---------------------------------------------------------------------------\u001b[0m",
      "\u001b[1;31mIndexError\u001b[0m                                Traceback (most recent call last)",
      "\u001b[1;32m<ipython-input-55-a1816cd4f47c>\u001b[0m in \u001b[0;36m<module>\u001b[1;34m\u001b[0m\n\u001b[1;32m----> 1\u001b[1;33m \u001b[0mbetas_\u001b[0m \u001b[1;33m=\u001b[0m \u001b[0mbetas\u001b[0m\u001b[1;33m[\u001b[0m\u001b[0mrange\u001b[0m\u001b[1;33m(\u001b[0m\u001b[1;36m0\u001b[0m\u001b[1;33m,\u001b[0m \u001b[0miters\u001b[0m\u001b[1;33m,\u001b[0m \u001b[1;36m10\u001b[0m\u001b[1;33m)\u001b[0m\u001b[1;33m,\u001b[0m \u001b[1;33m:\u001b[0m\u001b[1;33m-\u001b[0m\u001b[1;36m1\u001b[0m\u001b[1;33m]\u001b[0m\u001b[1;33m\u001b[0m\u001b[1;33m\u001b[0m\u001b[0m\n\u001b[0m\u001b[0;32m      2\u001b[0m \u001b[1;32mfor\u001b[0m \u001b[0mi\u001b[0m\u001b[1;33m,\u001b[0m \u001b[0mbeta\u001b[0m \u001b[1;32min\u001b[0m \u001b[0menumerate\u001b[0m\u001b[1;33m(\u001b[0m\u001b[0mbetas_\u001b[0m\u001b[1;33m)\u001b[0m\u001b[1;33m:\u001b[0m\u001b[1;33m\u001b[0m\u001b[1;33m\u001b[0m\u001b[0m\n\u001b[0;32m      3\u001b[0m     \u001b[0mprint\u001b[0m\u001b[1;33m(\u001b[0m\u001b[1;34m'\\n\\nLinear Regression with betas '\u001b[0m\u001b[1;33m,\u001b[0m \u001b[0mbeta\u001b[0m\u001b[1;33m)\u001b[0m\u001b[1;33m\u001b[0m\u001b[1;33m\u001b[0m\u001b[0m\n\u001b[0;32m      4\u001b[0m     \u001b[0mf\u001b[0m\u001b[1;33m,\u001b[0m \u001b[1;33m(\u001b[0m\u001b[0max1\u001b[0m\u001b[1;33m,\u001b[0m \u001b[0max2\u001b[0m\u001b[1;33m)\u001b[0m \u001b[1;33m=\u001b[0m \u001b[0mplt\u001b[0m\u001b[1;33m.\u001b[0m\u001b[0msubplots\u001b[0m\u001b[1;33m(\u001b[0m\u001b[1;36m1\u001b[0m\u001b[1;33m,\u001b[0m\u001b[1;36m2\u001b[0m\u001b[1;33m,\u001b[0m \u001b[0mfigsize\u001b[0m\u001b[1;33m=\u001b[0m\u001b[1;33m(\u001b[0m\u001b[1;36m12\u001b[0m\u001b[1;33m,\u001b[0m \u001b[1;36m6\u001b[0m\u001b[1;33m)\u001b[0m\u001b[1;33m)\u001b[0m\u001b[1;33m\u001b[0m\u001b[1;33m\u001b[0m\u001b[0m\n\u001b[0;32m      5\u001b[0m     \u001b[0max2\u001b[0m\u001b[1;33m.\u001b[0m\u001b[0mcontour\u001b[0m\u001b[1;33m(\u001b[0m\u001b[0mbeta0\u001b[0m\u001b[1;33m,\u001b[0m \u001b[0mbeta1\u001b[0m\u001b[1;33m,\u001b[0m \u001b[0mcost_func\u001b[0m\u001b[1;33m.\u001b[0m\u001b[0mT\u001b[0m\u001b[1;33m.\u001b[0m\u001b[0mvalues\u001b[0m\u001b[1;33m,\u001b[0m \u001b[0mcontour_levels\u001b[0m\u001b[1;33m)\u001b[0m\u001b[1;33m\u001b[0m\u001b[1;33m\u001b[0m\u001b[0m\n",
      "\u001b[1;31mIndexError\u001b[0m: index 10 is out of bounds for axis 0 with size 4"
     ]
    }
   ],
   "source": [
    "betas_ = betas[range(0, iters, 10), :-1]\n",
    "for i, beta in enumerate(betas_):\n",
    "    print('\\n\\nLinear Regression with betas ', beta)\n",
    "    f, (ax1, ax2) = plt.subplots(1,2, figsize=(12, 6))\n",
    "    ax2.contour(beta0, beta1, cost_func.T.values, contour_levels)\n",
    "    ax2.set_xlabel('beta_0')\n",
    "    ax2.set_ylabel('beta_1')\n",
    "    ax2.scatter(beta[0], beta[1], c='r', s=50)\n",
    "    \n",
    "    if i > 0:\n",
    "        for beta_ in betas_[:i]:\n",
    "            ax2.scatter(beta_[0], beta_[1], s=50)\n",
    "\n",
    "    # scatter plot\n",
    "    ax1.scatter(X, y)\n",
    "\n",
    "    # Plot the linear regression\n",
    "    x = np.c_[np.ones(2), [X.min(), X.max()]]\n",
    "    ax1.plot(x[:, 1], lr_h(beta, x), 'r', lw=5)\n",
    "    ax1.set_xlabel('Area')\n",
    "    ax1.set_ylabel('Price')\n",
    "    plt.show()"
   ]
  },
  {
   "cell_type": "code",
   "execution_count": null,
   "metadata": {},
   "outputs": [],
   "source": []
  }
 ],
 "metadata": {
  "kernelspec": {
   "display_name": "Python 3",
   "language": "python",
   "name": "python3"
  },
  "language_info": {
   "codemirror_mode": {
    "name": "ipython",
    "version": 3
   },
   "file_extension": ".py",
   "mimetype": "text/x-python",
   "name": "python",
   "nbconvert_exporter": "python",
   "pygments_lexer": "ipython3",
   "version": "3.7.4"
  }
 },
 "nbformat": 4,
 "nbformat_minor": 2
}
