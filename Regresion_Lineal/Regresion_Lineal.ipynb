{
 "cells": [
  {
   "cell_type": "markdown",
   "metadata": {},
   "source": [
    "# Actividad sobre regresión lineal"
   ]
  },
  {
   "cell_type": "markdown",
   "metadata": {},
   "source": [
    "### Autor: Edwin Leonardo Buitrago Ch."
   ]
  },
  {
   "cell_type": "markdown",
   "metadata": {},
   "source": [
    "## Contenido\n",
    "\n",
    "* Introducción\n",
    "* Historia\n",
    "* Planteamiento del algoritmo\n",
    "* Ejemplos practicos\n",
    "* Conclusiones"
   ]
  },
  {
   "cell_type": "markdown",
   "metadata": {},
   "source": [
    "## Introducción"
   ]
  },
  {
   "cell_type": "markdown",
   "metadata": {},
   "source": [
    "En el siguiente cuaderno de jupyter encontraremos información general sobre la aplicación del modelo matemático de regresión lineal para los casos simples y múltiples, se presentará una breve contextualización de su historia y de como surge este modelo que permite usado para aproximar la relación de dependencia entre una variable dependiente $Y$, para $m$ variables independientes $X_{i}$, que se verá mejor contextualizado con un ejemplo que busca estimar el valor de una vivienda para una ciudad en estados unidos según una serie de datos recopilados sobre las viviendas, y por último, daremos unas conclusiones frente a la implementación y los resultados sobre la aplicación de este modelo."
   ]
  },
  {
   "cell_type": "markdown",
   "metadata": {},
   "source": [
    "## Historia del modelo de regresión lineal"
   ]
  },
  {
   "cell_type": "markdown",
   "metadata": {},
   "source": [
    "Como se puede observar en [Wikipedia](https://es.wikipedia.org/wiki/Regresi%C3%B3n_lineal), la historia sobre el modelo de regresión lineal fue expuesto sobre el método de los mínimos cuadrados publicado por [Legendre](https://es.wikipedia.org/wiki/Adrien-Marie_Legendre) en 1805, sin embargo, [Gauss](https://es.wikipedia.org/wiki/Carl_Friedrich_Gauss) publicó un trabajo en donde desarrollaba de manera más profunda el método de los mínimos cuadrados.\n",
    "\n",
    "El método de mínimos cuadrados ordinaries minimiza la suma de los residuales al cuadrado para todas las observaciones, buscando encontrar la función continua que mejor se aproxime a los datos, lo anterior se conoce como la línea que mejor se ajusta a los datos. En su forma más simple, intenta minimizar la suma de cuadrados de las diferencias en las ordenadas (llamadas residuos) entre los puntos generados por la función elegida y los correspondientes valores en los datos. Específicamente, se llama mínimos cuadrados promedio (LMS) cuando el número de datos medidos es 1 y se usa el método de descenso por gradiente para minimizar el residuo cuadrado. Se puede demostrar que LMS minimiza el residuo cuadrado esperado, con el mínimo de operaciones (por iteración), pero requiere un gran número de iteraciones para converger. \n",
    "\n",
    "Habitualmente, se hace uso de modelo de regresión lineal cuando una variable dependiente $Y$ es una variable de resultado que queremos explicar usando otras variables $X_{i}$. Las variables independientes son las variables que usamos para “explicar” la variación en la variable dependiente."
   ]
  },
  {
   "cell_type": "markdown",
   "metadata": {},
   "source": [
    "### Ejemplo de regresión lineal ![Ejemplo de una regresión lineal](https://upload.wikimedia.org/wikipedia/commons/thumb/3/3a/Linear_regression.svg/1280px-Linear_regression.svg.png)"
   ]
  },
  {
   "cell_type": "markdown",
   "metadata": {},
   "source": [
    "## Planteamiento del algoritmo"
   ]
  },
  {
   "cell_type": "markdown",
   "metadata": {},
   "source": [
    " la representación de la relación entre dos (o más) variables a través de un modelo formal supone contar con una expresión lógico-matemática que, aparte de resumir cómo es esa relación, va a permitir realizar predicciones de los valores que tomará una de las dos variables, la que se asuma como variable de respuesta, a partir de los valores de la que se\n",
    "asuma como variable explicativa.\n",
    "\n",
    "El modelo lineal relaciona la variable dependiente $Y$ con $m$ variables regresoras $X_{j}$ con $j=1,2,\\dots m$  o cualquier transformación de éstas que generen un hiperplano de parámetros $\\beta _{i}$ desconocidos:\n",
    "\n",
    "### $$h_\\beta(x) = \\beta_0 + \\beta_1x_1 + \\beta_2x_2 + ... + \\beta_nx_n + \\varepsilon_{i}$$\n",
    "\n",
    "- $Y$ es la variable dependiente\n",
    "- $\\beta_0$ es el intercepto\n",
    "- $\\beta_1$ es el coeficiente para $x_1$ (la primera variable regresora)\n",
    "- $\\beta_n$ es el coeficiente para $x_n$ (las e-nesimas variables regresoras)\n",
    "- $\\varepsilon_{i}$ es el error del modelo\n",
    "\n",
    "El método de mínimos cuadrados, encuentra los estimadores de los parámetros $\\beta_{0}$ y $\\beta_{1}$ tal que la suma de cuadrados de los residuales (diferencias entre el valor observado de $Y$ y el valor estimado $\\widehat{Y}_{i}$) sea mínima. Para la aplicación del método de mínimos cuadrados se debe:\n",
    "\n",
    "1. Definir la suma de cuadrados del error\n",
    "\n",
    "$$SC_{Error} = S(\\beta_0,\\beta_1) = \\sum_{i}^n \\varepsilon^2 = \\sum_{i}^n (Y_{i}-\\beta_0-\\beta_{1}X_{i})$$"
   ]
  },
  {
   "cell_type": "markdown",
   "metadata": {},
   "source": [
    "### Mínimos cuadrados ![Minimos cuadrados](https://www.researchgate.net/profile/Olman_Gomez-Espinoza2/publication/311548169/figure/fig1/AS:614257926352896@1523461910284/Figura-3-Representacion-de-los-minimos-cuadrados.png)"
   ]
  },
  {
   "cell_type": "markdown",
   "metadata": {},
   "source": [
    "2. Obtener la derivada de la suma de cuadrados del error con respecto a cada parámetro del modelo; es decir $\\frac{\\partial S}{\\partial \\beta_0}$ y $\\frac{\\partial S}{\\partial \\beta_1}$\n",
    "\n",
    "3. Igualar las derivadas a cero y simplificar (se debe sustituir $\\beta_{0}$ y $\\beta_{1}$ por sus respectivos estimadores $b_{0}$ y $b_{1}$)\n",
    "\n",
    "#### $$-2 \\sum_{i}^n (Y_{i}-b_{0}-b_{1}X_{i} = 0$$\n",
    "#### $$-2 \\sum_{i}^n X_i(Y_{i}-b_{0}-b_{1}X_{i} = 0$$\n",
    "\n",
    "4. Solucionar el sistema de ecuaciones o ecuaciones normales lo que arroja una solución de $b_{0}$ y $b_{1}$\n",
    "\n",
    "#### $$b_0 = \\bar Y  - b_1\\bar X $$\n",
    "#### $$\\bar Y = b_0 + b_{1}X$$\n"
   ]
  },
  {
   "cell_type": "markdown",
   "metadata": {},
   "source": [
    "Sin embargo, para los siguientes ejemplos practicos, implementaremos la solución matricial bajo la siguiente formula para minimizar el error cuadratico medio (MCO) para la estimación de los parámetros $\\beta$ como se presenta a continuación:\n",
    "\n",
    "#### $$\\beta = (X^T X)^{-1} X^T Y$$"
   ]
  },
  {
   "cell_type": "markdown",
   "metadata": {},
   "source": [
    "## Ejemplo practico \n",
    "\n",
    "### Regresión Lineal Simple"
   ]
  },
  {
   "cell_type": "code",
   "execution_count": 1,
   "metadata": {},
   "outputs": [],
   "source": [
    "### Librerías de trabajo\n",
    "\n",
    "import pandas as pd\n",
    "import numpy as np\n",
    "\n",
    "%matplotlib inline\n",
    "import matplotlib.pyplot as plt"
   ]
  },
  {
   "cell_type": "code",
   "execution_count": 55,
   "metadata": {},
   "outputs": [
    {
     "data": {
      "text/html": [
       "<div>\n",
       "<style scoped>\n",
       "    .dataframe tbody tr th:only-of-type {\n",
       "        vertical-align: middle;\n",
       "    }\n",
       "\n",
       "    .dataframe tbody tr th {\n",
       "        vertical-align: top;\n",
       "    }\n",
       "\n",
       "    .dataframe thead th {\n",
       "        text-align: right;\n",
       "    }\n",
       "</style>\n",
       "<table border=\"1\" class=\"dataframe\">\n",
       "  <thead>\n",
       "    <tr style=\"text-align: right;\">\n",
       "      <th></th>\n",
       "      <th>area</th>\n",
       "      <th>bedroom</th>\n",
       "      <th>price</th>\n",
       "    </tr>\n",
       "  </thead>\n",
       "  <tbody>\n",
       "    <tr>\n",
       "      <td>0</td>\n",
       "      <td>2104</td>\n",
       "      <td>3</td>\n",
       "      <td>399900</td>\n",
       "    </tr>\n",
       "    <tr>\n",
       "      <td>1</td>\n",
       "      <td>1600</td>\n",
       "      <td>3</td>\n",
       "      <td>329900</td>\n",
       "    </tr>\n",
       "    <tr>\n",
       "      <td>2</td>\n",
       "      <td>2400</td>\n",
       "      <td>3</td>\n",
       "      <td>369000</td>\n",
       "    </tr>\n",
       "    <tr>\n",
       "      <td>3</td>\n",
       "      <td>1416</td>\n",
       "      <td>2</td>\n",
       "      <td>232000</td>\n",
       "    </tr>\n",
       "    <tr>\n",
       "      <td>4</td>\n",
       "      <td>3000</td>\n",
       "      <td>4</td>\n",
       "      <td>539900</td>\n",
       "    </tr>\n",
       "  </tbody>\n",
       "</table>\n",
       "</div>"
      ],
      "text/plain": [
       "   area  bedroom   price\n",
       "0  2104        3  399900\n",
       "1  1600        3  329900\n",
       "2  2400        3  369000\n",
       "3  1416        2  232000\n",
       "4  3000        4  539900"
      ]
     },
     "execution_count": 55,
     "metadata": {},
     "output_type": "execute_result"
    }
   ],
   "source": [
    "## Lectura de datos con pandas\n",
    "\n",
    "data = pd.read_csv('houses_portland.csv')\n",
    "data.head()"
   ]
  },
  {
   "cell_type": "code",
   "execution_count": 56,
   "metadata": {},
   "outputs": [
    {
     "data": {
      "text/plain": [
       "Text(0, 0.5, 'Price')"
      ]
     },
     "execution_count": 56,
     "metadata": {},
     "output_type": "execute_result"
    },
    {
     "data": {
      "image/png": "[encoded data removed]",
      "text/plain": [
       "<Figure size 432x288 with 1 Axes>"
      ]
     },
     "metadata": {
      "needs_background": "light"
     },
     "output_type": "display_data"
    }
   ],
   "source": [
    "### Variables con las que se trabajara el modelo de regresión lineal simple\n",
    "\n",
    "y = data[' price'].values\n",
    "X = data['area'].values\n",
    "plt.scatter(X, y, alpha = 0.8)\n",
    "plt.xlabel('Area')\n",
    "plt.ylabel('Price')"
   ]
  },
  {
   "cell_type": "markdown",
   "metadata": {},
   "source": [
    "#### Normalización del conjunto de datos "
   ]
  },
  {
   "cell_type": "markdown",
   "metadata": {},
   "source": [
    "Se implementara la siguiente normalización de los datos entendiendo que la variable Price y Area tienen magnitudes muy diferentes, por lo que aplicaremos la siguiente formula a las variables con la que se realizará el modelo.\n",
    "\n",
    "## $$ x = \\frac{x -\\overline x}{\\sigma_x} $$ "
   ]
  },
  {
   "cell_type": "code",
   "execution_count": 75,
   "metadata": {},
   "outputs": [
    {
     "data": {
      "image/png": "[encoded data removed]",
      "text/plain": [
       "<Figure size 432x288 with 1 Axes>"
      ]
     },
     "metadata": {
      "needs_background": "light"
     },
     "output_type": "display_data"
    }
   ],
   "source": [
    "y_mean, y_std = y.mean(), y.std()\n",
    "X_mean, X_std = X.mean(), X.std()\n",
    "\n",
    "y_norm = np.array((y - y_mean)/ y_std)\n",
    "X_norm = np.array((X - X_mean)/ X_std)\n",
    "\n",
    "plt.scatter(X_norm, y_norm, alpha = 0.8)\n",
    "plt.xlabel('Area')\n",
    "plt.ylabel('Price')\n",
    "\n",
    "## Añadiremos la columna de unos para la estimación de beta_0\n",
    "\n",
    "X_norm = np.array([np.ones(np.shape(data)[0]),X_norm]).T\n",
    "\n",
    "B = np.linalg.inv(X_norm.T @ X_norm) @ X_norm.T @ y_norm\n",
    "\n",
    "## Dibujar la linea recta con los parámetros de Beta estimados\n",
    "\n",
    "plt.plot([-1,3],[B[0]+B[1]*(-1), B[0] + B[1]*3], c=\"red\")\n",
    "plt.show()"
   ]
  },
  {
   "cell_type": "code",
   "execution_count": 71,
   "metadata": {},
   "outputs": [
    {
     "name": "stdout",
     "output_type": "stream",
     "text": [
      "[-7.97972799e-17  8.54987593e-01]\n"
     ]
    }
   ],
   "source": [
    "## Estimación de los parámetros de beta\n",
    "\n",
    "print(B)"
   ]
  },
  {
   "cell_type": "code",
   "execution_count": null,
   "metadata": {},
   "outputs": [],
   "source": []
  }
 ],
 "metadata": {
  "kernelspec": {
   "display_name": "Python 3",
   "language": "python",
   "name": "python3"
  },
  "language_info": {
   "codemirror_mode": {
    "name": "ipython",
    "version": 3
   },
   "file_extension": ".py",
   "mimetype": "text/x-python",
   "name": "python",
   "nbconvert_exporter": "python",
   "pygments_lexer": "ipython3",
   "version": "3.7.4"
  }
 },
 "nbformat": 4,
 "nbformat_minor": 2
}
