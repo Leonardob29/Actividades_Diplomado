{
 "cells": [
  {
   "cell_type": "markdown",
   "metadata": {},
   "source": [
    "# Actividad sobre regresión lineal"
   ]
  },
  {
   "cell_type": "markdown",
   "metadata": {},
   "source": [
    "### Autor: Edwin Leonardo Buitrago Ch."
   ]
  },
  {
   "cell_type": "markdown",
   "metadata": {},
   "source": [
    "## Contenido\n",
    "\n",
    "* Introducción\n",
    "* Historia\n",
    "* Planteamiento del algoritmo\n",
    "* Ejemplo\n",
    "* Conclusiones"
   ]
  },
  {
   "cell_type": "markdown",
   "metadata": {},
   "source": [
    "## Introducción"
   ]
  },
  {
   "cell_type": "markdown",
   "metadata": {},
   "source": [
    "En el siguiente cuaderno de jupyter encontraremos información general sobre la aplicación del modelo matemático de regresión lineal para los casos simples y múltiples, se presentará una breve contextualización de su historia y de como surge este modelo que permite usado para aproximar la relación de dependencia entre una variable dependiente $Y$, para $m$ variables independientes $X_{i}$, que se verá mejor contextualizado con un ejemplo que busca estimar el valor de una vivienda para una ciudad en estados unidos según una serie de datos recopilados sobre las viviendas, y por último, daremos unas conclusiones frente a la implementación y los resultados sobre la aplicación de este modelo."
   ]
  },
  {
   "cell_type": "markdown",
   "metadata": {},
   "source": [
    "## Historia del modelo de regresión lineal"
   ]
  },
  {
   "cell_type": "markdown",
   "metadata": {},
   "source": [
    "Como se puede observar en [Wikipedia](https://es.wikipedia.org/wiki/Regresi%C3%B3n_lineal), la historia sobre el modelo de regresión lineal fue expuesto sobre el método de los mínimos cuadrados publicado por [Legendre](https://es.wikipedia.org/wiki/Adrien-Marie_Legendre) en 1805, sin embargo, [Gauss](https://es.wikipedia.org/wiki/Carl_Friedrich_Gauss) publicó un trabajo en donde desarrollaba de manera más profunda el método de los mínimos cuadrados.\n",
    "\n",
    "El método de mínimos cuadrados ordinaries minimiza la suma de los residuales al cuadrado para todas las observaciones, buscando encontrar la función continua que mejor se aproxime a los datos, lo anterior se conoce como la línea que mejor se ajusta a los datos. En su forma más simple, intenta minimizar la suma de cuadrados de las diferencias en las ordenadas (llamadas residuos) entre los puntos generados por la función elegida y los correspondientes valores en los datos. Específicamente, se llama mínimos cuadrados promedio (LMS) cuando el número de datos medidos es 1 y se usa el método de descenso por gradiente para minimizar el residuo cuadrado. Se puede demostrar que LMS minimiza el residuo cuadrado esperado, con el mínimo de operaciones (por iteración), pero requiere un gran número de iteraciones para converger. \n",
    "\n",
    "Habitualmente, se hace uso de modelo de regresión lineal cuando una variable dependiente $Y$ es una variable de resultado que queremos explicar usando otras variables $X_{i}$. Las variables independientes son las variables que usamos para “explicar” la variación en la variable dependiente."
   ]
  },
  {
   "cell_type": "markdown",
   "metadata": {},
   "source": [
    "![Ejemplo de una regresión lineal](https://upload.wikimedia.org/wikipedia/commons/thumb/3/3a/Linear_regression.svg/1280px-Linear_regression.svg.png)"
   ]
  },
  {
   "cell_type": "code",
   "execution_count": null,
   "metadata": {},
   "outputs": [],
   "source": []
  }
 ],
 "metadata": {
  "kernelspec": {
   "display_name": "Python 3",
   "language": "python",
   "name": "python3"
  },
  "language_info": {
   "codemirror_mode": {
    "name": "ipython",
    "version": 3
   },
   "file_extension": ".py",
   "mimetype": "text/x-python",
   "name": "python",
   "nbconvert_exporter": "python",
   "pygments_lexer": "ipython3",
   "version": "3.7.4"
  }
 },
 "nbformat": 4,
 "nbformat_minor": 2
}
